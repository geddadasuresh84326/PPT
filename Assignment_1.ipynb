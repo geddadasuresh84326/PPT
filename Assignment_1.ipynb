{
 "cells": [
  {
   "cell_type": "markdown",
   "id": "392c6ffe",
   "metadata": {},
   "source": [
    "## Question 1\n"
   ]
  },
  {
   "cell_type": "code",
   "execution_count": 1,
   "id": "f2027f57",
   "metadata": {},
   "outputs": [],
   "source": [
    "def target_num(arr,target):\n",
    "    i = 0\n",
    "    j = len(arr)-1\n",
    "    while(i<j):\n",
    "        if(arr[i] + arr[j] == target):\n",
    "            return [i,j]\n",
    "        elif(arr[i] + arr[j] < target):\n",
    "            i +=1\n",
    "        else:\n",
    "            j -=1\n",
    "    return \"target not found\""
   ]
  },
  {
   "cell_type": "code",
   "execution_count": 2,
   "id": "bef8ef3d",
   "metadata": {},
   "outputs": [
    {
     "name": "stdout",
     "output_type": "stream",
     "text": [
      "[0, 1]\n"
     ]
    }
   ],
   "source": [
    "print(target_num([2,7,11,15],9))"
   ]
  },
  {
   "cell_type": "markdown",
   "id": "4f9adc9a",
   "metadata": {},
   "source": [
    "## Question 2 \n"
   ]
  },
  {
   "cell_type": "code",
   "execution_count": 3,
   "id": "e8f8199f",
   "metadata": {},
   "outputs": [
    {
     "data": {
      "text/plain": [
       "[2, 2]"
      ]
     },
     "execution_count": 3,
     "metadata": {},
     "output_type": "execute_result"
    }
   ],
   "source": [
    "def remove_all_occurrences(arr,val):\n",
    "    for i in arr:\n",
    "        if i == val:\n",
    "            arr.remove(i)\n",
    "    return arr\n",
    "nums = [3,2,2,3]\n",
    "remove_all_occurrences(nums,3)"
   ]
  },
  {
   "cell_type": "markdown",
   "id": "e8cbec2c",
   "metadata": {},
   "source": [
    "## Question 3"
   ]
  },
  {
   "cell_type": "code",
   "execution_count": 4,
   "id": "a7147e4a",
   "metadata": {},
   "outputs": [
    {
     "data": {
      "text/plain": [
       "3"
      ]
     },
     "execution_count": 4,
     "metadata": {},
     "output_type": "execute_result"
    }
   ],
   "source": [
    "def target_element(arr,target):\n",
    "    start = 0\n",
    "    end = len(arr)-1\n",
    "    mid = 0\n",
    "    while(start <= end):\n",
    "        mid = (start + end)//2\n",
    "        if arr[mid] == target:\n",
    "            return mid\n",
    "        elif arr[mid] > target:\n",
    "            end = mid - 1\n",
    "        else:\n",
    "            start = mid + 1\n",
    "    return start - 1\n",
    "target_element([1,3,4,5],6)"
   ]
  },
  {
   "cell_type": "markdown",
   "id": "fe362325",
   "metadata": {},
   "source": [
    "## Question 4"
   ]
  },
  {
   "cell_type": "code",
   "execution_count": 5,
   "id": "1f841fbf",
   "metadata": {},
   "outputs": [
    {
     "data": {
      "text/plain": [
       "[1, 2, 4]"
      ]
     },
     "execution_count": 5,
     "metadata": {},
     "output_type": "execute_result"
    }
   ],
   "source": [
    "def large_integer(arr):\n",
    "    sum = \"\"\n",
    "    for i in arr:\n",
    "        sum +=str(i)\n",
    "    sum = int(sum)+1\n",
    "    temp = sum\n",
    "    len_num = 0\n",
    "    while(sum > 0):\n",
    "        sum //=10\n",
    "        len_num +=1\n",
    "    result = [0]*len_num\n",
    "    i = len(result)-1\n",
    "    while(temp > 0):\n",
    "        rem = temp % 10\n",
    "        result[i] = rem\n",
    "        i -=1\n",
    "        temp //=10\n",
    "    return result\n",
    "large_integer([1,2,3])    "
   ]
  },
  {
   "cell_type": "markdown",
   "id": "9a559f1c",
   "metadata": {},
   "source": [
    "## Question 5"
   ]
  },
  {
   "cell_type": "code",
   "execution_count": 6,
   "id": "7b1f97b8",
   "metadata": {},
   "outputs": [
    {
     "name": "stdout",
     "output_type": "stream",
     "text": [
      "[1, 2, 2, 3, 5, 6]\n"
     ]
    }
   ],
   "source": [
    "nums1 = [1,2,3,0,0,0]\n",
    "nums2 = [2,5,6]\n",
    "\n",
    "m = 3\n",
    "n = 3\n",
    "len = m+n\n",
    "i = 0\n",
    "while(m < len):\n",
    "    nums1[m] = nums2[i]\n",
    "    i +=1\n",
    "    m +=1\n",
    "print(sorted(nums1))"
   ]
  },
  {
   "cell_type": "markdown",
   "id": "ead37bd7",
   "metadata": {},
   "source": [
    "## Question 6"
   ]
  },
  {
   "cell_type": "code",
   "execution_count": 7,
   "id": "1dea1b7b",
   "metadata": {},
   "outputs": [
    {
     "data": {
      "text/plain": [
       "True"
      ]
     },
     "execution_count": 7,
     "metadata": {},
     "output_type": "execute_result"
    }
   ],
   "source": [
    "def distinct_element(arr):\n",
    "    dict = {}\n",
    "    for i in arr:\n",
    "        if i not in dict:\n",
    "            dict[i] = 1\n",
    "        else:\n",
    "            dict[i] += 1\n",
    "    for i in dict.values():\n",
    "        if i >=2:\n",
    "            return True\n",
    "        else:\n",
    "            return False\n",
    "distinct_element([1,2,3,1])"
   ]
  },
  {
   "cell_type": "markdown",
   "id": "572d0335",
   "metadata": {},
   "source": [
    "## Question 7"
   ]
  },
  {
   "cell_type": "code",
   "execution_count": 4,
   "id": "825f224f",
   "metadata": {},
   "outputs": [
    {
     "data": {
      "text/plain": [
       "[2, 5, 4, 0, 0]"
      ]
     },
     "execution_count": 4,
     "metadata": {},
     "output_type": "execute_result"
    }
   ],
   "source": [
    "def moving_all_zeros_to_end(arr):\n",
    "    j = 0\n",
    "    for i in range(len(arr)):\n",
    "        if arr[i] !=0 and arr[j] == 0:\n",
    "            temp = arr[i]\n",
    "            arr[i] = arr[j]\n",
    "            arr[j] = temp\n",
    "            j +=1\n",
    "    return arr\n",
    "moving_all_zeros_to_end([0,2,5,0,4])"
   ]
  },
  {
   "cell_type": "markdown",
   "id": "2ab40dec",
   "metadata": {},
   "source": [
    "## Question 8"
   ]
  },
  {
   "cell_type": "code",
   "execution_count": 3,
   "id": "eddb92f6",
   "metadata": {},
   "outputs": [
    {
     "data": {
      "text/plain": [
       "[2, 3]"
      ]
     },
     "execution_count": 3,
     "metadata": {},
     "output_type": "execute_result"
    }
   ],
   "source": [
    "def missing_number(arr):\n",
    "    sorted(arr)\n",
    "    ln = len(arr)-1\n",
    "    for i in range(ln):\n",
    "        if arr[i] == arr[i+1]:\n",
    "            return [arr[i],arr[i]+1]\n",
    "missing_number([1,2,2,4])\n"
   ]
  },
  {
   "cell_type": "code",
   "execution_count": null,
   "id": "bc10e5a5",
   "metadata": {},
   "outputs": [],
   "source": []
  }
 ],
 "metadata": {
  "kernelspec": {
   "display_name": "Python 3 (ipykernel)",
   "language": "python",
   "name": "python3"
  },
  "language_info": {
   "codemirror_mode": {
    "name": "ipython",
    "version": 3
   },
   "file_extension": ".py",
   "mimetype": "text/x-python",
   "name": "python",
   "nbconvert_exporter": "python",
   "pygments_lexer": "ipython3",
   "version": "3.10.9"
  }
 },
 "nbformat": 4,
 "nbformat_minor": 5
}
