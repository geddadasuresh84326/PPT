{
 "cells": [
  {
   "cell_type": "markdown",
   "id": "4f199f66",
   "metadata": {},
   "source": [
    "## Question 1\n",
    "\n",
    "### Given an integer `n`, return *`true` if it is a power of three. Otherwise, return `false`*. An integer `n` is a power of three, if there exists an integer `x` such that `n == 3x`.\n",
    "\n",
    "#### - Example 1:\n",
    "\n",
    "\n",
    "- Input: n = 27\n",
    "- Output: true\n",
    "- Explanation: 27 = 33\n",
    "\n",
    "\n",
    "#### - Example 2:\n",
    "\n",
    "\n",
    "- Input: n = 0\n",
    "- Output: false\n",
    "- Explanation: There is no x where 3x = 0.\n"
   ]
  },
  {
   "cell_type": "code",
   "execution_count": 2,
   "id": "2f773b45",
   "metadata": {},
   "outputs": [
    {
     "data": {
      "text/plain": [
       "False"
      ]
     },
     "execution_count": 2,
     "metadata": {},
     "output_type": "execute_result"
    }
   ],
   "source": [
    "class solution:\n",
    "    def power_of_three(self,num):\n",
    "        if(num <= 0):\n",
    "            return False\n",
    "        if(num == 1):\n",
    "            return True\n",
    "        if(num%3 != 0):\n",
    "            return False\n",
    "        return self.power_of_three(num / 3)\n",
    "s = solution()\n",
    "s.power_of_three(56)"
   ]
  },
  {
   "cell_type": "code",
   "execution_count": 3,
   "id": "2a67283a",
   "metadata": {},
   "outputs": [
    {
     "data": {
      "text/plain": [
       "False"
      ]
     },
     "execution_count": 3,
     "metadata": {},
     "output_type": "execute_result"
    }
   ],
   "source": [
    "s.power_of_three(0)"
   ]
  },
  {
   "cell_type": "code",
   "execution_count": 4,
   "id": "ad6cf555",
   "metadata": {},
   "outputs": [
    {
     "data": {
      "text/plain": [
       "True"
      ]
     },
     "execution_count": 4,
     "metadata": {},
     "output_type": "execute_result"
    }
   ],
   "source": [
    "s.power_of_three(27)"
   ]
  },
  {
   "cell_type": "markdown",
   "id": "77b14b82",
   "metadata": {},
   "source": [
    "## Question 2\n",
    "\n",
    "### You have a list `arr` of all integers in the range `[1, n]` sorted in a strictly increasing order. Apply the following algorithm on `arr`:\n",
    "\n",
    "- Starting from left to right, remove the first number and every other number afterward until you reach the end of the list.\n",
    "- Repeat the previous step again, but this time from right to left, remove the rightmost number and every other number from the remaining numbers.\n",
    "- Keep repeating the steps again, alternating left to right and right to left, until a single number remains.\n",
    "\n",
    "### Given the integer `n`, return *the last number that remains in* `arr`.\n",
    "\n",
    "#### - Example 1:\n",
    "\n",
    "- Input: n = 9\n",
    "- Output: 6\n",
    "- Explanation:\n",
    "- arr = [1, 2,3, 4,5, 6,7, 8,9]\n",
    "- arr = [2,4, 6,8]\n",
    "- arr = [2, 6]\n",
    "- arr = [6]"
   ]
  },
  {
   "cell_type": "code",
   "execution_count": 19,
   "id": "54c852b6",
   "metadata": {},
   "outputs": [
    {
     "name": "stdout",
     "output_type": "stream",
     "text": [
      "enter a number : 9\n",
      "[1, 2, 3, 4, 5, 6, 7, 8, 9]\n",
      "[1, 2, 3, 4, 5, 6, 7, 8, 9]\n",
      "[2, 4, 6, 8]\n",
      "[2, 6]\n"
     ]
    },
    {
     "data": {
      "text/plain": [
       "[6]"
      ]
     },
     "execution_count": 19,
     "metadata": {},
     "output_type": "execute_result"
    }
   ],
   "source": [
    "n = int(input(\"enter a number : \"))\n",
    "arr = [i for i in range(1,n+1)]\n",
    "print(arr)\n",
    "count = 1\n",
    "def last_number(count,arr):\n",
    "    if(len(arr) == 1):\n",
    "        return arr\n",
    "    print(arr)\n",
    "    if(count%2 == 0):\n",
    "        count += 1\n",
    "        return last_number(count,arr[::2])\n",
    "    else:\n",
    "        count += 1\n",
    "        return last_number(count,arr[1::2])\n",
    "last_number(count,arr)"
   ]
  },
  {
   "cell_type": "markdown",
   "id": "2a22dc00",
   "metadata": {},
   "source": [
    "## Question 3\n",
    "\n",
    "### Given a set represented as a string, write a recursive code to print all subsets of it. The subsets can be printed in any order.\n",
    "\n",
    "#### - Example 1:**\n",
    "\n",
    "- Input :  set = “abc”\n",
    "\n",
    "- Output : { “”, “a”, “b”, “c”, “ab”, “ac”, “bc”, “abc”}\n",
    "\n",
    "#### - Example 2:**\n",
    "\n",
    "- Input : set = “abcd”\n",
    "\n",
    "- Output : { “”, “a” ,”ab” ,”abc” ,”abcd”, “abd” ,”ac” ,”acd”, “ad” ,”b”, “bc” ,”bcd” ,”bd” ,”c” ,”cd” ,”d” }\n"
   ]
  },
  {
   "cell_type": "code",
   "execution_count": 30,
   "id": "83d652cb",
   "metadata": {},
   "outputs": [
    {
     "name": "stdout",
     "output_type": "stream",
     "text": [
      "\n",
      "a\n",
      "ab\n",
      "abc\n",
      "ac\n",
      "b\n",
      "bc\n",
      "c\n"
     ]
    }
   ],
   "source": [
    "def powerSet(str1, index, curr):\n",
    "    n = len(str1)\n",
    " \n",
    "    # base case\n",
    "    if (index == n):\n",
    "        return\n",
    " \n",
    "    # First print current subset\n",
    "    print(curr)\n",
    " \n",
    "    # Try appending remaining characters\n",
    "    # to current subset\n",
    "    for i in range(index + 1, n):\n",
    "        curr += str1[i]\n",
    "        powerSet(str1, i, curr)\n",
    " \n",
    "        # Once all subsets beginning with\n",
    "        # initial \"curr\" are printed, remove\n",
    "        # last character to consider a different\n",
    "        # prefix of subsets.\n",
    "        curr = curr.replace(curr[len(curr) - 1], \"\")\n",
    " \n",
    "    return\n",
    " \n",
    "powerSet(\"abc\", -1, \"\")"
   ]
  },
  {
   "cell_type": "markdown",
   "id": "85954a94",
   "metadata": {},
   "source": [
    "## Question 4\n",
    "\n",
    "### Given a string calculate length of the string using recursion.\n",
    "\n",
    "#### - Examples:\n",
    "\n",
    "- Input : str = \"abcd\"\n",
    "- Output :4\n",
    "\n",
    "- Input : str = \"GEEKSFORGEEKS\"\n",
    "- Output :13"
   ]
  },
  {
   "cell_type": "code",
   "execution_count": 22,
   "id": "598a7cf1",
   "metadata": {},
   "outputs": [
    {
     "data": {
      "text/plain": [
       "4"
      ]
     },
     "execution_count": 22,
     "metadata": {},
     "output_type": "execute_result"
    }
   ],
   "source": [
    "def len_of_str(count,str):\n",
    "    if(str == \"\"):\n",
    "        return count\n",
    "    count +=1\n",
    "    return len_of_str(count,str[1::])\n",
    "len_of_str(0,\"abcd\")"
   ]
  },
  {
   "cell_type": "code",
   "execution_count": 23,
   "id": "3ab21cf2",
   "metadata": {},
   "outputs": [
    {
     "data": {
      "text/plain": [
       "13"
      ]
     },
     "execution_count": 23,
     "metadata": {},
     "output_type": "execute_result"
    }
   ],
   "source": [
    "len_of_str(0,\"GEEKSFORGEEKS\")"
   ]
  },
  {
   "cell_type": "markdown",
   "id": "e82bea09",
   "metadata": {},
   "source": [
    "## Question 5\n",
    "\n",
    "### We are given a string S, we need to find count of all contiguous substrings starting and ending with same character.\n",
    "\n",
    "#### - Examples :\n",
    "\n",
    "- Input  : S = \"abcab\"\n",
    "- Output : 7\n",
    "- There are 15 substrings of \"abcab\" a, ab, abc, abca, abcab, b, bc, bca bcab, c, ca, cab, a, ab, b\n",
    "- Out of the above substrings, there are 7 substrings : a, abca, b, bcab, c, a and b.\n",
    "\n",
    "- Input  : S = \"aba\"\n",
    "- Output : 4\n",
    "- The substrings are a, b, a and aba"
   ]
  },
  {
   "cell_type": "code",
   "execution_count": 38,
   "id": "3299ce1a",
   "metadata": {},
   "outputs": [
    {
     "name": "stdout",
     "output_type": "stream",
     "text": [
      "a\n",
      "aba\n",
      "aa\n",
      "b\n",
      "a\n"
     ]
    }
   ],
   "source": [
    "def powerSet(str1, index, curr):\n",
    "    n = len(str1)\n",
    " \n",
    "    # base case\n",
    "    if (index == n):\n",
    "        return\n",
    " \n",
    "    # First print current subset\n",
    "    if curr !=\"\" and curr[0] == curr[-1]:\n",
    "        print(curr)\n",
    " \n",
    "    # Try appending remaining characters\n",
    "    # to current subset\n",
    "    for i in range(index + 1, n):\n",
    "        curr += str1[i]\n",
    "        powerSet(str1, i, curr)\n",
    " \n",
    "        # Once all subsets beginning with\n",
    "        # initial \"curr\" are printed, remove\n",
    "        # last character to consider a different\n",
    "        # prefix of subsets.\n",
    "        curr = curr.replace(curr[len(curr) - 1], \"\")\n",
    " \n",
    "    return\n",
    " \n",
    "powerSet(\"aba\", -1, \"\")"
   ]
  },
  {
   "cell_type": "markdown",
   "id": "d91afd8d",
   "metadata": {},
   "source": [
    "## Question 6\n",
    "\n",
    "### The [tower of Hanoi](https://en.wikipedia.org/wiki/Tower_of_Hanoi) is a famous puzzle where we have three rods and **N** disks. The objective of the puzzle is to move the entire stack to another rod. You are given the number of discs **N**. Initially, these discs are in the rod 1. You need to print all the steps of discs movement so that all the discs reach the 3rd rod. Also, you need to find the total moves.**Note:** The discs are arranged such that the **top disc is numbered 1** and the **bottom-most disc is numbered N**. Also, all the discs have **different sizes** and a bigger disc **cannot** be put on the top of a smaller disc. Refer the provided link to get a better clarity about the puzzle.\n",
    "\n",
    "#### - Example 1:\n",
    "- Input:\n",
    "- N = 2\n",
    "- Output:\n",
    "- move disk 1 from rod 1 to rod 2\n",
    "- move disk 2 from rod 1 to rod 3\n",
    "- move disk 1 from rod 2 to rod 3\n",
    "- 3\n",
    "- Explanation:For N=2 , steps will be\n",
    "as follows in the example and total\n",
    "3 steps will be taken.\n"
   ]
  },
  {
   "cell_type": "code",
   "execution_count": 42,
   "id": "1cf11357",
   "metadata": {},
   "outputs": [
    {
     "name": "stdout",
     "output_type": "stream",
     "text": [
      "Move disk 1 from rod 1 to rod 2\n",
      "Move disk 2 from rod 1 to rod 3\n",
      "Move disk 1 from rod 2 to rod 3\n"
     ]
    }
   ],
   "source": [
    "def TowerOfHanoi(n, from_rod, to_rod, aux_rod):\n",
    "    if n == 0:\n",
    "        return\n",
    "    TowerOfHanoi(n-1, from_rod, aux_rod, to_rod)\n",
    "    print(\"Move disk\", n, \"from rod\", from_rod, \"to rod\", to_rod)\n",
    "    TowerOfHanoi(n-1, aux_rod, to_rod, from_rod)\n",
    "  \n",
    "  \n",
    "# Driver code\n",
    "N = 2\n",
    "  \n",
    "# A, C, B are the name of rods\n",
    "TowerOfHanoi(N, '1', '3', '2')"
   ]
  },
  {
   "cell_type": "markdown",
   "id": "11bbf6b8",
   "metadata": {},
   "source": [
    "## Question 8\n",
    "\n",
    "### Given a string, count total number of consonants in it. A consonant is an English alphabet character that is not vowel (a, e, i, o and u). Examples of constants are b, c, d, f, and g.\n",
    "\n",
    "#### - Examples :\n",
    "- Input : abc de\n",
    "- Output : 3\n",
    "- There are three consonants b, c and d.\n",
    "\n",
    "- Input : geeksforgeeks portal\n",
    "- Output : 12"
   ]
  },
  {
   "cell_type": "code",
   "execution_count": 27,
   "id": "87f27ca6",
   "metadata": {},
   "outputs": [
    {
     "data": {
      "text/plain": [
       "3"
      ]
     },
     "execution_count": 27,
     "metadata": {},
     "output_type": "execute_result"
    }
   ],
   "source": [
    "def num_of_consonants(count,str):\n",
    "    if(str == \"\"):\n",
    "        return count\n",
    "    res = str[0]\n",
    "    if(res not in ['a','e','i','o','u',\" \"]):\n",
    "        count +=1\n",
    "    return num_of_consonants(count,str[1::])\n",
    "num_of_consonants(0,\"abc de\")"
   ]
  },
  {
   "cell_type": "code",
   "execution_count": null,
   "id": "2db81065",
   "metadata": {},
   "outputs": [],
   "source": []
  }
 ],
 "metadata": {
  "kernelspec": {
   "display_name": "Python 3 (ipykernel)",
   "language": "python",
   "name": "python3"
  },
  "language_info": {
   "codemirror_mode": {
    "name": "ipython",
    "version": 3
   },
   "file_extension": ".py",
   "mimetype": "text/x-python",
   "name": "python",
   "nbconvert_exporter": "python",
   "pygments_lexer": "ipython3",
   "version": "3.10.9"
  }
 },
 "nbformat": 4,
 "nbformat_minor": 5
}
