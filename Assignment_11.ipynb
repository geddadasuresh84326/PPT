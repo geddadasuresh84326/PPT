{
 "cells": [
  {
   "cell_type": "markdown",
   "id": "e18e26ce",
   "metadata": {},
   "source": [
    "## Question 1\n",
    "\n",
    "### Given a non-negative integer `x`, return *the square root of* `x` *rounded down to the nearest integer*. The returned integer should be **non-negative** as well. You **must not use** any built-in exponent function or operator.\n",
    "\n",
    "- For example, do not use `pow(x, 0.5)` in c++ or `x ** 0.5` in python.\n",
    "\n",
    "#### - Example 1:\n",
    "\n",
    "- Input: x = 4\n",
    "- Output: 2\n",
    "- Explanation: The square root of 4 is 2, so we return 2.\n",
    "\n",
    "\n",
    "#### - Example 2:\n",
    "- Input: x = 8\n",
    "- Output: 2\n",
    "- Explanation: The square root of 8 is 2.82842..., and since we round it down to the nearest integer, 2 is returned."
   ]
  },
  {
   "cell_type": "code",
   "execution_count": 6,
   "id": "b2d0030e",
   "metadata": {},
   "outputs": [
    {
     "name": "stdout",
     "output_type": "stream",
     "text": [
      "2\n"
     ]
    }
   ],
   "source": [
    "def floorSqrt(x):\n",
    " \n",
    "    # Base cases\n",
    "    if (x == 0 or x == 1):\n",
    "        return x\n",
    " \n",
    "    # Starting from 1, try all numbers until\n",
    "    # i*i is greater than or equal to x.\n",
    "    i = 1\n",
    "    result = 1\n",
    "    while (result <= x):\n",
    " \n",
    "        i += 1\n",
    "        result = i * i\n",
    " \n",
    "    return i - 1\n",
    " \n",
    "x = 8\n",
    "print(floorSqrt(x))"
   ]
  },
  {
   "cell_type": "markdown",
   "id": "7615d293",
   "metadata": {},
   "source": [
    "## Question 2\n",
    "\n",
    "### A peak element is an element that is strictly greater than its neighbors. Given a **0-indexed** integer array `nums`, find a peak element, and return its index. If the array contains multiple peaks, return the index to **any of the peaks**. You may imagine that `nums[-1] = nums[n] = -∞`. In other words, an element is always considered to be strictly greater than a neighbor that is outside the array. You must write an algorithm that runs in `O(log n)` time.\n",
    "\n",
    "#### - Example 1:\n",
    "\n",
    "\n",
    "- Input: nums = [1,2,3,1]\n",
    "- Output: 2\n",
    "- Explanation: 3 is a peak element and your function should return the index number 2.\n"
   ]
  },
  {
   "cell_type": "code",
   "execution_count": 17,
   "id": "6e4154d9",
   "metadata": {},
   "outputs": [
    {
     "name": "stdout",
     "output_type": "stream",
     "text": [
      "Index of a peak point is 2\n"
     ]
    }
   ],
   "source": [
    "def findPeak(arr, n) :\n",
    " \n",
    "    # first or last element is peak element\n",
    "    if (n == 1) :\n",
    "        return 0\n",
    "    if (arr[0] >= arr[1]) :\n",
    "        return 0\n",
    "    if (arr[n - 1] >= arr[n - 2]) :\n",
    "        return n - 1\n",
    "  \n",
    "    # check for every other element\n",
    "    for i in range(1, n - 1) :\n",
    "  \n",
    "        # check if the neighbors are smaller\n",
    "        if (arr[i] >= arr[i - 1] and arr[i] >= arr[i + 1]) :\n",
    "            return i\n",
    "             \n",
    "arr = [ 1, 3, 20, 4, 1, 0 ]\n",
    "n = len(arr)\n",
    "print(\"Index of a peak point is\", findPeak(arr, n))\n",
    " "
   ]
  },
  {
   "cell_type": "markdown",
   "id": "f70f888b",
   "metadata": {},
   "source": [
    "## Question 3\n",
    "\n",
    "### Given an array `nums` containing `n` distinct numbers in the range `[0, n]`, return *the only number in the range that is missing from the array.*\n",
    "\n",
    "#### - Example 1:\n",
    "\n",
    "\n",
    "- Input: nums = [3,0,1]\n",
    "- Output: 2\n",
    "- Explanation: n = 3 since there are 3 numbers, so all numbers are in the range [0,3]. 2 is the missing number in the range since it does not appear in nums.\n",
    "\n",
    "\n",
    "#### - Example 2:\n",
    "- Input: nums = [0,1]\n",
    "- Output: 2\n",
    "- Explanation: n = 2 since there are 2 numbers, so all numbers are in the range [0,2]. 2 is the missing number in the range since it does not appear in nums.\n"
   ]
  },
  {
   "cell_type": "code",
   "execution_count": 10,
   "id": "0ce97bac",
   "metadata": {},
   "outputs": [
    {
     "name": "stdout",
     "output_type": "stream",
     "text": [
      "0\n"
     ]
    }
   ],
   "source": [
    "def missing_number(arr):\n",
    "    n = len(arr)\n",
    "    original_sum = (n*(n+1))/2\n",
    "    actual_sum = 0\n",
    "    for i in arr:\n",
    "        actual_sum +=i\n",
    "    if(actual_sum != original_sum):\n",
    "        print(round(original_sum - actual_sum))\n",
    "    else:\n",
    "        print(0)\n",
    "missing_number([3,2,1])"
   ]
  },
  {
   "cell_type": "code",
   "execution_count": 11,
   "id": "7f53734e",
   "metadata": {},
   "outputs": [
    {
     "name": "stdout",
     "output_type": "stream",
     "text": [
      "8\n"
     ]
    }
   ],
   "source": [
    "missing_number([9,0,1,2,3,4,5,6,7])"
   ]
  },
  {
   "cell_type": "markdown",
   "id": "42ebbe6e",
   "metadata": {},
   "source": [
    "## Question 4\n",
    "\n",
    "### Given an array of integers `nums` containing `n + 1` integers where each integer is in the range `[1, n]` inclusive. There is only **one repeated number** in `nums`, return *this repeated number*. You must solve the problem **without** modifying the array `nums` and uses only constant extra space.\n",
    "\n",
    "#### - Example 1:\n",
    "\n",
    "- Input: nums = [1,3,4,2,2]\n",
    "- Output: 2\n"
   ]
  },
  {
   "cell_type": "code",
   "execution_count": 18,
   "id": "bc6f82f9",
   "metadata": {},
   "outputs": [
    {
     "name": "stdout",
     "output_type": "stream",
     "text": [
      "2\n"
     ]
    }
   ],
   "source": [
    "nums = [1,3,4,2,2]\n",
    "def repeatedElement(arr):\n",
    "    lst = []\n",
    "    for i in arr:\n",
    "        if(i not in lst):\n",
    "            lst.append(i)\n",
    "        else:\n",
    "            return i\n",
    "print(repeatedElement(nums))"
   ]
  },
  {
   "cell_type": "markdown",
   "id": "cbec382a",
   "metadata": {},
   "source": [
    "## Question 5\n",
    "\n",
    "### Given two integer arrays `nums1` and `nums2`, return *an array of their intersection*. Each element in the result must be **unique** and you may return the result in **any order**.\n",
    "\n",
    "#### - Example 1:\n",
    "\n",
    "- Input: nums1 = [1,2,2,1], nums2 = [2,2]\n",
    "- Output: [2]\n",
    "\n",
    "#### - Example 2:\n",
    "\n",
    "- Input: nums1 = [4,9,5], nums2 = [9,4,9,8,4]\n",
    "- Output: [9,4]\n",
    "- Explanation: [4,9] is also accepted."
   ]
  },
  {
   "cell_type": "code",
   "execution_count": 4,
   "id": "e3be2c39",
   "metadata": {},
   "outputs": [
    {
     "data": {
      "text/plain": [
       "[2]"
      ]
     },
     "execution_count": 4,
     "metadata": {},
     "output_type": "execute_result"
    }
   ],
   "source": [
    "def common_elements(arr1,arr2):\n",
    "    result = set()\n",
    "    for i in arr1:\n",
    "        if(i in arr2):\n",
    "            result.add(i)\n",
    "    return list(result)\n",
    "common_elements([1,2,2,1],[2,2])"
   ]
  },
  {
   "cell_type": "markdown",
   "id": "8b7a7c98",
   "metadata": {},
   "source": [
    "## Question 6\n",
    "\n",
    "### Suppose an array of length `n` sorted in ascending order is **rotated** between `1` and `n` times. For example, the array `nums = [0,1,2,4,5,6,7]` might become:\n",
    "\n",
    "- `[4,5,6,7,0,1,2]` if it was rotated `4` times.\n",
    "- `[0,1,2,4,5,6,7]` if it was rotated `7` times.\n",
    "\n",
    "### Notice that **rotating** an array `[a[0], a[1], a[2], ..., a[n-1]]` 1 time results in the array `[a[n-1], a[0], a[1], a[2], ..., a[n-2]]`. Given the sorted rotated array `nums` of **unique** elements, return *the minimum element of this array*. You must write an algorithm that runs in `O(log n) time.`\n",
    "\n",
    "#### - Example 1:\n",
    "\n",
    "- Input: nums = [3,4,5,1,2]\n",
    "- Output: 1\n",
    "- Explanation: The original array was [1,2,3,4,5] rotated 3 times.\n"
   ]
  },
  {
   "cell_type": "code",
   "execution_count": 15,
   "id": "f533077a",
   "metadata": {},
   "outputs": [
    {
     "data": {
      "text/plain": [
       "1"
      ]
     },
     "execution_count": 15,
     "metadata": {},
     "output_type": "execute_result"
    }
   ],
   "source": [
    "def min_element(arr):\n",
    "    return min(arr)\n",
    "min_element([3,4,5,1,2])"
   ]
  },
  {
   "cell_type": "markdown",
   "id": "02bae5ab",
   "metadata": {},
   "source": [
    "## Question 7\n",
    "\n",
    "### Given an array of integers `nums` sorted in non-decreasing order, find the starting and ending position of a given `target` value. If `target` is not found in the array, return `[-1, -1]`. You must write an algorithm with `O(log n)` runtime complexity.\n",
    "\n",
    "#### - Example 1:\n",
    "\n",
    "- Input: nums = [5,7,7,8,8,10], target = 8\n",
    "- Output: [3,4]\n",
    "\n",
    "\n",
    "#### - Example 2:\n",
    "\n",
    "- Input: nums = [5,7,7,8,8,10], target = 6\n",
    "- Output: [-1,-1]\n"
   ]
  },
  {
   "cell_type": "code",
   "execution_count": 16,
   "id": "355f79da",
   "metadata": {},
   "outputs": [
    {
     "data": {
      "text/plain": [
       "[4, 3]"
      ]
     },
     "execution_count": 16,
     "metadata": {},
     "output_type": "execute_result"
    }
   ],
   "source": [
    "def binary_search(arr,target):\n",
    "    start = 0 \n",
    "    end = len(arr)-1\n",
    "    \n",
    "    while(start <= end):\n",
    "        mid = (start + end)//2\n",
    "        if arr[mid] == target:\n",
    "            if arr[mid+1] == target:\n",
    "                return [mid,mid+1]\n",
    "            else:\n",
    "                return [mid,mid-1]\n",
    "        elif arr[mid] < target:\n",
    "            start = mid+1\n",
    "        else:\n",
    "            end = mid-1\n",
    "    return [-1,-1]\n",
    "binary_search([5,7,7,8,8,10],8)"
   ]
  },
  {
   "cell_type": "markdown",
   "id": "968afdde",
   "metadata": {},
   "source": [
    "## Question 8\n",
    "\n",
    "### Given two integer arrays `nums1` and `nums2`, return *an array of their intersection*. Each element in the result must appear as many times as it shows in both arrays and you may return the result in **any order**.\n",
    "\n",
    "#### - Example 1:\n",
    "\n",
    "\n",
    "- Input: nums1 = [1,2,2,1], nums2 = [2,2]\n",
    "- Output: [2,2]\n",
    "\n",
    "\n",
    "\n",
    "#### - Example 2:\n",
    "\n",
    "- Input: nums1 = [4,9,5], nums2 = [9,4,9,8,4]\n",
    "- Output: [4,9]\n",
    "- Explanation: [9,4] is also accepted."
   ]
  },
  {
   "cell_type": "code",
   "execution_count": 1,
   "id": "97c2002f",
   "metadata": {},
   "outputs": [
    {
     "data": {
      "text/plain": [
       "[2, 2]"
      ]
     },
     "execution_count": 1,
     "metadata": {},
     "output_type": "execute_result"
    }
   ],
   "source": [
    "def common_elements(arr1,arr2):\n",
    "    result = []\n",
    "    for i in arr1:\n",
    "        if(i in arr2):\n",
    "            result.append(i)\n",
    "    return result\n",
    "common_elements([1,2,2,1],[2,2])"
   ]
  },
  {
   "cell_type": "code",
   "execution_count": 2,
   "id": "cb5c68af",
   "metadata": {},
   "outputs": [
    {
     "data": {
      "text/plain": [
       "[4, 9]"
      ]
     },
     "execution_count": 2,
     "metadata": {},
     "output_type": "execute_result"
    }
   ],
   "source": [
    "common_elements([4,9,5],[9,4,9,8,4])"
   ]
  },
  {
   "cell_type": "code",
   "execution_count": null,
   "id": "3fd70797",
   "metadata": {},
   "outputs": [],
   "source": []
  }
 ],
 "metadata": {
  "kernelspec": {
   "display_name": "Python 3 (ipykernel)",
   "language": "python",
   "name": "python3"
  },
  "language_info": {
   "codemirror_mode": {
    "name": "ipython",
    "version": 3
   },
   "file_extension": ".py",
   "mimetype": "text/x-python",
   "name": "python",
   "nbconvert_exporter": "python",
   "pygments_lexer": "ipython3",
   "version": "3.10.9"
  }
 },
 "nbformat": 4,
 "nbformat_minor": 5
}
