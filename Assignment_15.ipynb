{
 "cells": [
  {
   "cell_type": "markdown",
   "id": "65c74910",
   "metadata": {},
   "source": [
    "## Question 1\n",
    "\n",
    "### Given an array **arr[ ]** of size **N** having elements, the task is to find the next greater element for each element of the array in order of their appearance in the array.Next greater element of an element in the array is the nearest element on the right which is greater than the current element.If there does not exist next greater of current element, then next greater element for current element is -1. For example, next greater of the last element is always -1.\n"
   ]
  },
  {
   "cell_type": "code",
   "execution_count": 1,
   "id": "1128fcaa",
   "metadata": {},
   "outputs": [
    {
     "name": "stdout",
     "output_type": "stream",
     "text": [
      "11 -- 13\n",
      "13 -- 21\n",
      "21 -- -1\n",
      "3 -- -1\n"
     ]
    }
   ],
   "source": [
    "def printNGE(arr):\n",
    " \n",
    "    for i in range(0, len(arr), 1):\n",
    " \n",
    "        next = -1\n",
    "        for j in range(i+1, len(arr), 1):\n",
    "            if arr[i] < arr[j]:\n",
    "                next = arr[j]\n",
    "                break\n",
    " \n",
    "        print(str(arr[i]) + \" -- \" + str(next))\n",
    " \n",
    " \n",
    "arr = [11, 13, 21, 3]\n",
    "printNGE(arr)"
   ]
  },
  {
   "cell_type": "markdown",
   "id": "4ba9053b",
   "metadata": {},
   "source": [
    "## Question 2\n",
    "\n",
    "### Given an array **a** of integers of length **n**, find the nearest smaller number for every element such that the smaller element is on left side.If no small element present on the left print -1.\n"
   ]
  },
  {
   "cell_type": "code",
   "execution_count": 2,
   "id": "e184de33",
   "metadata": {},
   "outputs": [
    {
     "name": "stdout",
     "output_type": "stream",
     "text": [
      "_, 1 , _, 0 , 2 , "
     ]
    }
   ],
   "source": [
    "def printPrevSmaller(arr, n):\n",
    " \n",
    "    print(\"_, \", end=\"\")\n",
    " \n",
    "    for i in range(1, n ):\n",
    "     \n",
    "        for j in range(i-1 ,-2 ,-1):\n",
    "         \n",
    "            if (arr[j] < arr[i]):\n",
    "             \n",
    "                print(arr[j] ,\", \",\n",
    "                            end=\"\")\n",
    "                break\n",
    " \n",
    "        if (j == -1):\n",
    "            print(\"_, \", end=\"\")\n",
    "\n",
    "arr = [1, 3, 0, 2, 5]\n",
    "n = len(arr)\n",
    "printPrevSmaller(arr, n)"
   ]
  },
  {
   "cell_type": "markdown",
   "id": "deb7e56e",
   "metadata": {},
   "source": [
    "## Question 3\n",
    "\n",
    "### Implement a Stack using two queues **q1** and **q2**.\n"
   ]
  },
  {
   "cell_type": "code",
   "execution_count": 3,
   "id": "37fe1596",
   "metadata": {},
   "outputs": [
    {
     "name": "stdout",
     "output_type": "stream",
     "text": [
      "current size:  3\n",
      "3\n",
      "2\n",
      "1\n",
      "current size:  1\n"
     ]
    }
   ],
   "source": [
    "from _collections import deque\n",
    " \n",
    "class Stack:\n",
    " \n",
    "    def __init__(self):\n",
    " \n",
    "        self.q1 = deque()\n",
    "        self.q2 = deque()\n",
    " \n",
    "    def push(self, x):\n",
    " \n",
    "        self.q2.append(x)\n",
    " \n",
    "        while (self.q1):\n",
    "            self.q2.append(self.q1.popleft())\n",
    " \n",
    "        self.q1, self.q2 = self.q2, self.q1\n",
    " \n",
    "    def pop(self):\n",
    " \n",
    "        if self.q1:\n",
    "            self.q1.popleft()\n",
    " \n",
    "    def top(self):\n",
    "        if (self.q1):\n",
    "            return self.q1[0]\n",
    "        return None\n",
    " \n",
    "    def size(self):\n",
    "        return len(self.q1)\n",
    " \n",
    " \n",
    "if __name__ == '__main__':\n",
    "    s = Stack()\n",
    "    s.push(1)\n",
    "    s.push(2)\n",
    "    s.push(3)\n",
    " \n",
    "    print(\"current size: \", s.size())\n",
    "    print(s.top())\n",
    "    s.pop()\n",
    "    print(s.top())\n",
    "    s.pop()\n",
    "    print(s.top())\n",
    " \n",
    "    print(\"current size: \", s.size())"
   ]
  },
  {
   "cell_type": "markdown",
   "id": "5647eb12",
   "metadata": {},
   "source": [
    "## Question 4\n",
    "\n",
    "### You are given a stack **St**. You have to reverse the stack using recursion.\n"
   ]
  },
  {
   "cell_type": "code",
   "execution_count": 4,
   "id": "f3ea0132",
   "metadata": {},
   "outputs": [
    {
     "name": "stdout",
     "output_type": "stream",
     "text": [
      "Original Stack \n",
      "1 2 3 4 \n",
      "Reversed Stack \n",
      "4 3 2 1 \n"
     ]
    }
   ],
   "source": [
    "def insertAtBottom(stack, item):\n",
    "    if isEmpty(stack):\n",
    "        push(stack, item)\n",
    "    else:\n",
    "        temp = pop(stack)\n",
    "        insertAtBottom(stack, item)\n",
    "        push(stack, temp)\n",
    "\n",
    "def reverse(stack):\n",
    "    if not isEmpty(stack):\n",
    "        temp = pop(stack)\n",
    "        reverse(stack)\n",
    "        insertAtBottom(stack, temp)\n",
    " \n",
    "\n",
    " \n",
    "def createStack():\n",
    "    stack = []\n",
    "    return stack\n",
    " \n",
    "\n",
    " \n",
    " \n",
    "def isEmpty(stack):\n",
    "    return len(stack) == 0\n",
    " \n",
    " \n",
    " \n",
    "def push(stack, item):\n",
    "    stack.append(item)\n",
    " \n",
    " \n",
    "def pop(stack):\n",
    " \n",
    "    if(isEmpty(stack)):\n",
    "        print(\"Stack Underflow \")\n",
    "        exit(1)\n",
    " \n",
    "    return stack.pop()\n",
    " \n",
    " \n",
    " \n",
    "def prints(stack):\n",
    "    for i in range(len(stack)-1, -1, -1):\n",
    "        print(stack[i], end=' ')\n",
    "    print()\n",
    " \n",
    " \n",
    "stack = createStack()\n",
    "push(stack, str(4))\n",
    "push(stack, str(3))\n",
    "push(stack, str(2))\n",
    "push(stack, str(1))\n",
    "print(\"Original Stack \")\n",
    "prints(stack)\n",
    " \n",
    "reverse(stack)\n",
    " \n",
    "print(\"Reversed Stack \")\n",
    "prints(stack)"
   ]
  },
  {
   "cell_type": "markdown",
   "id": "83a24069",
   "metadata": {},
   "source": [
    "## Question 5\n",
    "\n",
    "### You are given a string **S**, the task is to reverse the string using stack.\n",
    "\n"
   ]
  },
  {
   "cell_type": "code",
   "execution_count": 6,
   "id": "a8c8ee43",
   "metadata": {},
   "outputs": [
    {
     "name": "stdout",
     "output_type": "stream",
     "text": [
      "Reversed string is skeeGrofskeeG\n"
     ]
    }
   ],
   "source": [
    "def createStack():\n",
    "    stack = []\n",
    "    return stack\n",
    " \n",
    "def size(stack):\n",
    "    return len(stack) \n",
    " \n",
    "def isEmpty(stack):\n",
    "    if size(stack) == 0:\n",
    "        return true\n",
    "\n",
    "\n",
    "def push(stack, item):\n",
    "    stack.append(item)\n",
    "\n",
    "def pop(stack):\n",
    "    if isEmpty(stack):\n",
    "        return\n",
    "    return stack.pop()\n",
    " \n",
    "def reverse(string):\n",
    "    n = len(string)\n",
    " \n",
    "    stack = createStack()\n",
    " \n",
    "    for i in range(0, n, 1):\n",
    "        push(stack, string[i])\n",
    " \n",
    "    string = \"\"\n",
    " \n",
    "    for i in range(0, n, 1):\n",
    "        string += pop(stack)\n",
    " \n",
    "    return string\n",
    " \n",
    "\n",
    "string = \"GeeksforGeeks\"\n",
    "string = reverse(string)\n",
    "print(\"Reversed string is \" + string)"
   ]
  },
  {
   "cell_type": "markdown",
   "id": "e966d2b9",
   "metadata": {},
   "source": [
    "## Question 6\n",
    "\n",
    "### Given string **S** representing a postfix expression, the task is to evaluate the expression and find the final value. Operators will only include the basic arithmetic operators like ***, /, + and -**.\n"
   ]
  },
  {
   "cell_type": "code",
   "execution_count": 7,
   "id": "a29b3388",
   "metadata": {},
   "outputs": [
    {
     "name": "stdout",
     "output_type": "stream",
     "text": [
      "postfix evaluation: -4\n"
     ]
    }
   ],
   "source": [
    "class Evaluate:\n",
    " \n",
    "    def __init__(self, capacity):\n",
    "        self.top = -1\n",
    "        self.capacity = capacity\n",
    "         \n",
    "        self.array = []\n",
    " \n",
    "    def isEmpty(self):\n",
    "        return True if self.top == -1 else False\n",
    " \n",
    "    def peek(self):\n",
    "        return self.array[-1]\n",
    " \n",
    "    def pop(self):\n",
    "        if not self.isEmpty():\n",
    "            self.top -= 1\n",
    "            return self.array.pop()\n",
    "        else:\n",
    "            return \"$\"\n",
    " \n",
    "    def push(self, op):\n",
    "        self.top += 1\n",
    "        self.array.append(op)\n",
    " \n",
    "    def evaluatePostfix(self, exp):\n",
    " \n",
    "        for i in exp:\n",
    " \n",
    "            if i.isdigit():\n",
    "                self.push(i)\n",
    " \n",
    "            else:\n",
    "                val1 = self.pop()\n",
    "                val2 = self.pop()\n",
    "                self.push(str(eval(val2 + i + val1)))\n",
    " \n",
    "        return int(self.pop())\n",
    " \n",
    " \n",
    " \n",
    "if __name__ == '__main__':\n",
    "    exp = \"231*+9-\"\n",
    "    obj = Evaluate(len(exp))\n",
    "     \n",
    "    print(\"postfix evaluation: %d\" % (obj.evaluatePostfix(exp)))"
   ]
  },
  {
   "cell_type": "markdown",
   "id": "21825276",
   "metadata": {},
   "source": [
    "## Question 7\n",
    "\n",
    "### Design a stack that supports push, pop, top, and retrieving the minimum element in constant time"
   ]
  },
  {
   "cell_type": "code",
   "execution_count": 8,
   "id": "5a799277",
   "metadata": {},
   "outputs": [
    {
     "name": "stdout",
     "output_type": "stream",
     "text": [
      "Number Inserted: 3\n",
      "Number Inserted: 5\n",
      "Minimum Element in the stack is: 3\n",
      "Number Inserted: 2\n",
      "Number Inserted: 1\n",
      "Minimum Element in the stack is: 1\n",
      "Top Most Element Removed :1 \n",
      "Minimum Element in the stack is: 2\n",
      "Top Most Element Removed :2 \n",
      "Top Most Element is: 5\n"
     ]
    }
   ],
   "source": [
    "class Node:\n",
    "    def __init__(self, value):\n",
    "        self.value = value\n",
    "        self.next = None\n",
    " \n",
    "    def __str__(self):\n",
    "        return \"Node({})\".format(self.value)\n",
    " \n",
    "    __repr__ = __str__\n",
    " \n",
    " \n",
    "class Stack:\n",
    "    def __init__(self):\n",
    "        self.top = None\n",
    "        self.count = 0\n",
    "        self.minimum = None\n",
    " \n",
    "    def __str__(self):\n",
    "        temp = self.top\n",
    "        out = []\n",
    "        while temp:\n",
    "            out.append(str(temp.value))\n",
    "            temp = temp.next\n",
    "        out = '\\n'.join(out)\n",
    "        return ('Top {} \\n\\nStack :\\n{}'.format(self.top, out))\n",
    " \n",
    "    __repr__ = __str__\n",
    " \n",
    "    def getMin(self):\n",
    "        if self.top is None:\n",
    "            return \"Stack is empty\"\n",
    "        else:\n",
    "            print(\"Minimum Element in the stack is: {}\" .format(self.minimum))\n",
    " \n",
    " \n",
    "    def isEmpty(self):\n",
    "        if self.top == None:\n",
    "            return True\n",
    "        else:\n",
    "            return False\n",
    " \n",
    "    def __len__(self):\n",
    "        self.count = 0\n",
    "        tempNode = self.top\n",
    "        while tempNode:\n",
    "            tempNode = tempNode.next\n",
    "            self.count += 1\n",
    "        return self.count\n",
    " \n",
    "    def peek(self):\n",
    "        if self.top is None:\n",
    "            print(\"Stack is empty\")\n",
    "        else:\n",
    "            if self.top.value < self.minimum:\n",
    "                print(\"Top Most Element is: {}\" .format(self.minimum))\n",
    "            else:\n",
    "                print(\"Top Most Element is: {}\" .format(self.top.value))\n",
    " \n",
    "    def push(self, value):\n",
    "        if self.top is None:\n",
    "            self.top = Node(value)\n",
    "            self.minimum = value\n",
    " \n",
    "        elif value < self.minimum:\n",
    "            temp = (2 * value) - self.minimum\n",
    "            new_node = Node(temp)\n",
    "            new_node.next = self.top\n",
    "            self.top = new_node\n",
    "            self.minimum = value\n",
    "        else:\n",
    "            new_node = Node(value)\n",
    "            new_node.next = self.top\n",
    "            self.top = new_node\n",
    "        print(\"Number Inserted: {}\" .format(value))\n",
    " \n",
    "    def pop(self):\n",
    "        if self.top is None:\n",
    "            print(\"Stack is empty\")\n",
    "        else:\n",
    "            removedNode = self.top.value\n",
    "            self.top = self.top.next\n",
    "            if removedNode < self.minimum:\n",
    "                print(\"Top Most Element Removed :{} \" .format(self.minimum))\n",
    "                self.minimum = ((2 * self.minimum) - removedNode)\n",
    "            else:\n",
    "                print(\"Top Most Element Removed : {}\" .format(removedNode))\n",
    " \n",
    " \n",
    "if __name__ == '__main__':\n",
    "   \n",
    "  stack = Stack()\n",
    "   \n",
    "  stack.push(3)\n",
    "  stack.push(5)\n",
    "  stack.getMin()\n",
    "  stack.push(2)\n",
    "  stack.push(1)\n",
    "  stack.getMin()\n",
    "  stack.pop()\n",
    "  stack.getMin()\n",
    "  stack.pop()\n",
    "  stack.peek()"
   ]
  },
  {
   "cell_type": "markdown",
   "id": "f3f29c5b",
   "metadata": {},
   "source": [
    "## Question 8\n",
    "\n",
    "### Given `n` non-negative integers representing an elevation map where the width of each bar is `1`, compute how much water it can trap after raining.\n"
   ]
  },
  {
   "cell_type": "code",
   "execution_count": 9,
   "id": "02857382",
   "metadata": {},
   "outputs": [
    {
     "name": "stdout",
     "output_type": "stream",
     "text": [
      "6\n"
     ]
    }
   ],
   "source": [
    "def maxWater(arr, n):\n",
    "  \n",
    "    res = 0\n",
    "  \n",
    "    for i in range(1, n - 1):\n",
    "  \n",
    "        left = arr[i]\n",
    "        for j in range(i):\n",
    "            left = max(left, arr[j])\n",
    "  \n",
    "        right = arr[i]\n",
    "  \n",
    "        for j in range(i + 1, n):\n",
    "            right = max(right, arr[j])\n",
    "  \n",
    "        res = res + (min(left, right) - arr[i])\n",
    "  \n",
    "    return res\n",
    "  \n",
    "\n",
    "if __name__ == \"__main__\":\n",
    "  \n",
    "    arr = [0, 1, 0, 2, 1, 0,\n",
    "           1, 3, 2, 1, 2, 1]\n",
    "    n = len(arr)\n",
    "  \n",
    "    print(maxWater(arr, n))"
   ]
  }
 ],
 "metadata": {
  "kernelspec": {
   "display_name": "Python 3 (ipykernel)",
   "language": "python",
   "name": "python3"
  },
  "language_info": {
   "codemirror_mode": {
    "name": "ipython",
    "version": 3
   },
   "file_extension": ".py",
   "mimetype": "text/x-python",
   "name": "python",
   "nbconvert_exporter": "python",
   "pygments_lexer": "ipython3",
   "version": "3.10.9"
  }
 },
 "nbformat": 4,
 "nbformat_minor": 5
}
