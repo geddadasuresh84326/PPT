{
 "cells": [
  {
   "cell_type": "markdown",
   "id": "53841832",
   "metadata": {},
   "source": [
    "## Question 1\n",
    "\n",
    "### Given an array, for each element find the value of the nearest element to the right which is having a frequency greater than that of the current element. If there does not exist an answer for a position, then make the value ‘-1’.\n"
   ]
  },
  {
   "cell_type": "code",
   "execution_count": 1,
   "id": "5472c132",
   "metadata": {},
   "outputs": [
    {
     "name": "stdout",
     "output_type": "stream",
     "text": [
      "[-1, -1, 1, 2, 2, 1, -1]\n"
     ]
    }
   ],
   "source": [
    "def NFG(a, n):\n",
    " \n",
    "    if (n <= 0):\n",
    "        print(\"List empty\")\n",
    "        return []\n",
    " \n",
    "    stack = [0]*n\n",
    " \n",
    "    freq = {}\n",
    "    for i in a:\n",
    "        freq[a[i]] = 0\n",
    "    for i in a:\n",
    "        freq[a[i]] += 1\n",
    " \n",
    "    res = [0]*n\n",
    " \n",
    "    top = -1\n",
    " \n",
    "    top += 1\n",
    "    stack[top] = 0\n",
    " \n",
    "    for i in range(1, n):\n",
    " \n",
    "        if (freq[a[stack[top]]] > freq[a[i]]):\n",
    "            top += 1\n",
    "            stack[top] = i\n",
    " \n",
    "        else:\n",
    "            while (top > -1 and freq[a[stack[top]]] < freq[a[i]]):\n",
    "                res[stack[top]] = a[i]\n",
    "                top -= 1\n",
    "            top += 1\n",
    "            stack[top] = i\n",
    " \n",
    "    \n",
    "    while (top > -1):\n",
    "        res[stack[top]] = -1\n",
    "        top -= 1\n",
    " \n",
    "    return res\n",
    " \n",
    "# Driver Code\n",
    "print(NFG([1, 1, 2, 3, 4, 2, 1], 7))"
   ]
  },
  {
   "cell_type": "markdown",
   "id": "48286057",
   "metadata": {},
   "source": [
    "## Question 2\n",
    "\n",
    "### Given a stack of integers, sort it in ascending order using another temporary stack.\n"
   ]
  },
  {
   "cell_type": "code",
   "execution_count": 2,
   "id": "8f0ae295",
   "metadata": {},
   "outputs": [
    {
     "name": "stdout",
     "output_type": "stream",
     "text": [
      "Sorted numbers are: \n",
      "3 23 31 34 92 98 \n"
     ]
    }
   ],
   "source": [
    "def sortStack ( stack ):\n",
    "    tmpStack = createStack()\n",
    "    while(isEmpty(stack) == False):\n",
    "         \n",
    "        tmp = top(stack)\n",
    "        pop(stack)\n",
    " \n",
    "        while(isEmpty(tmpStack) == False and\n",
    "             int(top(tmpStack)) < int(tmp)):\n",
    "            \n",
    "            push(stack,top(tmpStack))\n",
    "            pop(tmpStack)\n",
    " \n",
    "        push(tmpStack,tmp)\n",
    "     \n",
    "    return tmpStack\n",
    "\n",
    "def createStack():\n",
    "    stack = []\n",
    "    return stack\n",
    " \n",
    "def isEmpty( stack ):\n",
    "    return len(stack) == 0\n",
    " \n",
    "def push( stack, item ):\n",
    "    stack.append( item )\n",
    "\n",
    "def top( stack ):\n",
    "    p = len(stack)\n",
    "    return stack[p-1]\n",
    "\n",
    "def pop( stack ):\n",
    " \n",
    "    if(isEmpty( stack )):\n",
    "        print(\"Stack Underflow \")\n",
    "        exit(1)\n",
    " \n",
    "    return stack.pop()\n",
    " \n",
    "def prints(stack):\n",
    "    for i in range(len(stack)-1, -1, -1):\n",
    "        print(stack[i], end = ' ')\n",
    "    print()\n",
    "\n",
    "# Driver Code\n",
    "stack = createStack()\n",
    "push( stack, str(34) )\n",
    "push( stack, str(3) )\n",
    "push( stack, str(31) )\n",
    "push( stack, str(98) )\n",
    "push( stack, str(92) )\n",
    "push( stack, str(23) )\n",
    " \n",
    "print(\"Sorted numbers are: \")\n",
    "sortedst = sortStack ( stack )\n",
    "prints(sortedst)"
   ]
  },
  {
   "cell_type": "markdown",
   "id": "78fca7b3",
   "metadata": {},
   "source": [
    "## Question 3\n",
    "\n",
    "### Given a stack with **push()**, **pop()**, and **empty()** operations, The task is to delete the **middle** element ****of it without using any additional data structure.\n",
    "\n"
   ]
  },
  {
   "cell_type": "code",
   "execution_count": 1,
   "id": "2f57c40f",
   "metadata": {},
   "outputs": [
    {
     "name": "stdout",
     "output_type": "stream",
     "text": [
      "Printing stack after deletion of middle: 1 2 3 5 6 7 "
     ]
    }
   ],
   "source": [
    "import math\n",
    " \n",
    "st = []\n",
    "st.append('1')\n",
    "st.append('2')\n",
    "st.append('3')\n",
    "st.append('4')\n",
    "st.append('5')\n",
    "st.append('6')\n",
    "st.append('7')\n",
    " \n",
    "v = []\n",
    " \n",
    "while(len(st) > 0):\n",
    "    v.append(st[0])\n",
    "    del st[0]\n",
    "     \n",
    "n = len(v)\n",
    " \n",
    "if n%2==0:\n",
    "    target = math.floor(n/2)\n",
    "    for i in range(0, n):\n",
    "        if i==target:\n",
    "            continue\n",
    "        st.append(v[i])\n",
    "else:\n",
    "    target = math.floor(n/2)\n",
    "    for i in range(0, n):\n",
    "        if i==target:\n",
    "            continue\n",
    "        st.append(v[i])\n",
    " \n",
    "print(\"Printing stack after deletion of middle:\", end = \" \")\n",
    " \n",
    "while (len(st) > 0):\n",
    "    p = st[0]\n",
    "    del st[0]\n",
    "    print(p, end = \" \")"
   ]
  },
  {
   "cell_type": "markdown",
   "id": "b29c0f63",
   "metadata": {},
   "source": [
    "## Question 4\n",
    "\n",
    "### Given a Queue consisting of first **n** natural numbers (in random order). The task is to check whether the given Queue elements can be arranged in increasing order in another Queue using a stack. The operation allowed are:\n",
    "\n",
    "1. Push and pop elements from the stack\n",
    "2. Pop (Or Dequeue) from the given Queue.\n",
    "3. Push (Or Enqueue) in the another Queue."
   ]
  },
  {
   "cell_type": "code",
   "execution_count": null,
   "id": "9f4560ab",
   "metadata": {},
   "outputs": [],
   "source": []
  },
  {
   "cell_type": "markdown",
   "id": "a0b0455a",
   "metadata": {},
   "source": [
    "## Question 5\n",
    "\n",
    "### Given a number , write a program to reverse this number using stack.\n"
   ]
  },
  {
   "cell_type": "code",
   "execution_count": 3,
   "id": "db151ab4",
   "metadata": {},
   "outputs": [
    {
     "name": "stdout",
     "output_type": "stream",
     "text": [
      "563\n"
     ]
    }
   ],
   "source": [
    "st = [];\n",
    " \n",
    "def push_digits(number):\n",
    " \n",
    "    while (number != 0):\n",
    "        st.append(number % 10);\n",
    "        number = int(number / 10);\n",
    "\n",
    "def reverse_number(number):\n",
    "    \n",
    "    push_digits(number);\n",
    "     \n",
    "    reverse = 0;\n",
    "    i = 1;\n",
    "     \n",
    "   \n",
    "    while (len(st) > 0):\n",
    "        reverse = reverse + (st[len(st) - 1] * i);\n",
    "        st.pop();\n",
    "        i = i * 10;\n",
    "     \n",
    "  \n",
    "    return reverse;\n",
    " \n",
    "# Driver Code\n",
    "number = 365;\n",
    " \n",
    "print(reverse_number(number));"
   ]
  },
  {
   "cell_type": "markdown",
   "id": "0f5746b4",
   "metadata": {},
   "source": [
    "## Question 6\n",
    "\n",
    "### Given an integer k and a **[queue](https://www.geeksforgeeks.org/queue-data-structure/)** of integers, The task is to reverse the order of the first **k** elements of the queue, leaving the other elements in the same relative order. Only following standard operations are allowed on queue.\n"
   ]
  },
  {
   "cell_type": "code",
   "execution_count": 4,
   "id": "ce9741e0",
   "metadata": {},
   "outputs": [
    {
     "name": "stdout",
     "output_type": "stream",
     "text": [
      "50 40 30 20 10 60 70 80 90 100 "
     ]
    }
   ],
   "source": [
    "from collections import deque\n",
    " \n",
    "def reverse_first_k(q, k):\n",
    "    solve(q, k)\n",
    "    s = len(q) - k\n",
    "    for _ in range(s):\n",
    "        x = q.popleft()\n",
    "        q.append(x)\n",
    "    return q\n",
    " \n",
    "def solve(q, k):\n",
    "    if k == 0:\n",
    "        return\n",
    "    e = q.popleft()\n",
    "    solve(q, k - 1)\n",
    "    q.append(e)\n",
    "\n",
    "# Driver code\n",
    "queue = deque([10, 20, 30, 40, 50, 60, 70, 80, 90, 100])\n",
    "k = 5\n",
    "queue = reverse_first_k(queue, k)\n",
    " \n",
    "# Printing queue\n",
    "while queue:\n",
    "    print(queue.popleft(), end=' ')"
   ]
  },
  {
   "cell_type": "markdown",
   "id": "2bb38819",
   "metadata": {},
   "source": [
    "## Question 7\n",
    "\n",
    "### Given a sequence of n strings, the task is to check if any two similar words come together and then destroy each other then print the number of words left in the sequence after this pairwise destruction.\n"
   ]
  },
  {
   "cell_type": "code",
   "execution_count": 5,
   "id": "8786d529",
   "metadata": {},
   "outputs": [
    {
     "name": "stdout",
     "output_type": "stream",
     "text": [
      "0\n"
     ]
    }
   ],
   "source": [
    "def removeConsecutiveSame(v):\n",
    " \n",
    "    n = len(v)\n",
    "    i = 0\n",
    "    while(i < n - 1):\n",
    "        \n",
    "        if ((i + 1) < len(v)) and (v[i] == v[i + 1]):\n",
    "         \n",
    "            v = v[:i]\n",
    "            v = v[:i]\n",
    " \n",
    "            if (i > 0):\n",
    "                i -= 1\n",
    " \n",
    "            n = n - 2\n",
    "         \n",
    "        else:\n",
    "            i += 1\n",
    "    return len(v[:i - 1])\n",
    "     \n",
    "# Driver Code\n",
    "if __name__ == '__main__':\n",
    "    v = [\"tom\", \"jerry\", \"jerry\", \"tom\"]\n",
    "    print(removeConsecutiveSame(v))"
   ]
  },
  {
   "cell_type": "markdown",
   "id": "a08d3498",
   "metadata": {},
   "source": [
    "## Question 8\n",
    "\n",
    "### Given an array of integers, the task is to find the maximum absolute difference between the nearest left and the right smaller element of every element in the array.\n",
    "\n",
    "### **Note:** If there is no smaller element on right side or left side of any element then we take zero as the smaller element. For example for the leftmost element, the nearest smaller element on the left side is considered as 0. Similarly, for rightmost elements, the smaller element on the right side is considered as 0\n",
    "\n",
    "</aside>"
   ]
  },
  {
   "cell_type": "code",
   "execution_count": 7,
   "id": "2f0a9b93",
   "metadata": {},
   "outputs": [
    {
     "name": "stdout",
     "output_type": "stream",
     "text": [
      "Maximum Diff : 4\n"
     ]
    }
   ],
   "source": [
    "def leftsmaller(arr, n, SE):\n",
    " \n",
    "    sta = []\n",
    "    \n",
    "    for i in range(n):\n",
    "        \n",
    "        while(sta != [] and sta[len(sta)-1] >= arr[i]):\n",
    "            sta.pop()\n",
    " \n",
    "        if(sta != []):\n",
    "            SE[i]=sta[len(sta)-1]\n",
    "        else:\n",
    "            SE[i]=0\n",
    " \n",
    "        sta.append(arr[i])\n",
    "        \n",
    "def findMaxDiff(arr, n):\n",
    "    ls=[0]*n # to store left smaller elements\n",
    "    rs=[0]*n # to store right smaller elements\n",
    " \n",
    "    leftsmaller(arr, n, ls)\n",
    "    \n",
    "    leftsmaller(arr[::-1], n, rs)\n",
    " \n",
    "    res = -1\n",
    "    for i in range(n):\n",
    "        res = max(res, abs(ls[i] - rs[n-1-i]))\n",
    "    return res\n",
    " \n",
    "     \n",
    "# Driver Program\n",
    "if __name__=='__main__':\n",
    "    arr = [2, 4, 8, 7, 7, 9, 3]\n",
    "    print (\"Maximum Diff :\", findMaxDiff(arr, len(arr)))"
   ]
  }
 ],
 "metadata": {
  "kernelspec": {
   "display_name": "Python 3 (ipykernel)",
   "language": "python",
   "name": "python3"
  },
  "language_info": {
   "codemirror_mode": {
    "name": "ipython",
    "version": 3
   },
   "file_extension": ".py",
   "mimetype": "text/x-python",
   "name": "python",
   "nbconvert_exporter": "python",
   "pygments_lexer": "ipython3",
   "version": "3.10.9"
  }
 },
 "nbformat": 4,
 "nbformat_minor": 5
}
