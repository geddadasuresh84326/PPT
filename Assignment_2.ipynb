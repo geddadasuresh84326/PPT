{
 "cells": [
  {
   "cell_type": "markdown",
   "id": "d4473112",
   "metadata": {},
   "source": [
    "## Question 1 :- \n",
    "### Given an integer array nums of 2n integers, group these integers into n pairs (a1, b1), (a2, b2),..., (an, bn) such that the sum of min(ai, bi) for all i is maximized. Return the maximized sum.\n",
    "\n",
    "### Example 1:\n",
    "Input: nums = [1,4,3,2]\n",
    "Output: 4\n",
    "\n",
    "### Explanation: All possible pairings (ignoring the ordering of elements) are:\n",
    "\n",
    "1. (1, 4), (2, 3) -> min(1, 4) + min(2, 3) = 1 + 2 = 3\n",
    "2. (1, 3), (2, 4) -> min(1, 3) + min(2, 4) = 1 + 2 = 3\n",
    "3. (1, 2), (3, 4) -> min(1, 2) + min(3, 4) = 1 + 3 = 4\n",
    "- So the maximum possible sum is 4\n"
   ]
  },
  {
   "cell_type": "markdown",
   "id": "f4642320",
   "metadata": {},
   "source": [
    "### Ans :- \n"
   ]
  },
  {
   "cell_type": "code",
   "execution_count": 5,
   "id": "e190a4af",
   "metadata": {},
   "outputs": [
    {
     "name": "stdout",
     "output_type": "stream",
     "text": [
      "4\n"
     ]
    }
   ],
   "source": [
    "def max_sum_pair(arr):\n",
    "    sum = 0\n",
    "    arr.sort()\n",
    "    for i in range(0,len(arr),2):\n",
    "        sum +=arr[i]\n",
    "    return sum;\n",
    "max_sum = max_sum_pair([1,4,3,2])\n",
    "print(max_sum)"
   ]
  },
  {
   "cell_type": "code",
   "execution_count": 6,
   "id": "04236d72",
   "metadata": {},
   "outputs": [],
   "source": [
    "#TC - O(nlogn)---sorting array\n",
    "#SC - O(1)----constant space ie no new space"
   ]
  },
  {
   "cell_type": "markdown",
   "id": "eaab177a",
   "metadata": {},
   "source": [
    "## Question 2\n",
    "### Alice has n candies, where the ith candy is of type candyType[i]. Alice noticed that she started to gain weight, so she visited a doctor. The doctor advised Alice to only eat n / 2 of the candies she has (n is always even). Alice likes her candies very much, and she wants to eat the maximum number of different types of candies while still following the doctor's advice. \n",
    "\n",
    "### Given the integer array candyType of length n, return the maximum number of different types of candies she can eat if she only eats n / 2 of them.\n",
    "\n",
    "- Example 1:\n",
    "- Input: candyType = [1,1,2,2,3,3]\n",
    "- Output: 3\n",
    "\n",
    "- Explanation: Alice can only eat 6 / 2 = 3 candies. Since there are only 3 types, she can eat one of each type."
   ]
  },
  {
   "cell_type": "code",
   "execution_count": 7,
   "id": "5f3d6241",
   "metadata": {},
   "outputs": [
    {
     "name": "stdout",
     "output_type": "stream",
     "text": [
      "3\n"
     ]
    }
   ],
   "source": [
    "def candies(arr):\n",
    "\n",
    "    candies_can_eat = 0\n",
    "    arr.sort()\n",
    "    count = 0\n",
    "    i = 0\n",
    "    while (i < len(arr)):\n",
    "        count += arr.count(arr[i])\n",
    "        candies_can_eat += int(count/2)\n",
    "        i +=arr.count(arr[i])\n",
    "        count = 0\n",
    "    return candies_can_eat\n",
    "print(candies([1, 1, 2, 2, 3, 3]))"
   ]
  },
  {
   "cell_type": "markdown",
   "id": "aee52708",
   "metadata": {},
   "source": [
    "## Question 3\n",
    "### We define a harmonious array as an array where the difference between its maximum value and its minimum value is exactly 1.\n",
    "\n",
    "### Given an integer array nums, return the length of its longest harmonious subsequence among all its possible subsequences.\n",
    "\n",
    "### A subsequence of an array is a sequence that can be derived from the array by deleting some or no elements without changing the order of the remaining elements.\n",
    "\n",
    "- Example 1:\n",
    "- Input: nums = [1,3,2,2,5,2,3,7]\n",
    "- Output: 5\n",
    "\n",
    "- Explanation: The longest harmonious subsequence is [3,2,2,2,3]."
   ]
  },
  {
   "cell_type": "code",
   "execution_count": 8,
   "id": "148d9812",
   "metadata": {},
   "outputs": [
    {
     "name": "stdout",
     "output_type": "stream",
     "text": [
      "5\n"
     ]
    }
   ],
   "source": [
    "from collections import Counter\n",
    "\n",
    "def findLHS(nums):\n",
    "    counter = Counter(nums)  # Count the frequency of each number in the array\n",
    "    longest_subsequence = 0\n",
    "    \n",
    "    for num in counter:\n",
    "        if num + 1 in counter:\n",
    "            current_length = counter[num] + counter[num + 1]\n",
    "            longest_subsequence = max(longest_subsequence, current_length)\n",
    "            #print(longest_subsequence, current_length)\n",
    "    \n",
    "    return longest_subsequence\n",
    "\n",
    "# Test the function\n",
    "nums = [1, 3, 2, 2, 5, 2, 3, 7]\n",
    "print(findLHS(nums))  # Output: 5\n",
    "\n",
    "#TC - O(n)\n",
    "#SC - o(n)"
   ]
  },
  {
   "cell_type": "markdown",
   "id": "ffe4a1e2",
   "metadata": {},
   "source": [
    "## Question 4\n",
    "### You have a long flowerbed in which some of the plots are planted, and some are not. However, flowers cannot be planted in adjacent plots. Given an integer array flowerbed containing 0's and 1's, where 0 means empty and 1 means not empty, and an integer n, return true if n new flowers can be planted in the flowerbed without violating the no-adjacent-flowers rule and false otherwise.\n",
    "\n",
    "- Example 1:\n",
    "- Input: flowerbed = [1,0,0,0,1], n = 1\n",
    "- Output: true"
   ]
  },
  {
   "cell_type": "code",
   "execution_count": 10,
   "id": "b5eda93a",
   "metadata": {},
   "outputs": [
    {
     "name": "stdout",
     "output_type": "stream",
     "text": [
      "True\n"
     ]
    }
   ],
   "source": [
    "def canPlaceFlowers(flowerbed, n):\n",
    "    count = 0\n",
    "    i = 0\n",
    "    while i < len(flowerbed):\n",
    "        #print(flowerbed[i],flowerbed[i-1],len(flowerbed)-1,flowerbed[i+1])\n",
    "        if flowerbed[i] == 0 and (i == 0 or flowerbed[i-1] == 0) and (i == len(flowerbed)-1 or flowerbed[i+1] == 0):\n",
    "            \n",
    "            flowerbed[i] = 1\n",
    "            count += 1\n",
    "            #print(count)\n",
    "        i += 1\n",
    "    return count >= n\n",
    "\n",
    "# Test the function\n",
    "flowerbed = [1, 0, 0, 0, 1]\n",
    "n = 1\n",
    "print(canPlaceFlowers(flowerbed, n))  # Output: True\n",
    "\n",
    "#TC - O(n)\n",
    "#SC - O(1)"
   ]
  },
  {
   "cell_type": "markdown",
   "id": "b87da5c7",
   "metadata": {},
   "source": [
    "## Question 5\n",
    "### Given an integer array nums, find three numbers whose product is maximum and return the maximum product.\n",
    "\n",
    "- Example 1:\n",
    "- Input: nums = [1,2,3]\n",
    "- Output: 6"
   ]
  },
  {
   "cell_type": "code",
   "execution_count": 11,
   "id": "8f1f6d94",
   "metadata": {},
   "outputs": [
    {
     "name": "stdout",
     "output_type": "stream",
     "text": [
      "6\n"
     ]
    }
   ],
   "source": [
    "def maximumProduct(nums):\n",
    "    nums.sort()  # Sort the array in ascending order\n",
    "    n = len(nums)\n",
    "    # The maximum product can be either the product of the three largest numbers\n",
    "    # or the product of the two smallest numbers (if there are negative numbers) and the largest number\n",
    "    return max(nums[n-1] * nums[n-2] * nums[n-3], nums[0] * nums[1] * nums[n-1])\n",
    "\n",
    "# Test the function\n",
    "nums = [1, 2, 3]\n",
    "print(maximumProduct(nums))  # Output: 6\n",
    "\n",
    "#TC - O(nlogn)---sorting array\n",
    "#SC - O(1)"
   ]
  },
  {
   "cell_type": "markdown",
   "id": "4d6bf033",
   "metadata": {},
   "source": [
    "## Question 6\n",
    "### Given an array of integers nums which is sorted in ascending order, and an integer target, write a function to search target in nums. If target exists, then return its index. Otherwise, return -1.\n",
    "\n",
    "- You must write an algorithm with O(log n) runtime complexity.\n",
    "\n",
    "- Input: nums = [-1,0,3,5,9,12], target = 9\n",
    "- Output: 4\n",
    "\n",
    "- Explanation: 9 exists in nums and its index is 4"
   ]
  },
  {
   "cell_type": "code",
   "execution_count": 12,
   "id": "76d1984b",
   "metadata": {},
   "outputs": [
    {
     "name": "stdout",
     "output_type": "stream",
     "text": [
      "4\n"
     ]
    }
   ],
   "source": [
    "def search(nums, target):\n",
    "    left = 0\n",
    "    right = len(nums) - 1\n",
    "\n",
    "    while left <= right:\n",
    "        mid = left + (right - left) // 2\n",
    "\n",
    "        if nums[mid] == target:\n",
    "            return mid\n",
    "        elif nums[mid] < target:\n",
    "            left = mid + 1\n",
    "        else:\n",
    "            right = mid - 1\n",
    "\n",
    "    return -1\n",
    "\n",
    "# Test the function\n",
    "nums = [-1, 0, 3, 5, 9, 12]\n",
    "target = 9\n",
    "print(search(nums, target))  # Output: 4\n",
    "\n",
    "#TC - O(logn)----binary search\n",
    "#SC - O(1)"
   ]
  },
  {
   "cell_type": "markdown",
   "id": "c175dac7",
   "metadata": {},
   "source": [
    "## Question 7\n",
    "### An array is monotonic if it is either monotone increasing or monotone decreasing.An array nums is monotone increasing if for all i <= j, nums[i] <= nums[j]. An array nums is monotone decreasing if for all i <= j, nums[i] >= nums[j].\n",
    "\n",
    "- Given an integer array nums, return true if the given array is monotonic, or false otherwise.\n",
    "\n",
    "- Example 1:\n",
    "- Input: nums = [1,2,2,3]\n",
    "- Output: true"
   ]
  },
  {
   "cell_type": "code",
   "execution_count": 13,
   "id": "ec481609",
   "metadata": {},
   "outputs": [
    {
     "name": "stdout",
     "output_type": "stream",
     "text": [
      "True\n"
     ]
    }
   ],
   "source": [
    "def isMonotonic(nums):\n",
    "    increasing = decreasing = True\n",
    "\n",
    "    for i in range(1, len(nums)):\n",
    "        if nums[i] < nums[i - 1]:\n",
    "            increasing = False\n",
    "        if nums[i] > nums[i - 1]:\n",
    "            decreasing = False\n",
    "\n",
    "    return increasing or decreasing\n",
    "\n",
    "# Test the function\n",
    "nums = [1, 2, 2, 3]\n",
    "print(isMonotonic(nums))  # Output: True\n",
    "\n",
    "#TC - O(n)\n",
    "#SC - O(1)"
   ]
  },
  {
   "cell_type": "markdown",
   "id": "a55fe9e9",
   "metadata": {},
   "source": [
    "## Question 8\n",
    "### You are given an integer array nums and an integer k.In one operation, you can choose any index i where 0 <= i < nums.length and change nums[i] to nums[i] + x where x is an integer from the range [-k, k]. You can apply this operation at most once for each index i. The score of nums is the difference between the maximum and minimum elements in nums. Return the minimum score of nums after applying the mentioned operation at most once for each index in it.\n",
    "\n",
    "- Example 1:\n",
    "- Input: nums = [1], k = 0\n",
    "- Output: 0\n",
    "\n",
    "- Explanation: The score is max(nums) - min(nums) = 1 - 1 = 0."
   ]
  },
  {
   "cell_type": "code",
   "execution_count": 14,
   "id": "b6d33235",
   "metadata": {},
   "outputs": [
    {
     "name": "stdout",
     "output_type": "stream",
     "text": [
      "0\n"
     ]
    }
   ],
   "source": [
    "def minDifference(nums, k):\n",
    "    if len(nums) <= 4:\n",
    "        return 0\n",
    "\n",
    "    nums.sort()\n",
    "\n",
    "    min_score = float('inf')\n",
    "    for i in range(4):\n",
    "        min_score = min(min_score, nums[-4+i] - nums[i])\n",
    "\n",
    "    return min_score\n",
    "\n",
    "# Test the function\n",
    "nums = [1]\n",
    "k = 0\n",
    "print(minDifference(nums, k))  # Output: 0\n",
    "\n",
    "#TC - O(nlogn)---sorting array\n",
    "#SC - O(1)"
   ]
  },
  {
   "cell_type": "code",
   "execution_count": null,
   "id": "13248d77",
   "metadata": {},
   "outputs": [],
   "source": []
  }
 ],
 "metadata": {
  "kernelspec": {
   "display_name": "Python 3 (ipykernel)",
   "language": "python",
   "name": "python3"
  },
  "language_info": {
   "codemirror_mode": {
    "name": "ipython",
    "version": 3
   },
   "file_extension": ".py",
   "mimetype": "text/x-python",
   "name": "python",
   "nbconvert_exporter": "python",
   "pygments_lexer": "ipython3",
   "version": "3.10.9"
  }
 },
 "nbformat": 4,
 "nbformat_minor": 5
}
