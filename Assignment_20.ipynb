{
 "cells": [
  {
   "cell_type": "markdown",
   "id": "095bab84",
   "metadata": {},
   "source": [
    "## Question-1\n",
    "\n",
    "### Given a binary tree, your task is to find subtree with maximum sum in tree.\n"
   ]
  },
  {
   "cell_type": "code",
   "execution_count": 1,
   "id": "85eb9be2",
   "metadata": {},
   "outputs": [
    {
     "name": "stdout",
     "output_type": "stream",
     "text": [
      "7\n"
     ]
    }
   ],
   "source": [
    "class newNode:\n",
    "    def __init__(self, key):\n",
    "        self.key = key\n",
    "        self.left = self.right = None\n",
    "\n",
    "def findLargestSubtreeSumUtil(root, ans):\n",
    "    \n",
    "    if (root == None):\n",
    "        return 0\n",
    "    \n",
    "    currSum = (root.key +\n",
    "               findLargestSubtreeSumUtil(root.left, ans) +\n",
    "               findLargestSubtreeSumUtil(root.right, ans))\n",
    " \n",
    "    ans[0] = max(ans[0], currSum)\n",
    " \n",
    "    return currSum\n",
    " \n",
    "def findLargestSubtreeSum(root):\n",
    "    \n",
    "    if (root == None):    \n",
    "        return 0\n",
    "     \n",
    "    ans = [-999999999999]\n",
    " \n",
    "    findLargestSubtreeSumUtil(root, ans)\n",
    " \n",
    "    return ans[0]\n",
    " \n",
    "# Driver Code\n",
    "if __name__ == '__main__':\n",
    "    \n",
    "    root = newNode(1)\n",
    "    root.left = newNode(-2)\n",
    "    root.right = newNode(3)\n",
    "    root.left.left = newNode(4)\n",
    "    root.left.right = newNode(5)\n",
    "    root.right.left = newNode(-6)\n",
    "    root.right.right = newNode(2)\n",
    " \n",
    "    print(findLargestSubtreeSum(root))"
   ]
  },
  {
   "cell_type": "markdown",
   "id": "8a47acac",
   "metadata": {},
   "source": [
    "## Question-2\n",
    "\n",
    "### Construct the BST (Binary Search Tree) from its given level order traversal.\n"
   ]
  },
  {
   "cell_type": "code",
   "execution_count": 2,
   "id": "8b8dee79",
   "metadata": {},
   "outputs": [
    {
     "name": "stdout",
     "output_type": "stream",
     "text": [
      "Inorder Traversal: 1 3 4 5 6 7 8 10 12 "
     ]
    }
   ],
   "source": [
    "import math\n",
    " \n",
    "# Node of a BST\n",
    " \n",
    "class Node:\n",
    "    def __init__(self, data):\n",
    "        self.data = data\n",
    "        self.left = None\n",
    "        self.right = None\n",
    " \n",
    " \n",
    "# Function to get a new node\n",
    "def getNode(data):\n",
    " \n",
    "    # Allocate memory\n",
    "    newNode = Node(data)\n",
    " \n",
    "    # put in the data\n",
    "    newNode.data = data\n",
    "    newNode.left = None\n",
    "    newNode.right = None\n",
    "    return newNode\n",
    " \n",
    "# Function to construct a BST from\n",
    "# its level order traversal\n",
    "def LevelOrder(root, data):\n",
    "    if(root == None):\n",
    "        root = getNode(data)\n",
    "        return root\n",
    " \n",
    "    if(data <= root.data):\n",
    "        root.left = LevelOrder(root.left, data)\n",
    "    else:\n",
    "        root.right = LevelOrder(root.right, data)\n",
    "    return root\n",
    " \n",
    "def constructBst(arr, n):\n",
    "    if(n == 0):\n",
    "        return None\n",
    "    root = None\n",
    " \n",
    "    for i in range(0, n):\n",
    "        root = LevelOrder(root, arr[i])\n",
    " \n",
    "    return root\n",
    " \n",
    "# Function to print the inorder traversal\n",
    "def inorderTraversal(root):\n",
    "    if (root == None):\n",
    "        return None\n",
    " \n",
    "    inorderTraversal(root.left)\n",
    "    print(root.data, end=\" \")\n",
    "    inorderTraversal(root.right)\n",
    " \n",
    " \n",
    "# Driver program\n",
    "if __name__ == '__main__':\n",
    " \n",
    "    arr = [7, 4, 12, 3, 6, 8, 1, 5, 10]\n",
    "    n = len(arr)\n",
    " \n",
    "    root = constructBst(arr, n)\n",
    " \n",
    "    print(\"Inorder Traversal: \", end=\"\")\n",
    "    root = inorderTraversal(root)\n",
    " "
   ]
  },
  {
   "cell_type": "markdown",
   "id": "f55281e6",
   "metadata": {},
   "source": [
    "## Question-3\n",
    "\n",
    "### Given an array of size n. The problem is to check whether the given array can represent the level order traversal of a Binary Search Tree or not.\n"
   ]
  },
  {
   "cell_type": "code",
   "execution_count": 3,
   "id": "2738d95a",
   "metadata": {},
   "outputs": [
    {
     "name": "stdout",
     "output_type": "stream",
     "text": [
      "Yes\n"
     ]
    }
   ],
   "source": [
    "INT_MIN, INT_MAX = float('-inf'), float('inf')\n",
    "\n",
    "class NodeDetails:\n",
    " \n",
    "    def __init__(self, data, min, max):\n",
    "        self.data = data\n",
    "        self.min = min\n",
    "        self.max = max\n",
    "\n",
    "def levelOrderIsOfBST(arr, n):\n",
    " \n",
    "    if n == 0:\n",
    "        return True\n",
    "     \n",
    "    q = []\n",
    "     \n",
    "    i = 0\n",
    "\n",
    "    newNode = NodeDetails(arr[i], INT_MIN, INT_MAX)\n",
    "    i += 1\n",
    "    q.append(newNode)\n",
    "     \n",
    "    while i != n and len(q) != 0:    \n",
    "     \n",
    "        temp = q.pop(0)\n",
    "         \n",
    "        if i < n and (arr[i] < temp.data and\n",
    "                    arr[i] > temp.min):\n",
    "         \n",
    "            newNode = NodeDetails(arr[i], temp.min, temp.data)\n",
    "            i += 1\n",
    "            q.append(newNode)            \n",
    "       \n",
    "        if i < n and (arr[i] > temp.data and\n",
    "                    arr[i] < temp.max):\n",
    "         \n",
    "            newNode = NodeDetails(arr[i], temp.data, temp.max)\n",
    "            i += 1\n",
    "            q.append(newNode)        \n",
    "     \n",
    "    if i == n:\n",
    "        return True\n",
    "     \n",
    "    return False       \n",
    " \n",
    "# Driver code\n",
    "if __name__ == \"__main__\":\n",
    " \n",
    "    arr = [7, 4, 12, 3, 6, 8, 1, 5, 10]\n",
    "    n = len(arr)    \n",
    "    if levelOrderIsOfBST(arr, n):\n",
    "        print(\"Yes\")\n",
    "    else:\n",
    "        print(\"No\")\n",
    " "
   ]
  },
  {
   "cell_type": "code",
   "execution_count": null,
   "id": "cbf09e0f",
   "metadata": {},
   "outputs": [],
   "source": []
  }
 ],
 "metadata": {
  "kernelspec": {
   "display_name": "Python 3 (ipykernel)",
   "language": "python",
   "name": "python3"
  },
  "language_info": {
   "codemirror_mode": {
    "name": "ipython",
    "version": 3
   },
   "file_extension": ".py",
   "mimetype": "text/x-python",
   "name": "python",
   "nbconvert_exporter": "python",
   "pygments_lexer": "ipython3",
   "version": "3.10.9"
  }
 },
 "nbformat": 4,
 "nbformat_minor": 5
}
