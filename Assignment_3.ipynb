{
 "cells": [
  {
   "cell_type": "markdown",
   "id": "789b5d2d",
   "metadata": {},
   "source": [
    "## Question 1\n",
    "### Given an integer array nums of length n and an integer target, find three integers in nums such that the sum is closest to the target. Return the sum of the three integers.\n",
    "\n",
    "### You may assume that each input would have exactly one solution.\n",
    "\n",
    "- Example 1:\n",
    "- Input: nums = [-1,2,1,-4], target = 1\n",
    "- Output: 2\n",
    "\n",
    "- Explanation: The sum that is closest to the target is 2. (-1 + 2 + 1 = 2)."
   ]
  },
  {
   "cell_type": "code",
   "execution_count": 31,
   "id": "00255b98",
   "metadata": {},
   "outputs": [
    {
     "name": "stdout",
     "output_type": "stream",
     "text": [
      "2\n"
     ]
    }
   ],
   "source": [
    "def find_close_triplet(arr, n, x, count, sum, ind, ans, minm):\n",
    "    # Return on reaching to the end of array\n",
    "    # Here if we picked three element till now then check\n",
    "    # that sum is closest to our \"x\" or not\n",
    "    if ind == n:\n",
    "        if count == 3:\n",
    "            if abs(x - sum) < minm[0]:\n",
    "                minm[0] = abs(x - sum)\n",
    "                ans[0] = sum\n",
    "        return\n",
    " \n",
    "    # Pick this number\n",
    "    find_close_triplet(arr, n, x, count + 1, sum + arr[ind], ind + 1, ans, minm)\n",
    " \n",
    "    # Don't pick this number\n",
    "    find_close_triplet(arr, n, x, count, sum, ind + 1, ans, minm)\n",
    "    \n",
    "if __name__ == \"__main__\":\n",
    "    \n",
    "  #Input array\n",
    "    arr = [-1, 2, 1, -4]\n",
    "    x = 1\n",
    "    n = len(arr)\n",
    "    minm = [float('inf')]\n",
    "    ans = [0]\n",
    "   \n",
    "  # Function Call\n",
    "    find_close_triplet(arr, n, x, 0, 0, 0, ans, minm)\n",
    "    print(ans[0])"
   ]
  },
  {
   "cell_type": "markdown",
   "id": "81b7fb61",
   "metadata": {},
   "source": [
    "## Question 2\n",
    "### Given an array nums of n integers, return an array of all the unique quadruplets\n",
    "[nums[a], nums[b], nums[c], nums[d]] such that:\n",
    "-            ● 0 <= a, b, c, d < n\n",
    "-            ● a, b, c, and d are distinct.\n",
    "-            ● nums[a] + nums[b] + nums[c] + nums[d] == target\n",
    "\n",
    "- You may return the answer in any order.\n",
    "\n",
    "- Example 1:\n",
    "- Input: nums = [1,0,-1,0,-2,2], target = 0\n",
    "- Output: [[-2,-1,1,2],[-2,0,0,2],[-1,0,0,1]]"
   ]
  },
  {
   "cell_type": "code",
   "execution_count": 32,
   "id": "326c7e1d",
   "metadata": {},
   "outputs": [
    {
     "name": "stdout",
     "output_type": "stream",
     "text": [
      "(-2, 0, 0, 2)\n",
      "(-1, 0, 0, 1)\n",
      "(-2, -1, 1, 2)\n"
     ]
    }
   ],
   "source": [
    "class Pair:\n",
    "    def __init__(self, x, y):\n",
    "        self.index1 = x\n",
    "        self.index2 = y\n",
    "def GetQuadruplets(nums, target):\n",
    "    # Store the sum mapped to a list of pair indices\n",
    "    map = {}\n",
    " \n",
    "    # Generate all possible pairs for the map\n",
    "    for i in range(len(nums) - 1):\n",
    "        for j in range(i + 1, len(nums)):\n",
    "            # Find the sum of pairs of elements\n",
    "            sum = nums[i] + nums[j]\n",
    " \n",
    "            # If the sum doesn't exist then update with the new pairs\n",
    "            if sum not in map:\n",
    "                map[sum] = [Pair(i, j)]\n",
    "            # Otherwise, add the new pair of indices to the current sum\n",
    "            else:\n",
    "                map[sum].append(Pair(i, j))\n",
    " \n",
    "    # Store all the Quadruplets\n",
    "    ans = set()\n",
    " \n",
    "    for i in range(len(nums) - 1):\n",
    "        for j in range(i + 1, len(nums)):\n",
    "            lookUp = target - (nums[i] + nums[j])\n",
    " \n",
    "            # If the sum with value (K - sum) exists\n",
    "            if lookUp in map:\n",
    "                # Get the pair of indices of sum\n",
    "                temp = map[lookUp]\n",
    " \n",
    "                for pair in temp:\n",
    "                    # Check if i, j, k and l are distinct or not\n",
    "                    if pair.index1 != i and pair.index1 != j and pair.index2 != i and pair.index2 != j:\n",
    "                        l1 = [nums[pair.index1], nums[pair.index2], nums[i], nums[j]]\n",
    "                         \n",
    "                        # Sort the list to avoid duplicacy\n",
    "                        l1.sort()\n",
    "                         \n",
    "                        # Update the set\n",
    "                        ans.add(tuple(l1))\n",
    " \n",
    "    # Print all the Quadruplets\n",
    "    print(*reversed(list(ans)), sep = '\\n')\n",
    "    \n",
    "arr = [1, 0, -1, 0, -2, 2]\n",
    "K = 0\n",
    "GetQuadruplets(arr, K)"
   ]
  },
  {
   "cell_type": "markdown",
   "id": "c5ae6d86",
   "metadata": {},
   "source": [
    "## Question 3\n",
    "### A permutation of an array of integers is an arrangement of its members into a sequence or linear order.\n",
    "\n",
    "### For example, for arr = [1,2,3], the following are all the permutations of arr:\n",
    "[1,2,3], [1,3,2], [2, 1, 3], [2, 3, 1], [3,1,2], [3,2,1].\n",
    "\n",
    "### The next permutation of an array of integers is the next lexicographically greater permutation of its integer. More formally, if all the permutations of the array are sorted in one container according to their lexicographical order, then the next permutation of that array is the permutation that follows it in the sorted container.\n",
    "\n",
    "### If such an arrangement is not possible, the array must be rearranged as the lowest possible order (i.e., sorted in ascending order).\n",
    "\n",
    "- ● For example, the next permutation of arr = [1,2,3] is [1,3,2].\n",
    "- ● Similarly, the next permutation of arr = [2,3,1] is [3,1,2].\n",
    "- ● While the next permutation of arr = [3,2,1] is [1,2,3] because [3,2,1] does not have a lexicographical larger rearrangement.\n",
    "\n",
    "- Given an array of integers nums, find the next permutation of nums.\n",
    "- The replacement must be in place and use only constant extra memory.\n",
    "\n",
    "- Example 1:\n",
    "- Input: nums = [1,2,3]\n",
    "- Output: [1,3,2]\n"
   ]
  },
  {
   "cell_type": "code",
   "execution_count": null,
   "id": "a2affddb",
   "metadata": {},
   "outputs": [],
   "source": []
  },
  {
   "cell_type": "markdown",
   "id": "ac70fe40",
   "metadata": {},
   "source": [
    "## Question 4\n",
    "### Given a sorted array of distinct integers and a target value, return the index if the target is found. If not, return the index where it would be if it were inserted in order.\n",
    "\n",
    "## You must write an algorithm with O(log n) runtime complexity.\n",
    "\n",
    "- Example 1:\n",
    "- Input: nums = [1,3,5,6], target = 5\n",
    "- Output: 2"
   ]
  },
  {
   "cell_type": "code",
   "execution_count": 3,
   "id": "2d087279",
   "metadata": {},
   "outputs": [
    {
     "name": "stdout",
     "output_type": "stream",
     "text": [
      "2\n"
     ]
    }
   ],
   "source": [
    "def find_target(nums,target):\n",
    "    for i in range(len(nums)):\n",
    "        if(nums[i] == target):\n",
    "            return i\n",
    "        if(nums[i] > target):\n",
    "            return i\n",
    "print(find_target([1,3,5,6],5)) # here target is present at 2 index    "
   ]
  },
  {
   "cell_type": "code",
   "execution_count": 4,
   "id": "7796cde9",
   "metadata": {},
   "outputs": [
    {
     "name": "stdout",
     "output_type": "stream",
     "text": [
      "1\n"
     ]
    }
   ],
   "source": [
    "print(find_target([1,3,5,6],2)) # here target is not found ,if would be at index 1"
   ]
  },
  {
   "cell_type": "markdown",
   "id": "948f2433",
   "metadata": {},
   "source": [
    "## Question 5\n",
    "### You are given a large integer represented as an integer array digits, where each digits[i] is the ith digit of the integer. The digits are ordered from most significant to least significant in left-to-right order. The large integer does not contain any leading 0's.\n",
    "\n",
    "### Increment the large integer by one and return the resulting array of digits.\n",
    "- Example 1:\n",
    "- Input: digits = [1,2,3]\n",
    "- Output: [1,2,4]\n",
    "\n",
    "- Explanation: The array represents the integer 123. Incrementing by one gives 123 + 1 = 124. Thus, the result should be [1,2,4]."
   ]
  },
  {
   "cell_type": "code",
   "execution_count": 20,
   "id": "6bccc5d6",
   "metadata": {},
   "outputs": [
    {
     "data": {
      "text/plain": [
       "[1, 2, 4]"
      ]
     },
     "execution_count": 20,
     "metadata": {},
     "output_type": "execute_result"
    }
   ],
   "source": [
    "def large_integer(arr):\n",
    "    sum = \"\"\n",
    "    for i in arr:\n",
    "        sum +=str(i)\n",
    "    sum = int(sum)+1\n",
    "    temp = sum\n",
    "    len_num = 0\n",
    "    while(sum > 0):\n",
    "        sum //=10\n",
    "        len_num +=1\n",
    "    result = [0]*len_num\n",
    "    i = len(result)-1\n",
    "    while(temp > 0):\n",
    "        rem = temp % 10\n",
    "        result[i] = rem\n",
    "        i -=1\n",
    "        temp //=10\n",
    "    return result\n",
    "large_integer([1,2,3])    "
   ]
  },
  {
   "cell_type": "code",
   "execution_count": 21,
   "id": "a6f92ea1",
   "metadata": {},
   "outputs": [
    {
     "data": {
      "text/plain": [
       "[1, 3, 0]"
      ]
     },
     "execution_count": 21,
     "metadata": {},
     "output_type": "execute_result"
    }
   ],
   "source": [
    "large_integer([1,2,9])    "
   ]
  },
  {
   "cell_type": "markdown",
   "id": "d74719f9",
   "metadata": {},
   "source": [
    "## Question 6\n",
    "### Given a non-empty array of integers nums, every element appears twice except for one. Find that single one.\n",
    "\n",
    "### You must implement a solution with a linear runtime complexity and use only constant extra space.\n",
    "\n",
    "- Example 1:\n",
    "- Input: nums = [2,2,1]\n",
    "- Output: 1"
   ]
  },
  {
   "cell_type": "code",
   "execution_count": 23,
   "id": "19bd9e12",
   "metadata": {},
   "outputs": [
    {
     "data": {
      "text/plain": [
       "1"
      ]
     },
     "execution_count": 23,
     "metadata": {},
     "output_type": "execute_result"
    }
   ],
   "source": [
    "def find_single_element(arr):\n",
    "    dict = {}\n",
    "    for i in arr:\n",
    "        if i not in dict:\n",
    "            dict[i] = 1\n",
    "        else:\n",
    "            dict[i] +=1\n",
    "    for key in dict.keys():\n",
    "        if(dict[key] == 1):\n",
    "            return key\n",
    "find_single_element([2,2,1])"
   ]
  },
  {
   "cell_type": "markdown",
   "id": "d8dd5656",
   "metadata": {},
   "source": [
    "## Question 7\n",
    "### You are given an inclusive range [lower, upper] and a sorted unique integer array nums, where all elements are within the inclusive range. A number x is considered missing if x is in the range [lower, upper] and x is not in nums.\n",
    "\n",
    "### Return the shortest sorted list of ranges that exactly covers all the missing numbers. That is, no element of nums is included in any of the ranges, and each missing number is covered by one of the ranges.\n",
    "\n",
    "- Example 1:\n",
    "- Input: nums = [0,1,3,50,75], lower = 0, upper = 99\n",
    "- Output: [[2,2],[4,49],[51,74],[76,99]]\n",
    "\n",
    "- Explanation: The ranges are:\n",
    "- [2,2]\n",
    "- [4,49]\n",
    "- [51,74]\n",
    "- [76,99]"
   ]
  },
  {
   "cell_type": "code",
   "execution_count": 26,
   "id": "aefcf5d5",
   "metadata": {},
   "outputs": [
    {
     "data": {
      "text/plain": [
       "[[2, 2], [4, 49], [51, 74], [76, 99]]"
      ]
     },
     "execution_count": 26,
     "metadata": {},
     "output_type": "execute_result"
    }
   ],
   "source": [
    "def missing_ranges(arr,lower,upper):\n",
    "    missing_ranges_list = []\n",
    "    for i in range(len(arr)-1):\n",
    "        diff = arr[i+1] - arr[i]\n",
    "        if(diff > 1):\n",
    "            missing_ranges_list.append([arr[i]+1,arr[i+1]-1])\n",
    "    missing_ranges_list.append([arr[-1]+1,upper])\n",
    "    return missing_ranges_list\n",
    "missing_ranges([0,1,3,50,75],0,99)"
   ]
  },
  {
   "cell_type": "markdown",
   "id": "afc1f97f",
   "metadata": {},
   "source": [
    "## Question 8\n",
    "### Given an array of meeting time intervals where intervals[i] = [starti, endi], determine if a person could attend all meetings.\n",
    "\n",
    "- Example 1:\n",
    "- Input: intervals = [[0,30],[5,10],[15,20]]\n",
    "- Output: false"
   ]
  },
  {
   "cell_type": "code",
   "execution_count": 30,
   "id": "aa6d3477",
   "metadata": {},
   "outputs": [
    {
     "data": {
      "text/plain": [
       "False"
      ]
     },
     "execution_count": 30,
     "metadata": {},
     "output_type": "execute_result"
    }
   ],
   "source": [
    "def meeting_intervals(intervals):\n",
    "    intervals.sort(key=lambda x:x[0])\n",
    "    for i in range(len(intervals)-1):\n",
    "        if(intervals[i][1] > intervals[i+1][0]):\n",
    "            return False\n",
    "    return True\n",
    "meeting_intervals([[0,30],[5,10],[15,20]])"
   ]
  },
  {
   "cell_type": "code",
   "execution_count": null,
   "id": "8723f863",
   "metadata": {},
   "outputs": [],
   "source": []
  }
 ],
 "metadata": {
  "kernelspec": {
   "display_name": "Python 3 (ipykernel)",
   "language": "python",
   "name": "python3"
  },
  "language_info": {
   "codemirror_mode": {
    "name": "ipython",
    "version": 3
   },
   "file_extension": ".py",
   "mimetype": "text/x-python",
   "name": "python",
   "nbconvert_exporter": "python",
   "pygments_lexer": "ipython3",
   "version": "3.10.9"
  }
 },
 "nbformat": 4,
 "nbformat_minor": 5
}
