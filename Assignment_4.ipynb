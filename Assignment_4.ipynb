{
 "cells": [
  {
   "cell_type": "markdown",
   "id": "ea62495c",
   "metadata": {},
   "source": [
    "## Question 1\n",
    "### Given three integer arrays arr1, arr2 and arr3  sorted in  strictly increasing order, return a sorted array of only the integers that appeared in all three arrays \n",
    "- Example 1:\n",
    "\n",
    "- Input: arr1 = [1,2,3,4,5], arr2 = [1,2,5,7,9], arr3 = [1,3,4,5,8]\n",
    "\n",
    "- Output: [1,5]\n",
    "\n",
    "- Explanation:** Only 1 and 5 appeared in the three arrays."
   ]
  },
  {
   "cell_type": "code",
   "execution_count": 2,
   "id": "2cdff8b8",
   "metadata": {},
   "outputs": [
    {
     "data": {
      "text/plain": [
       "[1, 5]"
      ]
     },
     "execution_count": 2,
     "metadata": {},
     "output_type": "execute_result"
    }
   ],
   "source": [
    "def common_element(arr1,arr2,arr3):\n",
    "    dict = {}\n",
    "    for i in range(len(arr1)):\n",
    "        if arr1[i] not in dict:\n",
    "            dict[arr1[i]] = 1\n",
    "        else:\n",
    "            dict[arr1[i]] = dict[arr1[i]] +1\n",
    "            \n",
    "        if arr2[i] not in dict:\n",
    "            dict[arr2[i]] = 1\n",
    "        else:\n",
    "            dict[arr2[i]] = dict[arr2[i]] +1\n",
    "            \n",
    "        if arr3[i] not in dict:\n",
    "            dict[arr3[i]] = 1\n",
    "        else:\n",
    "            dict[arr3[i]] = dict[arr3[i]] +1\n",
    "    result = []\n",
    "    for key in dict.keys():\n",
    "        if(dict[key] == 3):\n",
    "            result.append(key)\n",
    "    return result\n",
    "common_element(arr1 = [1,2,3,4,5], arr2 = [1,2,5,7,9], arr3 = [1,3,4,5,8])"
   ]
  },
  {
   "cell_type": "markdown",
   "id": "9dfccd2b",
   "metadata": {},
   "source": [
    "## Question 2\n",
    "\n",
    "### Given two  0-indexed** integer arrays nums1 and nums2, return *a list* answer *of size* 2 *where:*\n",
    "\n",
    "- answer[0] *is a list of all **distinct** integers in* nums1 *which are **not** present in* nums2*.*\n",
    "- answer[1] *is a list of all **distinct** integers in* nums2 *which are **not** present in* nums1.\n",
    "\n",
    "### Note** that the integers in the lists may be returned in **any** order.\n",
    "\n",
    "- Example 1:**\n",
    "m\n",
    "- Input:** nums1 = [1,2,3], nums2 = [2,4,6]\n",
    "\n",
    "- Output:** [[1,3],[4,6]]\n",
    "\n",
    "- Explanation:**\n",
    "\n",
    "- For nums1, nums1[1] = 2 is present at index 0 of nums2, whereas nums1[0] = 1 and nums1[2] = 3 are not present in nums2. Therefore, answer[0] = [1,3].\n",
    "\n",
    "- For nums2, nums2[0] = 2 is present at index 1 of nums1, whereas nums2[1] = 4 and nums2[2] = 6 are not present in nums2. Therefore, answer[1] = [4,6]."
   ]
  },
  {
   "cell_type": "code",
   "execution_count": 6,
   "id": "2355f16f",
   "metadata": {},
   "outputs": [
    {
     "data": {
      "text/plain": [
       "[[1, 3], [4, 6]]"
      ]
     },
     "execution_count": 6,
     "metadata": {},
     "output_type": "execute_result"
    }
   ],
   "source": [
    "def distinct_integers(arr1,arr2):\n",
    "    d1 = []\n",
    "    d2 = []\n",
    "    for i in arr1:\n",
    "        if i not in arr2:\n",
    "            d1.append(i)\n",
    "    for i in arr2:\n",
    "        if i not in arr1:\n",
    "            d2.append(i)\n",
    "    return [d1,d2]\n",
    "nums1 = [1,2,3]\n",
    "nums2 = [2,4,6]\n",
    "distinct_integers(nums1,nums2)"
   ]
  },
  {
   "cell_type": "markdown",
   "id": "e29b1754",
   "metadata": {},
   "source": [
    "## Question 3\n",
    "### Given a 2D integer array matrix, return *the **transpose** of* matrix.The **transpose** of a matrix is the matrix flipped over its main diagonal, switching the matrix's row and column indices.\n",
    "\n",
    "- Example 1:\n",
    "\n",
    "- Input: matrix = [[1,2,3],[4,5,6],[7,8,9]]\n",
    "\n",
    "- Output: [[1,4,7],[2,5,8],[3,6,9]]\n"
   ]
  },
  {
   "cell_type": "code",
   "execution_count": 8,
   "id": "425cfdc0",
   "metadata": {},
   "outputs": [
    {
     "name": "stdout",
     "output_type": "stream",
     "text": [
      "[[1, 4, 7], [2, 5, 8], [3, 6, 9]]\n"
     ]
    }
   ],
   "source": [
    "def transpose(l1, l2):\n",
    " \n",
    "    # iterate over list l1 to the length of an item\n",
    "    for i in range(len(l1[0])):\n",
    "        # print(i)\n",
    "        row =[]\n",
    "        for item in l1:\n",
    "            # appending to new list with values and index positions\n",
    "            # i contains index position and item contains values\n",
    "            row.append(item[i])\n",
    "        l2.append(row)\n",
    "    return l2\n",
    " \n",
    "# Driver code\n",
    "l1 =  [[1,2,3],[4,5,6],[7,8,9]]\n",
    "l2 = []\n",
    "print(transpose(l1, l2))"
   ]
  },
  {
   "cell_type": "markdown",
   "id": "04768b81",
   "metadata": {},
   "source": [
    "## Question 4\n",
    "### Given an integer array nums of 2n integers, group these integers into n pairs (a1, b1), (a2, b2), ..., (an, bn) such that the sum of min(ai, bi) for all i is **maximized**. Return *the maximized sum*.\n",
    "\n",
    "- Example 1:\n",
    "\n",
    "- Input: nums = [1,4,3,2]\n",
    "\n",
    "- Output: 4\n",
    "\n",
    "- Explanation:** All possible pairings (ignoring the ordering of elements) are:\n",
    "\n",
    "- 1. (1, 4), (2, 3) -> min(1, 4) + min(2, 3) = 1 + 2 = 3\n",
    "\n",
    "- 2. (1, 3), (2, 4) -> min(1, 3) + min(2, 4) = 1 + 2 = 3\n",
    "\n",
    "- 3. (1, 2), (3, 4) -> min(1, 2) + min(3, 4) = 1 + 3 = 4\n",
    "\n",
    "- So the maximum possible sum is 4."
   ]
  },
  {
   "cell_type": "code",
   "execution_count": 9,
   "id": "a0b27467",
   "metadata": {},
   "outputs": [
    {
     "data": {
      "text/plain": [
       "4"
      ]
     },
     "execution_count": 9,
     "metadata": {},
     "output_type": "execute_result"
    }
   ],
   "source": [
    "class Solution(object):\n",
    "    def arrayPairSum(self, nums):\n",
    "        nums.sort()\n",
    "        result = 0\n",
    "        numsLen = len(nums)\n",
    "        for i in range(0, numsLen - 1, 2):\n",
    "            result += nums[i]\n",
    "        return result\n",
    "s = Solution()\n",
    "s.arrayPairSum([1,4,3,2])"
   ]
  },
  {
   "cell_type": "markdown",
   "id": "6ddd5b7e",
   "metadata": {},
   "source": [
    "## Question 5\n",
    "### You have n coins and you want to build a staircase with these coins. \n",
    "### The staircase consists of k rows where the ith row has exactly i coins. The last row of the staircase may be incomplete.\n",
    "### Given the integer n, return the number of complete rows of the staircase you will build.\n"
   ]
  },
  {
   "cell_type": "code",
   "execution_count": 12,
   "id": "513e2b85",
   "metadata": {},
   "outputs": [
    {
     "data": {
      "text/plain": [
       "2"
      ]
     },
     "execution_count": 12,
     "metadata": {},
     "output_type": "execute_result"
    }
   ],
   "source": [
    "def staircase(n):\n",
    "    i = 1\n",
    "    count = 0\n",
    "    while(n > 0):\n",
    "        n = n - i\n",
    "        if(n < 0):\n",
    "            break\n",
    "        count +=1\n",
    "        i +=1\n",
    "    return count\n",
    "staircase(5)"
   ]
  },
  {
   "cell_type": "markdown",
   "id": "93617fe1",
   "metadata": {},
   "source": [
    "## Question 6\n",
    "### Given an integer array nums sorted in **non-decreasing** order, return *an array of **the squares of each number** sorted in non-decreasing order*.\n",
    "\n",
    "- Example 1:\n",
    "\n",
    "- Input: nums = [-4,-1,0,3,10]\n",
    "\n",
    "- Output: [0,1,9,16,100]\n"
   ]
  },
  {
   "cell_type": "code",
   "execution_count": 18,
   "id": "39103a75",
   "metadata": {},
   "outputs": [
    {
     "name": "stdout",
     "output_type": "stream",
     "text": [
      "[16, 1, 0, 9, 100]\n"
     ]
    }
   ],
   "source": [
    "def squares(arr):\n",
    "    for i in range(len(arr)):\n",
    "        arr[i] = arr[i]**2\n",
    "    return arr\n",
    "nums = [-4,-1,0,3,10]\n",
    "print(squares(nums))"
   ]
  },
  {
   "cell_type": "markdown",
   "id": "4ea3b0a4",
   "metadata": {},
   "source": [
    "## Question 7\n",
    "### You are given an m x n matrix M initialized with all 0's and an array of operations ops, where ops[i] = [ai, bi] means M[x][y] should be incremented by one for all 0 <= x < ai and 0 <= y < bi. Count and return *the number of maximum integers in the matrix after performing all the operations*\n"
   ]
  },
  {
   "cell_type": "code",
   "execution_count": 28,
   "id": "8a474aa0",
   "metadata": {},
   "outputs": [
    {
     "data": {
      "text/plain": [
       "4"
      ]
     },
     "execution_count": 28,
     "metadata": {},
     "output_type": "execute_result"
    }
   ],
   "source": [
    "class Solution:\n",
    "    def maxCount(self,m,n,ops):\n",
    "        length = len(ops)\n",
    "        if length == 0:\n",
    "            return m*n\n",
    "        result = [ops[0][0] , ops[0][1]]\n",
    "        for i in range(1,length):\n",
    "            result[0] = min(result[0] , ops[i][0])\n",
    "            result[1] = min(result[1] , ops[i][1])\n",
    "        return result[0]*result[1]  \n",
    "s = Solution()\n",
    "s.maxCount(3,3,[[2,2],[3,3]])"
   ]
  },
  {
   "cell_type": "markdown",
   "id": "774561e9",
   "metadata": {},
   "source": [
    "## Question 8\n",
    "\n",
    "### Given the array nums consisting of 2n elements in the form [x1,x2,...,xn,y1,y2,...,yn]. Return the array in the form  [x1,y1,x2,y2,...,xn,yn].\n",
    "\n",
    "- Example 1:\n",
    "- Input: nums = [2,5,1,3,4,7], n = 3\n",
    "- Output: [2,3,5,4,1,7]\n",
    "\n",
    "- Explanation: Since x1=2, x2=5, x3=1, y1=3, y2=4, y3=7 then the answer is [2,3,5,4,1,7].\n"
   ]
  },
  {
   "cell_type": "code",
   "execution_count": 24,
   "id": "1f2db16d",
   "metadata": {},
   "outputs": [
    {
     "data": {
      "text/plain": [
       "[2, 3, 5, 4, 1, 7]"
      ]
     },
     "execution_count": 24,
     "metadata": {},
     "output_type": "execute_result"
    }
   ],
   "source": [
    "def rearranging(nums):\n",
    "    a = nums[0:len(nums)//2]\n",
    "    b = nums[len(nums)//2:]\n",
    "    result = []\n",
    "    for i in range(len(a)):\n",
    "        result.append(a[i])\n",
    "        result.append(b[i])\n",
    "    return result\n",
    "nums = [2,5,1,3,4,7]\n",
    "rearranging(nums)"
   ]
  }
 ],
 "metadata": {
  "kernelspec": {
   "display_name": "Python 3 (ipykernel)",
   "language": "python",
   "name": "python3"
  },
  "language_info": {
   "codemirror_mode": {
    "name": "ipython",
    "version": 3
   },
   "file_extension": ".py",
   "mimetype": "text/x-python",
   "name": "python",
   "nbconvert_exporter": "python",
   "pygments_lexer": "ipython3",
   "version": "3.10.9"
  }
 },
 "nbformat": 4,
 "nbformat_minor": 5
}
