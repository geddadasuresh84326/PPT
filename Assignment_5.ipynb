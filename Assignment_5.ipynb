{
 "cells": [
  {
   "cell_type": "markdown",
   "id": "fbdf9fc8",
   "metadata": {},
   "source": [
    "## Question 1\n",
    "\n",
    "### Convert 1D Array Into 2D Array\n",
    "### You are given a **0-indexed** 1-dimensional (1D) integer array original, and two integers, m and n. You are tasked with creating a 2-dimensional (2D) array with  m rows and n columns using **all** the elements from original.\n",
    "\n",
    "### The elements from indices 0 to n - 1 (**inclusive**) of original should form the first row of the constructed 2D array, the elements from indices n to 2 * n - 1 (**inclusive**) should form the second row of the constructed 2D array, and so on.\n",
    "\n",
    "### Return *an* m x n *2D array constructed according to the above procedure, or an empty 2D array if it is impossible*.\n"
   ]
  },
  {
   "cell_type": "code",
   "execution_count": 21,
   "id": "f4e13cdd",
   "metadata": {},
   "outputs": [
    {
     "data": {
      "text/plain": [
       "[[1, 2], [3, 4]]"
      ]
     },
     "execution_count": 21,
     "metadata": {},
     "output_type": "execute_result"
    }
   ],
   "source": [
    "def two_d_array(arr,m,n):\n",
    "    if m*n != len(arr):\n",
    "        return []\n",
    "      \n",
    "    ans = []\n",
    "    for i in range(0, m*n, n):\n",
    "        ans.append(arr[i:i+n])\n",
    "            \n",
    "    return ans\n",
    "two_d_array([1,2,3,4],2,2)"
   ]
  },
  {
   "cell_type": "markdown",
   "id": "afdd04f8",
   "metadata": {},
   "source": [
    "## Question 2\n",
    "### You have n coins and you want to build a staircase with these coins. \n",
    "### The staircase consists of k rows where the ith row has exactly i coins. The last row of the staircase may be incomplete.\n",
    "### Given the integer n, return the number of complete rows of the staircase you will build."
   ]
  },
  {
   "cell_type": "code",
   "execution_count": 1,
   "id": "0cb7617a",
   "metadata": {},
   "outputs": [
    {
     "data": {
      "text/plain": [
       "2"
      ]
     },
     "execution_count": 1,
     "metadata": {},
     "output_type": "execute_result"
    }
   ],
   "source": [
    "def staircase(n):\n",
    "    i = 1\n",
    "    count = 0\n",
    "    while(n > 0):\n",
    "        n = n - i\n",
    "        if(n < 0):\n",
    "            break\n",
    "        count +=1\n",
    "        i +=1\n",
    "    return count\n",
    "staircase(5)"
   ]
  },
  {
   "cell_type": "markdown",
   "id": "15f6d9a1",
   "metadata": {},
   "source": [
    "## Question 3\n",
    "### Given an integer array nums sorted in **non-decreasing** order, return *an array of **the squares of each number** sorted in non-decreasing order*.\n",
    "\n",
    "- Example 1:\n",
    "\n",
    "- Input: nums = [-4,-1,0,3,10]\n",
    "\n",
    "- Output: [0,1,9,16,100]"
   ]
  },
  {
   "cell_type": "code",
   "execution_count": 2,
   "id": "4fdf66af",
   "metadata": {},
   "outputs": [
    {
     "name": "stdout",
     "output_type": "stream",
     "text": [
      "[0, 1, 9, 16, 100]\n"
     ]
    }
   ],
   "source": [
    "def squares(arr):\n",
    "    for i in range(len(arr)):\n",
    "        arr[i] = arr[i]**2\n",
    "    arr.sort()\n",
    "    return arr\n",
    "nums = [-4,-1,0,3,10]\n",
    "print(squares(nums))"
   ]
  },
  {
   "cell_type": "markdown",
   "id": "b18cdec6",
   "metadata": {},
   "source": [
    "## Question 4\n",
    "\n",
    "### Given two  0-indexed** integer arrays nums1 and nums2, return *a list* answer *of size* 2 *where:*\n",
    "\n",
    "- answer[0] *is a list of all **distinct** integers in* nums1 *which are **not** present in* nums2*.*\n",
    "- answer[1] *is a list of all **distinct** integers in* nums2 *which are **not** present in* nums1.\n",
    "\n",
    "### Note** that the integers in the lists may be returned in **any** order.\n",
    "\n",
    "- Example 1:**\n",
    "m\n",
    "- Input:** nums1 = [1,2,3], nums2 = [2,4,6]\n",
    "\n",
    "- Output:** [[1,3],[4,6]]\n",
    "\n",
    "- Explanation:**\n",
    "\n",
    "- For nums1, nums1[1] = 2 is present at index 0 of nums2, whereas nums1[0] = 1 and nums1[2] = 3 are not present in nums2. Therefore, answer[0] = [1,3].\n",
    "\n",
    "- For nums2, nums2[0] = 2 is present at index 1 of nums1, whereas nums2[1] = 4 and nums2[2] = 6 are not present in nums2. Therefore, answer[1] = [4,6].\n"
   ]
  },
  {
   "cell_type": "code",
   "execution_count": 3,
   "id": "61c18137",
   "metadata": {},
   "outputs": [
    {
     "data": {
      "text/plain": [
       "[[1, 3], [4, 6]]"
      ]
     },
     "execution_count": 3,
     "metadata": {},
     "output_type": "execute_result"
    }
   ],
   "source": [
    "def distinct_integers(arr1,arr2):\n",
    "    d1 = []\n",
    "    d2 = []\n",
    "    for i in arr1:\n",
    "        if i not in arr2:\n",
    "            d1.append(i)\n",
    "    for i in arr2:\n",
    "        if i not in arr1:\n",
    "            d2.append(i)\n",
    "    return [d1,d2]\n",
    "nums1 = [1,2,3]\n",
    "nums2 = [2,4,6]\n",
    "distinct_integers(nums1,nums2)"
   ]
  },
  {
   "cell_type": "markdown",
   "id": "de4d29bf",
   "metadata": {},
   "source": [
    "## Question 5\n",
    "\n",
    "### Given two integer arrays arr1 and arr2, and the integer d, return the distance value between the two arrays. The distance value is defined as the number of elements arr1[i] such that there is not any element arr2[j] where |arr1[i]-arr2[j]| <= d.\n",
    "\n",
    "- Example 1:\n",
    "\n",
    "- Input: arr1 = [4,5,8], arr2 = [10,9,1,8], d = 2\n",
    "\n",
    "- Output: 2\n",
    "\n",
    "- Explanation:\n",
    "\n",
    "- For arr1[0]=4 we have:\n",
    "\n",
    "- |4-10|=6 > d=2\n",
    "\n",
    "- |4-9|=5 > d=2\n",
    "\n",
    "- |4-1|=3 > d=2\n",
    "\n",
    "- |4-8|=4 > d=2\n",
    "\n",
    "- For arr1[1]=5 we have:\n",
    "\n",
    "- |5-10|=5 > d=2\n",
    "\n",
    "- |5-9|=4 > d=2\n",
    "\n",
    "- |5-1|=4 > d=2\n",
    "\n",
    "- |5-8|=3 > d=2\n",
    "\n",
    "- For arr1[2]=8 we have:\n",
    "\n",
    "- |8-10|=2 <= d=2\n",
    "\n",
    "- |8-9|=1 <= d=2\n",
    "\n",
    "- |8-1|=7 > d=2\n",
    "\n",
    "- |8-8|=0 <= d=2"
   ]
  },
  {
   "cell_type": "code",
   "execution_count": 7,
   "id": "4a97fdf9",
   "metadata": {},
   "outputs": [
    {
     "data": {
      "text/plain": [
       "2"
      ]
     },
     "execution_count": 7,
     "metadata": {},
     "output_type": "execute_result"
    }
   ],
   "source": [
    "def array_distance(arr1,arr2,d):\n",
    "    count = 0\n",
    "    for i in arr1:\n",
    "        flag = False\n",
    "        for j in arr2:\n",
    "            if abs(i-j) <= d:\n",
    "                flag = False\n",
    "                break\n",
    "            else:\n",
    "                flag = True\n",
    "        if(flag == True):\n",
    "            count +=1\n",
    "    return count\n",
    "\n",
    "arr1 = [4,5,8]\n",
    "arr2 = [10,9,1,8]\n",
    "d = 2\n",
    "\n",
    "array_distance(arr1,arr2,d)"
   ]
  },
  {
   "cell_type": "markdown",
   "id": "21ae0915",
   "metadata": {},
   "source": [
    "## Question 6\n",
    "\n",
    "### Given an integer array nums of length n where all the integers of nums are in the range [1, n] and each integer appears once or twice, return *an array of all the integers that appears twice.\n",
    "\n",
    "### You must write an algorithm that runs in O(n) time and uses only constant extra space.\n",
    "\n",
    "- Example 1:\n",
    "\n",
    "- Input: nums = [4,3,2,7,8,2,3,1]\n",
    "\n",
    "- Output:\n",
    "\n",
    "[2,3]\n"
   ]
  },
  {
   "cell_type": "code",
   "execution_count": 9,
   "id": "2e29eea3",
   "metadata": {},
   "outputs": [
    {
     "data": {
      "text/plain": [
       "[3, 2]"
      ]
     },
     "execution_count": 9,
     "metadata": {},
     "output_type": "execute_result"
    }
   ],
   "source": [
    "def appearences(nums):\n",
    "    dict = {}\n",
    "    for i in nums:\n",
    "        if i not in dict:\n",
    "            dict[i] = 1\n",
    "        else:\n",
    "            dict[i] = dict[i] + 1\n",
    "    result = []\n",
    "    for key in dict.keys():\n",
    "        if(dict[key] == 2):\n",
    "            result.append(key)\n",
    "    return result\n",
    "\n",
    "nums = [4,3,2,7,8,2,3,1]\n",
    "appearences(nums)"
   ]
  },
  {
   "cell_type": "markdown",
   "id": "8e66e2bc",
   "metadata": {},
   "source": [
    "## Question 7\n",
    "\n",
    "### Suppose an array of length n sorted in ascending order is rotated between 1 and n times. For example, the array nums = [0,1,2,4,5,6,7] might become:\n",
    "\n",
    "- [4,5,6,7,0,1,2] if it was rotated 4 times.\n",
    "- [0,1,2,4,5,6,7] if it was rotated 7 times.\n",
    "\n",
    "### Notice that rotating an array [a[0], a[1], a[2], ..., a[n-1]] 1 time results in the array [a[n-1], a[0], a[1], a[2], ..., a[n-2]].\n",
    "\n",
    "### Given the sorted rotated array nums of unique elements, return *the minimum element of this array.\n",
    "\n",
    "### You must write an algorithm that runs in O(log n) time.\n",
    "\n",
    "- Example 1:\n",
    "\n",
    "- Input: nums = [3,4,5,1,2]\n",
    "\n",
    "- Output: 1\n",
    "\n",
    "- Explanation:\n",
    "\n",
    "- The original array was [1,2,3,4,5] rotated 3 times.\n"
   ]
  },
  {
   "cell_type": "code",
   "execution_count": 14,
   "id": "b0239af0",
   "metadata": {},
   "outputs": [
    {
     "data": {
      "text/plain": [
       "[1, 2, 3, 4, 5]"
      ]
     },
     "execution_count": 14,
     "metadata": {},
     "output_type": "execute_result"
    }
   ],
   "source": [
    "def rotation(arr,k):\n",
    "    if(k >= 0):\n",
    "        k = k%len(arr)\n",
    "    else:\n",
    "        k = (k+len(arr))%len(arr)\n",
    "    reverse(arr,0,k-1)\n",
    "    reverse(arr,k,len(arr)-1)\n",
    "    reverse(arr,0,len(arr)-1)\n",
    "    \n",
    "    return arr\n",
    "def reverse(arr,i,k):\n",
    "    while(i<k):\n",
    "        temp = arr[i]\n",
    "        arr[i] = arr[k]\n",
    "        arr[k] = temp\n",
    "        i +=1\n",
    "        k -=1\n",
    "nums = [3,4,5,1,2]\n",
    "rotation(nums,3)"
   ]
  },
  {
   "cell_type": "markdown",
   "id": "35ae882a",
   "metadata": {},
   "source": [
    "## Question 8\n",
    "\n",
    "### An integer array original is transformed into a  doubled array changed by appending twice the value of every element in original, and then randomly  shuffling the resulting array. Given an array changed, return original if changed  is a doubled array. If changed is not a doubled array, return an empty array. The elements in original may be returned in any order.\n",
    "\n",
    "- Example 1:\n",
    "\n",
    "- Input: changed = [1,3,4,2,6,8]\n",
    "\n",
    "- Output: [1,3,4]\n",
    "\n",
    "- Explanation: One possible original array could be [1,3,4]:\n",
    "\n",
    "- Twice the value of 1 is 1 * 2 = 2.\n",
    "- Twice the value of 3 is 3 * 2 = 6.\n",
    "- Twice the value of 4 is 4 * 2 = 8.\n",
    "\n",
    "- Other original arrays could be [4,3,1] or [3,1,4]."
   ]
  },
  {
   "cell_type": "code",
   "execution_count": 18,
   "id": "45d7d005",
   "metadata": {},
   "outputs": [
    {
     "name": "stdout",
     "output_type": "stream",
     "text": [
      "[1, 3, 4]\n"
     ]
    }
   ],
   "source": [
    "def double_array(arr):\n",
    "    mid = len(arr)//2\n",
    "    j = mid\n",
    "    flag = False\n",
    "    for i in range(mid):\n",
    "        if(arr[i]*2 != arr[j]):\n",
    "            flag = False\n",
    "            break\n",
    "        else:\n",
    "            flag =True\n",
    "        j +=1\n",
    "    if flag:\n",
    "        return arr[:mid]\n",
    "    else:\n",
    "        return []\n",
    "print(double_array([1,3,4,2,6,8]))"
   ]
  },
  {
   "cell_type": "code",
   "execution_count": 19,
   "id": "4e69d4d6",
   "metadata": {},
   "outputs": [
    {
     "name": "stdout",
     "output_type": "stream",
     "text": [
      "[]\n"
     ]
    }
   ],
   "source": [
    "print(double_array([2,6,4,4,12,9]))"
   ]
  }
 ],
 "metadata": {
  "kernelspec": {
   "display_name": "Python 3 (ipykernel)",
   "language": "python",
   "name": "python3"
  },
  "language_info": {
   "codemirror_mode": {
    "name": "ipython",
    "version": 3
   },
   "file_extension": ".py",
   "mimetype": "text/x-python",
   "name": "python",
   "nbconvert_exporter": "python",
   "pygments_lexer": "ipython3",
   "version": "3.10.9"
  }
 },
 "nbformat": 4,
 "nbformat_minor": 5
}
