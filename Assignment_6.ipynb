{
 "cells": [
  {
   "cell_type": "markdown",
   "id": "d6861f95",
   "metadata": {},
   "source": [
    "## Question 1"
   ]
  },
  {
   "cell_type": "code",
   "execution_count": 2,
   "id": "29040608",
   "metadata": {},
   "outputs": [],
   "source": [
    "class Solution:\n",
    "    def diStringMatch(self, S: str):\n",
    "        mini=0\n",
    "        maxi=len(S)\n",
    "        l=[]\n",
    "        \n",
    "        for i in S:\n",
    "            if i==\"I\":\n",
    "                l.append(mini)\n",
    "                mini+=1\n",
    "            else:\n",
    "                l.append(maxi)\n",
    "                maxi-=1\n",
    "        return l+[maxi]\n"
   ]
  },
  {
   "cell_type": "code",
   "execution_count": 3,
   "id": "a9fb7820",
   "metadata": {},
   "outputs": [
    {
     "data": {
      "text/plain": [
       "[0, 4, 1, 3, 2]"
      ]
     },
     "execution_count": 3,
     "metadata": {},
     "output_type": "execute_result"
    }
   ],
   "source": [
    "s = Solution()\n",
    "s.diStringMatch(\"IDID\")"
   ]
  },
  {
   "cell_type": "markdown",
   "id": "2bd1be4c",
   "metadata": {},
   "source": [
    "## Question 2"
   ]
  },
  {
   "cell_type": "code",
   "execution_count": 4,
   "id": "20282a07",
   "metadata": {},
   "outputs": [
    {
     "data": {
      "text/plain": [
       "True"
      ]
     },
     "execution_count": 4,
     "metadata": {},
     "output_type": "execute_result"
    }
   ],
   "source": [
    "def finding_a_value(arr,target):\n",
    "    cols = len(arr[0])-1\n",
    "    for i in range(len(arr)):\n",
    "        if target < arr[i][cols]:\n",
    "            start = 0\n",
    "            end = cols\n",
    "            while(start <= end):\n",
    "                mid = (start + end)//2\n",
    "                if arr[i][mid] == target:\n",
    "                    return True\n",
    "                elif arr[i][mid] > target:\n",
    "                    end = mid -1\n",
    "                else:\n",
    "                    start = mid +1\n",
    "    return False\n",
    "finding_a_value([[1,3,5,7],[10,11,16,20],[23,30,34,60]],3)"
   ]
  },
  {
   "cell_type": "markdown",
   "id": "b8aaefaa",
   "metadata": {},
   "source": [
    "## Question 3"
   ]
  },
  {
   "cell_type": "code",
   "execution_count": 17,
   "id": "5d718f83",
   "metadata": {},
   "outputs": [
    {
     "data": {
      "text/plain": [
       "False"
      ]
     },
     "execution_count": 17,
     "metadata": {},
     "output_type": "execute_result"
    }
   ],
   "source": [
    "def mountain_array(arr):\n",
    "    if len(arr)<3:\n",
    "        return False\n",
    "    \n",
    "    mx =arr.index(max(arr))\n",
    "    count = 0\n",
    "    for i in range(mx):\n",
    "        if arr[i] < arr[i+1]:\n",
    "            count +=1\n",
    "        else:\n",
    "            return False\n",
    "    for j in range(mx+1,len(arr)-1):\n",
    "        if arr[j] > arr[j+1]:\n",
    "            count +=1\n",
    "        else:\n",
    "            return False\n",
    "    if count == len(arr)-2:\n",
    "        return True\n",
    "    else:\n",
    "        return False\n",
    "                \n",
    "mountain_array([1,2,3,4,5,2,1,1])"
   ]
  },
  {
   "cell_type": "markdown",
   "id": "6f85e2f0",
   "metadata": {},
   "source": [
    "## Question 4"
   ]
  },
  {
   "cell_type": "code",
   "execution_count": 18,
   "id": "2095c4e1",
   "metadata": {},
   "outputs": [
    {
     "name": "stdout",
     "output_type": "stream",
     "text": [
      "0 to 5\n"
     ]
    },
    {
     "data": {
      "text/plain": [
       "6"
      ]
     },
     "execution_count": 18,
     "metadata": {},
     "output_type": "execute_result"
    }
   ],
   "source": [
    "def findSubArray(arr, n):\n",
    " \n",
    "    sum = 0\n",
    "    maxsize = -1\n",
    " \n",
    "    # Pick a starting point as i\n",
    " \n",
    "    for i in range(0, n-1):\n",
    "     \n",
    "        sum = -1 if(arr[i] == 0) else 1\n",
    " \n",
    "        # Consider all subarrays starting from i\n",
    " \n",
    "        for j in range(i + 1, n):\n",
    "         \n",
    "            sum = sum + (-1) if (arr[j] == 0) else sum + 1\n",
    " \n",
    "            # If this is a 0 sum subarray, then\n",
    "            # compare it with maximum size subarray\n",
    "            # calculated so far\n",
    " \n",
    "            if (sum == 0 and maxsize < j-i + 1):\n",
    "                 \n",
    "                maxsize = j - i + 1\n",
    "                startindex = i\n",
    "             \n",
    "         \n",
    "     \n",
    "    if (maxsize == -1):\n",
    "        print(\"No such subarray\");\n",
    "    else:\n",
    "        print(startindex, \"to\", startindex + maxsize-1);\n",
    " \n",
    "    return maxsize\n",
    " \n",
    "# Driver program to test above functions\n",
    "arr = [1, 0, 0, 1, 0, 1, 1]\n",
    "size = len(arr)\n",
    "findSubArray(arr, size)"
   ]
  },
  {
   "cell_type": "markdown",
   "id": "7f23eee9",
   "metadata": {},
   "source": [
    "## Question 5"
   ]
  },
  {
   "cell_type": "code",
   "execution_count": 19,
   "id": "98bd5bce",
   "metadata": {},
   "outputs": [
    {
     "data": {
      "text/plain": [
       "47"
      ]
     },
     "execution_count": 19,
     "metadata": {},
     "output_type": "execute_result"
    }
   ],
   "source": [
    "def min_product_sum(arr1,arr2):\n",
    "    sorted(arr1)\n",
    "    sorted(arr2)\n",
    "    j = len(arr2)-1\n",
    "    prod = 0\n",
    "    for i in range(len(arr1)):\n",
    "        prod += arr1[i] * arr2[j]\n",
    "        j -=1\n",
    "    return prod\n",
    "min_product_sum([5,3,4,2],[4,2,2,5])"
   ]
  },
  {
   "cell_type": "markdown",
   "id": "698735b1",
   "metadata": {},
   "source": [
    "## Question 6"
   ]
  },
  {
   "cell_type": "code",
   "execution_count": null,
   "id": "28222300",
   "metadata": {},
   "outputs": [],
   "source": [
    "def double_array(arr):\n",
    "    mid = len(arr)//2\n",
    "    j = mid\n",
    "    flag = False\n",
    "    for i in range(mid):\n",
    "        if(arr[i]*2 != arr[j]):\n",
    "            flag = False\n",
    "            break\n",
    "        else:\n",
    "            flag =True\n",
    "        j +=1\n",
    "    if flag:\n",
    "        return arr[:mid]\n",
    "    else:\n",
    "        return []\n",
    "print(double_array([1,3,4,2,6,8]))"
   ]
  },
  {
   "cell_type": "markdown",
   "id": "ce4bb47c",
   "metadata": {},
   "source": [
    "## Question 8"
   ]
  },
  {
   "cell_type": "code",
   "execution_count": 21,
   "id": "b80232e0",
   "metadata": {},
   "outputs": [
    {
     "data": {
      "text/plain": [
       "[[7, 0, 0], [-7, 0, 3]]"
      ]
     },
     "execution_count": 21,
     "metadata": {},
     "output_type": "execute_result"
    }
   ],
   "source": [
    "class Solution:\n",
    "    def multiply(self, mat1, mat2):\n",
    "        r1, c1, c2 = len(mat1), len(mat1[0]), len(mat2[0])\n",
    "        res = [[0] * c2 for _ in range(r1)]\n",
    "        for i in range(r1):\n",
    "            for j in range(c2):\n",
    "                for k in range(c1):\n",
    "                    res[i][j] += mat1[i][k] * mat2[k][j]\n",
    "        return res\n",
    "s = Solution()\n",
    "s.multiply([[1,0,0],[-1,0,3]],[[7,0,0],[0,0,0],[0,0,1]])"
   ]
  },
  {
   "cell_type": "code",
   "execution_count": null,
   "id": "5135bb8e",
   "metadata": {},
   "outputs": [],
   "source": []
  }
 ],
 "metadata": {
  "kernelspec": {
   "display_name": "Python 3 (ipykernel)",
   "language": "python",
   "name": "python3"
  },
  "language_info": {
   "codemirror_mode": {
    "name": "ipython",
    "version": 3
   },
   "file_extension": ".py",
   "mimetype": "text/x-python",
   "name": "python",
   "nbconvert_exporter": "python",
   "pygments_lexer": "ipython3",
   "version": "3.10.9"
  }
 },
 "nbformat": 4,
 "nbformat_minor": 5
}
