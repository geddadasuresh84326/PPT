{
 "cells": [
  {
   "cell_type": "markdown",
   "id": "81cde08f",
   "metadata": {},
   "source": [
    "## Question 1\n",
    "\n",
    "\n"
   ]
  },
  {
   "cell_type": "code",
   "execution_count": 1,
   "id": "93a1dd9d",
   "metadata": {},
   "outputs": [],
   "source": [
    "import numpy as np"
   ]
  },
  {
   "cell_type": "code",
   "execution_count": 7,
   "id": "3565505f",
   "metadata": {},
   "outputs": [
    {
     "data": {
      "text/plain": [
       "True"
      ]
     },
     "execution_count": 7,
     "metadata": {},
     "output_type": "execute_result"
    }
   ],
   "source": [
    "def isomorphic_strings(str1,str2):\n",
    "    dict1 = {}\n",
    "    dict2 = {}\n",
    "    for i in str1:\n",
    "        if i not in dict1:\n",
    "            dict1[i] = 1\n",
    "        else:\n",
    "            dict1[i] = dict1[i] + 1\n",
    "            \n",
    "    for i in str2:\n",
    "        if i not in dict2:\n",
    "            dict2[i] = 1\n",
    "        else:\n",
    "            dict2[i] = dict2[i] + 1\n",
    "    v1 = list(dict1.values())\n",
    "    v2 = list(dict2.values())\n",
    "    \n",
    "    v1.sort()\n",
    "    v2.sort()\n",
    "    \n",
    "    for i in range(len(v1)):\n",
    "        if(v1[i] != v2[i]):\n",
    "            return False\n",
    "    return True\n",
    "\n",
    "isomorphic_strings(\"egg\",\"add\")"
   ]
  },
  {
   "cell_type": "code",
   "execution_count": 8,
   "id": "167a0108",
   "metadata": {},
   "outputs": [
    {
     "data": {
      "text/plain": [
       "False"
      ]
     },
     "execution_count": 8,
     "metadata": {},
     "output_type": "execute_result"
    }
   ],
   "source": [
    "isomorphic_strings(\"foo\",\"bar\")"
   ]
  },
  {
   "cell_type": "markdown",
   "id": "aace88f5",
   "metadata": {},
   "source": [
    "## Question 3"
   ]
  },
  {
   "cell_type": "code",
   "execution_count": 2,
   "id": "5ba1172d",
   "metadata": {},
   "outputs": [
    {
     "data": {
      "text/plain": [
       "'143'"
      ]
     },
     "execution_count": 2,
     "metadata": {},
     "output_type": "execute_result"
    }
   ],
   "source": [
    "def add_of_strings(str1,str2):\n",
    "    return str(int(str1) + int(str2))\n",
    "add_of_strings(\"11\",\"132\")"
   ]
  },
  {
   "cell_type": "markdown",
   "id": "ec3f6eef",
   "metadata": {},
   "source": [
    "## Question 4"
   ]
  },
  {
   "cell_type": "code",
   "execution_count": 9,
   "id": "e048f218",
   "metadata": {},
   "outputs": [
    {
     "data": {
      "text/plain": [
       "\"s'teL ekat edoCteeL tsetnoc\""
      ]
     },
     "execution_count": 9,
     "metadata": {},
     "output_type": "execute_result"
    }
   ],
   "source": [
    "def reversing_each_word(str):\n",
    "    lst = str.split()\n",
    "    for i in range(len(lst)):\n",
    "        lst[i] = lst[i][::-1]\n",
    "    return (\" \").join(lst)\n",
    "reversing_each_word(\"Let's take LeetCode contest\")"
   ]
  },
  {
   "cell_type": "markdown",
   "id": "ac58084d",
   "metadata": {},
   "source": [
    "## Question 8"
   ]
  },
  {
   "cell_type": "code",
   "execution_count": 1,
   "id": "77cfbe49",
   "metadata": {},
   "outputs": [
    {
     "data": {
      "text/plain": [
       "True"
      ]
     },
     "execution_count": 1,
     "metadata": {},
     "output_type": "execute_result"
    }
   ],
   "source": [
    "def straight_line(arr):\n",
    "    for i in range(len(arr)):\n",
    "        if arr[i][1] == arr[i][0]+1:\n",
    "            return True\n",
    "    return False\n",
    "straight_line([[1,2],[2,3],[3,4],[4,5],[5,6],[6,7]])"
   ]
  },
  {
   "cell_type": "code",
   "execution_count": null,
   "id": "bd025ea6",
   "metadata": {},
   "outputs": [],
   "source": []
  }
 ],
 "metadata": {
  "kernelspec": {
   "display_name": "Python 3 (ipykernel)",
   "language": "python",
   "name": "python3"
  },
  "language_info": {
   "codemirror_mode": {
    "name": "ipython",
    "version": 3
   },
   "file_extension": ".py",
   "mimetype": "text/x-python",
   "name": "python",
   "nbconvert_exporter": "python",
   "pygments_lexer": "ipython3",
   "version": "3.10.9"
  }
 },
 "nbformat": 4,
 "nbformat_minor": 5
}
