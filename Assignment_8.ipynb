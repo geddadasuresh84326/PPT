{
 "cells": [
  {
   "cell_type": "markdown",
   "id": "1759dbbb",
   "metadata": {},
   "source": [
    "## Question 1\n",
    "### Given two strings s1 and s2, return the lowest ASCII sum of deleted characters to make two strings equal."
   ]
  },
  {
   "cell_type": "code",
   "execution_count": 1,
   "id": "b1314928",
   "metadata": {},
   "outputs": [
    {
     "name": "stdout",
     "output_type": "stream",
     "text": [
      "Result :  231\n"
     ]
    }
   ],
   "source": [
    "def ascii_sum(str1,str2):\n",
    "    new_string = str1+str2\n",
    "    sum = 0\n",
    "    for i in new_string:\n",
    "        if i not in str2 or i not in str1:\n",
    "            sum +=ord(i)\n",
    "    return sum\n",
    "\n",
    "str1 = \"sea\"\n",
    "str2 = \"eat\"\n",
    "result = ascii_sum(str1,str2)\n",
    "print(\"Result : \",result)"
   ]
  },
  {
   "cell_type": "markdown",
   "id": "9c24a472",
   "metadata": {},
   "source": [
    "## Question 2\n",
    "\n",
    "### Given a string s containing only three types of characters: '(', ')' and '*', return true *if* s *is **valid***.\n",
    "\n",
    "### The following rules define a **valid** string:\n",
    "\n",
    "- Any left parenthesis '(' must have a corresponding right parenthesis ')'.\n",
    "- Any right parenthesis ')' must have a corresponding left parenthesis '('.\n",
    "- Left parenthesis '(' must go before the corresponding right parenthesis ')'.\n",
    "- '*' could be treated as a single right parenthesis ')' or a single left parenthesis '(' or an empty string \"\".\n"
   ]
  },
  {
   "cell_type": "code",
   "execution_count": 10,
   "id": "9f06ac17",
   "metadata": {},
   "outputs": [
    {
     "data": {
      "text/plain": [
       "True"
      ]
     },
     "execution_count": 10,
     "metadata": {},
     "output_type": "execute_result"
    }
   ],
   "source": [
    "class Solution:\n",
    "    def checkValidString(self, s: str) -> bool:\n",
    "        x = 0\n",
    "        for c in s:\n",
    "            if c in '(*':\n",
    "                x += 1\n",
    "            elif x:\n",
    "                x -= 1\n",
    "            else:\n",
    "                return False\n",
    "        x = 0\n",
    "        for c in s[::-1]:\n",
    "            if c in '*)':\n",
    "                x += 1\n",
    "            elif x:\n",
    "                x -= 1\n",
    "            else:\n",
    "                return False\n",
    "        return True\n",
    "\n",
    "str1 = \"(((*)))\"\n",
    "s = Solution()\n",
    "s.checkValidString(str1)"
   ]
  },
  {
   "cell_type": "markdown",
   "id": "4f0b2d26",
   "metadata": {},
   "source": [
    "## Question 3\n",
    "\n",
    "### Given two strings word1 and word2, return *the minimum number of **steps** required to make* word1 *and* word2 *the same*. In one **step**, you can delete exactly one character in either string.\n"
   ]
  },
  {
   "cell_type": "code",
   "execution_count": 4,
   "id": "09db1d67",
   "metadata": {},
   "outputs": [
    {
     "name": "stdout",
     "output_type": "stream",
     "text": [
      "Minimum no of steps required :  2\n"
     ]
    }
   ],
   "source": [
    "def min_no_of_steps(str1,str2):\n",
    "    new_string = str1+str2\n",
    "    count = 0\n",
    "    for i in new_string:\n",
    "        if i not in str2 or i not in str1:\n",
    "            count +=1\n",
    "    return count\n",
    "\n",
    "str1 = \"sea\"\n",
    "str2 = \"eat\"\n",
    "result = min_no_of_steps(str1,str2)\n",
    "print(\"Minimum no of steps required : \",result)"
   ]
  },
  {
   "cell_type": "markdown",
   "id": "47e8a224",
   "metadata": {},
   "source": [
    "## Question 4\n",
    "\n",
    "### You need to construct a binary tree from a string consisting of parenthesis and integers.The whole input represents a binary tree. It contains an integer followed by zero, one or two pairs of parenthesis. The integer represents the root's value and a pair of parenthesis contains a child binary tree with the same structure. You always start to construct the **left** child node of the parent first if it exists.\n"
   ]
  },
  {
   "cell_type": "markdown",
   "id": "d326ba9a",
   "metadata": {},
   "source": [
    "## Question 5\n",
    "\n",
    "### Given an array of characters chars, compress it using the following algorithm: Begin with an empty string s. For each group of **consecutive repeating characters** in chars:\n",
    "\n",
    "- If the group's length is 1, append the character to s.\n",
    "- Otherwise, append the character followed by the group's length.\n",
    "\n",
    "### The compressed string s **should not be returned separately**, but instead, be stored **in the input character array chars**. Note that group lengths that are 10 or longer will be split into multiple characters in chars. After you are done **modifying the input array,** return *the new length of the array*. You must write an algorithm that uses only constant extra space.\n",
    "\n",
    "### Example 1:\n",
    "\n",
    "- Input: chars = [\"a\",\"a\",\"b\",\"b\",\"c\",\"c\",\"c\"]\n",
    "\n",
    "- Output: Return 6, and the first 6 characters of the input array should be: [\"a\",\"2\",\"b\",\"2\",\"c\",\"3\"]\n"
   ]
  },
  {
   "cell_type": "code",
   "execution_count": 15,
   "id": "58e4bb9c",
   "metadata": {},
   "outputs": [
    {
     "data": {
      "text/plain": [
       "6"
      ]
     },
     "execution_count": 15,
     "metadata": {},
     "output_type": "execute_result"
    }
   ],
   "source": [
    "class Solution:\n",
    "    def compress(self, chars) -> int:\n",
    "        i, k, n = 0, 0, len(chars)\n",
    "        while i < n:\n",
    "            j = i + 1\n",
    "            while j < n and chars[j] == chars[i]:\n",
    "                j += 1\n",
    "            chars[k] = chars[i]\n",
    "            k += 1\n",
    "            if j - i > 1:\n",
    "                cnt = str(j - i)\n",
    "                for c in cnt:\n",
    "                    chars[k] = c\n",
    "                    k += 1\n",
    "            i = j\n",
    "        return k\n",
    "    \n",
    "chars = [\"a\",\"a\",\"b\",\"b\",\"c\",\"c\",\"c\"]\n",
    "s = Solution()\n",
    "s.compress(chars)"
   ]
  },
  {
   "cell_type": "markdown",
   "id": "8332fcf1",
   "metadata": {},
   "source": [
    "## Question 6\n",
    "\n",
    "### Given two strings s and p, return *an array of all the start indices of* p*'s anagrams in* s. You may return the answer in **any order**.An **Anagram** is a word or phrase formed by rearranging the letters of a different word or phrase, typically using all the original letters exactly once.\n",
    "\n",
    "- Example 1:\n",
    "\n",
    "- Input: s = \"cbaebabacd\", p = \"abc\"\n",
    "\n",
    "- Output: [0,6]\n",
    "\n"
   ]
  },
  {
   "cell_type": "code",
   "execution_count": 18,
   "id": "021b382b",
   "metadata": {},
   "outputs": [
    {
     "name": "stdout",
     "output_type": "stream",
     "text": [
      "[0, 6]\n"
     ]
    }
   ],
   "source": [
    "from collections import Counter\n",
    "class Solution:\n",
    "    def findAnagrams(self, s: str, p: str):\n",
    "        m, n = len(s), len(p)\n",
    "        ans = []\n",
    "        if m < n:\n",
    "            return ans\n",
    "        cnt1 = Counter(p)\n",
    "        cnt2 = Counter(s[: n - 1])\n",
    "        for i in range(n - 1, m):\n",
    "            cnt2[s[i]] += 1\n",
    "            if cnt1 == cnt2:\n",
    "                ans.append(i - n + 1)\n",
    "            cnt2[s[i - n + 1]] -= 1\n",
    "        return ans\n",
    "\n",
    "s = \"cbaebabacd\"\n",
    "p = \"abc\"\n",
    "result = Solution().findAnagrams(s,p)\n",
    "print(result)"
   ]
  },
  {
   "cell_type": "markdown",
   "id": "b7eaf5e6",
   "metadata": {},
   "source": [
    "## Question 8\n",
    "### Given two strings s and goal, return true if you can swap two letters in s so the result is equal to goal, otherwise, return false."
   ]
  },
  {
   "cell_type": "code",
   "execution_count": 8,
   "id": "7915a7a0",
   "metadata": {},
   "outputs": [
    {
     "name": "stdout",
     "output_type": "stream",
     "text": [
      "True\n"
     ]
    }
   ],
   "source": [
    "from collections import Counter\n",
    "class Solution:\n",
    "    def buddyStrings(self, s: str, goal: str) -> bool:\n",
    "        m, n = len(s), len(goal)\n",
    "        if m != n:\n",
    "            return False\n",
    "        cnt1, cnt2 = Counter(s), Counter(goal)\n",
    "        if cnt1 != cnt2:\n",
    "            return False\n",
    "        diff = sum(s[i] != goal[i] for i in range(n))\n",
    "        return diff == 2 or (diff == 0 and any(v > 1 for v in cnt1.values()))\n",
    "    \n",
    "    \n",
    "s = Solution()\n",
    "s1 = \"ab\"\n",
    "goal = \"ba\"\n",
    "result = s.buddyStrings(s1,goal)\n",
    "print(result)"
   ]
  }
 ],
 "metadata": {
  "kernelspec": {
   "display_name": "Python 3 (ipykernel)",
   "language": "python",
   "name": "python3"
  },
  "language_info": {
   "codemirror_mode": {
    "name": "ipython",
    "version": 3
   },
   "file_extension": ".py",
   "mimetype": "text/x-python",
   "name": "python",
   "nbconvert_exporter": "python",
   "pygments_lexer": "ipython3",
   "version": "3.10.9"
  }
 },
 "nbformat": 4,
 "nbformat_minor": 5
}
