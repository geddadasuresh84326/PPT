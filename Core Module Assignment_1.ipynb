{
 "cells": [
  {
   "cell_type": "markdown",
   "id": "01484906",
   "metadata": {},
   "source": [
    "#### 1. Write a Python program to reverse a string without using any built-in string reversal functions.\n"
   ]
  },
  {
   "cell_type": "code",
   "execution_count": 2,
   "id": "15bc42d2",
   "metadata": {},
   "outputs": [
    {
     "name": "stdout",
     "output_type": "stream",
     "text": [
      "esrever\n"
     ]
    }
   ],
   "source": [
    "str1 = \"reverse\"\n",
    "print(str1[::-1])"
   ]
  },
  {
   "cell_type": "markdown",
   "id": "29d2c4c2",
   "metadata": {},
   "source": [
    "#### 2. Implement a function to check if a given string is a palindrome.\n"
   ]
  },
  {
   "cell_type": "code",
   "execution_count": 4,
   "id": "b477eb44",
   "metadata": {},
   "outputs": [
    {
     "name": "stdout",
     "output_type": "stream",
     "text": [
      "Yes,string is palindrome\n"
     ]
    }
   ],
   "source": [
    "def palindrome(str):\n",
    "    i = 0\n",
    "    j = len(str2)-1\n",
    "    while(i<j):\n",
    "        if str2[i] != str2[j]:\n",
    "            return False\n",
    "        i +=1\n",
    "        j -=1\n",
    "    return True\n",
    "\n",
    "str2 = \"madam\"\n",
    "if palindrome(str2):\n",
    "    print(\"Yes,string is palindrome\")\n",
    "else:\n",
    "    print(\"No,string is not palindrome\")\n"
   ]
  },
  {
   "cell_type": "markdown",
   "id": "922a1588",
   "metadata": {},
   "source": [
    "#### 3. Write a program to find the largest element in a given list.\n"
   ]
  },
  {
   "cell_type": "code",
   "execution_count": 5,
   "id": "9bd308a9",
   "metadata": {},
   "outputs": [
    {
     "name": "stdout",
     "output_type": "stream",
     "text": [
      "Maximum element in the list :  3\n"
     ]
    }
   ],
   "source": [
    "def largest_element(lst):\n",
    "    return max(lst)\n",
    "\n",
    "my_list = [1,2,3]\n",
    "print(\"Maximum element in the list : \",largest_element(my_list))"
   ]
  },
  {
   "cell_type": "markdown",
   "id": "ceee967e",
   "metadata": {},
   "source": [
    "#### 4. Implement a function to count the occurrence of each element in a list.\n"
   ]
  },
  {
   "cell_type": "code",
   "execution_count": 7,
   "id": "e48a7e69",
   "metadata": {},
   "outputs": [
    {
     "name": "stdout",
     "output_type": "stream",
     "text": [
      "{1: 1, 2: 4, 3: 3}\n"
     ]
    }
   ],
   "source": [
    "def occurences(lst):\n",
    "    result = {}\n",
    "    for i in lst:\n",
    "        cnt = lst.count(i)\n",
    "        result[i] = cnt\n",
    "    return result\n",
    "\n",
    "lst = [1,2,2,2,2,3,3,3]\n",
    "\n",
    "print(occurences(lst))"
   ]
  },
  {
   "cell_type": "markdown",
   "id": "020dfb07",
   "metadata": {},
   "source": [
    "#### 5. Write a Python program to find the second largest number in a list.\n"
   ]
  },
  {
   "cell_type": "code",
   "execution_count": 10,
   "id": "3a9d21d5",
   "metadata": {},
   "outputs": [
    {
     "name": "stdout",
     "output_type": "stream",
     "text": [
      "There is no second largest element\n"
     ]
    }
   ],
   "source": [
    "def second_largest_number(lst):\n",
    "    lst.sort()\n",
    "    i = len(lst)-1\n",
    "    if len(lst) <= 1:\n",
    "        return False\n",
    "    while(i != 1):\n",
    "        if lst[i] != lst[i-1]:\n",
    "            return lst[i-1]\n",
    "        i -=1\n",
    "        \n",
    "lst = [12,34,56,78,334,23,76]\n",
    "result = second_largest_number(lst)\n",
    "if result:\n",
    "    print(\"The second largest number : \",result)\n",
    "else:\n",
    "    print(\"There is no second largest element\")"
   ]
  },
  {
   "cell_type": "markdown",
   "id": "eae85a6d",
   "metadata": {},
   "source": [
    "#### 6. Implement a function to remove duplicate elements from a list.\n"
   ]
  },
  {
   "cell_type": "code",
   "execution_count": 12,
   "id": "748cfec9",
   "metadata": {},
   "outputs": [
    {
     "name": "stdout",
     "output_type": "stream",
     "text": [
      "[1, 2, 3, 5, 6, 7]\n"
     ]
    }
   ],
   "source": [
    "def remove_duplicates(lst):\n",
    "    return list(set(lst))\n",
    "\n",
    "lst = [1,1,1,1,2,2,3,5,6,7]\n",
    "print(remove_duplicates(lst))"
   ]
  },
  {
   "cell_type": "markdown",
   "id": "357c5309",
   "metadata": {},
   "source": [
    "#### 7. Write a program to calculate the factorial of a given number.\n"
   ]
  },
  {
   "cell_type": "code",
   "execution_count": 16,
   "id": "9654493c",
   "metadata": {},
   "outputs": [
    {
     "name": "stdout",
     "output_type": "stream",
     "text": [
      "The factorial of 6 is : 720\n"
     ]
    }
   ],
   "source": [
    "def fact(num):\n",
    "    if num <= 1:\n",
    "        return 1\n",
    "    return num * fact(num-1)\n",
    "\n",
    "num = 6\n",
    "\n",
    "result = fact(num)\n",
    "print(f\"The factorial of {num} is : {result}\")"
   ]
  },
  {
   "cell_type": "markdown",
   "id": "4fd625b7",
   "metadata": {},
   "source": [
    "#### 8. Implement a function to check if a given number is prime.\n"
   ]
  },
  {
   "cell_type": "code",
   "execution_count": 2,
   "id": "98dbbd38",
   "metadata": {},
   "outputs": [
    {
     "name": "stdout",
     "output_type": "stream",
     "text": [
      "10 is not a prime number\n"
     ]
    }
   ],
   "source": [
    "def isPrime(num):\n",
    "    if(num<2):\n",
    "        return False\n",
    "    else:\n",
    "        for i in range(2,num):\n",
    "            if(num%i == 0):\n",
    "                return False\n",
    "    return True\n",
    "            \n",
    "num = 10\n",
    "result = isPrime(num)\n",
    "if result:\n",
    "    print(f\"{num} is a prime number\")\n",
    "else:\n",
    "    print(f\"{num} is not a prime number\")"
   ]
  },
  {
   "cell_type": "markdown",
   "id": "1c6d5461",
   "metadata": {},
   "source": [
    "#### 9. Write a Python program to sort a list of integers in ascending order.\n"
   ]
  },
  {
   "cell_type": "code",
   "execution_count": 4,
   "id": "bdc271f7",
   "metadata": {},
   "outputs": [
    {
     "name": "stdout",
     "output_type": "stream",
     "text": [
      "Sorted array after applying merge sort is :  [13, 27, 50, 62, 65, 70, 80, 98]\n"
     ]
    }
   ],
   "source": [
    "def merge_sort(arr):\n",
    "    i = 0\n",
    "    j = len(arr)-1\n",
    "    if len(arr) == 1:\n",
    "        return arr\n",
    "    mid = i + (j-i)//2\n",
    "    left = merge_sort(arr[i:mid+1])\n",
    "    right = merge_sort(arr[mid+1:j+1])\n",
    "    return sorting(left,right)    \n",
    "\n",
    "def sorting(arr1,arr2):\n",
    "    i = 0\n",
    "    j = 0\n",
    "    k = 0\n",
    "    result = [0]*(len(arr1)+len(arr2))\n",
    "    \n",
    "    while(i<len(arr1) and j<len(arr2)):\n",
    "        if arr1[i] < arr2[j]:\n",
    "            result[k] = arr1[i]\n",
    "            i +=1\n",
    "        else:\n",
    "            result[k] = arr2[j]\n",
    "            j +=1\n",
    "        k +=1\n",
    "    while(i<len(arr1)):\n",
    "        result[k] = arr1[i]\n",
    "        i +=1\n",
    "        k +=1\n",
    "    while(j<len(arr2)):\n",
    "        result[k] = arr2[j]\n",
    "        j +=1\n",
    "        k +=1\n",
    "    return result\n",
    "\n",
    "## Driver code\n",
    "arr = [50,70,65,13,80,62,98,27]\n",
    "i = 0\n",
    "j = len(arr)-1\n",
    "## function calling\n",
    "result = merge_sort(arr)\n",
    "print(\"Sorted array after applying merge sort is : \",result)"
   ]
  },
  {
   "cell_type": "markdown",
   "id": "6fcf56a2",
   "metadata": {},
   "source": [
    "#### 10. Implement a function to find the sum of all numbers in a list.\n"
   ]
  },
  {
   "cell_type": "code",
   "execution_count": 18,
   "id": "f7feefa4",
   "metadata": {},
   "outputs": [
    {
     "name": "stdout",
     "output_type": "stream",
     "text": [
      "Sum of the list items :  60\n"
     ]
    }
   ],
   "source": [
    "def sum_of_numbers(lst):\n",
    "    sum = 0\n",
    "    for i in lst:\n",
    "        sum +=i\n",
    "    return sum\n",
    "\n",
    "lst = [10,20,30]\n",
    "\n",
    "print(\"Sum of the list items : \",sum_of_numbers(lst))"
   ]
  },
  {
   "cell_type": "markdown",
   "id": "21a27d26",
   "metadata": {},
   "source": [
    "#### 11. Write a program to find the common elements between two lists.\n"
   ]
  },
  {
   "cell_type": "code",
   "execution_count": 19,
   "id": "2f74b7e2",
   "metadata": {},
   "outputs": [
    {
     "name": "stdout",
     "output_type": "stream",
     "text": [
      "The result is :  [3, 6]\n"
     ]
    }
   ],
   "source": [
    "def common_elements(lst1,lst2):\n",
    "    result = []\n",
    "    lst1_set = set(lst1)\n",
    "    \n",
    "    for i in lst1_set:\n",
    "        if i in lst2:\n",
    "            result.append(i)\n",
    "    return result\n",
    "\n",
    "list1 = [1,2,3,5,6,4]\n",
    "list2 = [10,3,6,8,20]\n",
    "\n",
    "result = common_elements(list1,list2)\n",
    "\n",
    "print(\"The result is : \",result)"
   ]
  },
  {
   "cell_type": "markdown",
   "id": "6494547f",
   "metadata": {},
   "source": [
    "#### 12. Implement a function to check if a given string is an anagram of another string.\n"
   ]
  },
  {
   "cell_type": "code",
   "execution_count": 5,
   "id": "0e37fafa",
   "metadata": {},
   "outputs": [
    {
     "name": "stdout",
     "output_type": "stream",
     "text": [
      "Both strings are anagrams\n"
     ]
    }
   ],
   "source": [
    "def anagrams(a,b):\n",
    "    if sorted(a) == sorted(b):\n",
    "        return True\n",
    "    return False\n",
    "\n",
    "if __name__ == \"__main__\":\n",
    "    a = \"gram\"\n",
    "    b = \"argm\"\n",
    "    \n",
    "    if(anagrams(a,b)):\n",
    "        print(\"Both strings are anagrams\")\n",
    "    else:\n",
    "        print(\"Both strings are not anagrams\")"
   ]
  },
  {
   "cell_type": "markdown",
   "id": "aafeb7ed",
   "metadata": {},
   "source": [
    "#### 13. Write a Python program to generate all permutations of a given string.\n"
   ]
  },
  {
   "cell_type": "code",
   "execution_count": 2,
   "id": "28098e41",
   "metadata": {},
   "outputs": [
    {
     "name": "stdout",
     "output_type": "stream",
     "text": [
      "ABC\n",
      "ACB\n",
      "BAC\n",
      "BCA\n",
      "CBA\n",
      "CAB\n"
     ]
    }
   ],
   "source": [
    "def permutations(arr,idx):\n",
    "    if(idx == len(arr)-1):\n",
    "        print(\"\".join(arr))\n",
    "        return\n",
    "    for i in range(idx,len(arr)):\n",
    "        swap(arr,i,idx)\n",
    "        permutations(arr,idx+1)\n",
    "        swap(arr,i,idx)\n",
    "        \n",
    "def swap(arr,i,j):\n",
    "    temp = arr[i]\n",
    "    arr[i] = arr[j]\n",
    "    arr[j] = temp\n",
    "\n",
    "if __name__ == \"__main__\":\n",
    "    str1 = \"ABC\"\n",
    "    permutations([i for i in str1],0)"
   ]
  },
  {
   "cell_type": "markdown",
   "id": "4139c8a9",
   "metadata": {},
   "source": [
    "#### 14. Implement a function to calculate the Fibonacci sequence up to a given number of terms.\n"
   ]
  },
  {
   "cell_type": "code",
   "execution_count": 3,
   "id": "9779b0a6",
   "metadata": {},
   "outputs": [
    {
     "name": "stdout",
     "output_type": "stream",
     "text": [
      "0 1 1 2 3 5 8 13 21 34 55 "
     ]
    }
   ],
   "source": [
    "def fibo(num):\n",
    "    if(num<=1):\n",
    "        return num\n",
    "    return fibo(num-1)+fibo(num-2)\n",
    "\n",
    "def fibo_series(num):\n",
    "    for i in range(num+1):\n",
    "        print(fibo(i),end = \" \")\n",
    "        \n",
    "num = 10\n",
    "fibo_series(num)\n"
   ]
  },
  {
   "cell_type": "markdown",
   "id": "8e43bcdf",
   "metadata": {},
   "source": [
    "\n",
    "#### 15. Write a program to find the median of a list of numbers."
   ]
  },
  {
   "cell_type": "code",
   "execution_count": 22,
   "id": "af5151ed",
   "metadata": {},
   "outputs": [
    {
     "name": "stdout",
     "output_type": "stream",
     "text": [
      "The median of the list :  2.5\n"
     ]
    }
   ],
   "source": [
    "def median(lst):\n",
    "    lst.sort()\n",
    "    mid = len(lst)//2\n",
    "    if mid%2 == 0:\n",
    "        return (lst[mid] + lst[mid-1])/2\n",
    "    else:\n",
    "        return lst[mid]\n",
    "\n",
    "lst = [1,2,3,4]\n",
    "result = median(lst)\n",
    "print(\"The median of the list : \",result)"
   ]
  },
  {
   "cell_type": "markdown",
   "id": "df602d91",
   "metadata": {},
   "source": [
    "#### 16. Implement a function to check if a given list is sorted in non-decreasing order."
   ]
  },
  {
   "cell_type": "code",
   "execution_count": 25,
   "id": "18ce604a",
   "metadata": {},
   "outputs": [
    {
     "name": "stdout",
     "output_type": "stream",
     "text": [
      "The list is not in non decreasing order\n"
     ]
    }
   ],
   "source": [
    "def non_decreasing_order(lst):\n",
    "    for i in range(len(lst)-1):\n",
    "        if lst[i] > lst[i+1]:\n",
    "            return False\n",
    "    return True\n",
    "\n",
    "lst = [11,15,16,16,18,17,19]\n",
    "\n",
    "result = non_decreasing_order(lst)\n",
    "if result:\n",
    "    print(f\"The list is in non decreasing order\")\n",
    "else:\n",
    "    print(f\"The list is not in non decreasing order\")"
   ]
  },
  {
   "cell_type": "markdown",
   "id": "d907728e",
   "metadata": {},
   "source": [
    "#### 17. Write a Python program to find the intersection of two lists.\n"
   ]
  },
  {
   "cell_type": "code",
   "execution_count": 26,
   "id": "92b4346f",
   "metadata": {},
   "outputs": [
    {
     "name": "stdout",
     "output_type": "stream",
     "text": [
      "The result is :  [3, 6]\n"
     ]
    }
   ],
   "source": [
    "def intersection_of_lists(lst1,lst2):\n",
    "    result = []\n",
    "    lst1_set = set(lst1)\n",
    "    \n",
    "    for i in lst1_set:\n",
    "        if i in lst2:\n",
    "            result.append(i)\n",
    "    return result\n",
    "\n",
    "list1 = [1,2,3,5,6,4]\n",
    "list2 = [10,3,6,8,20]\n",
    "\n",
    "result = intersection_of_lists(list1,list2)\n",
    "\n",
    "print(\"The result is : \",result)"
   ]
  },
  {
   "cell_type": "markdown",
   "id": "43d399c6",
   "metadata": {},
   "source": [
    "#### 18. Implement a function to find the maximum subarray sum in a given list.\n"
   ]
  },
  {
   "cell_type": "code",
   "execution_count": 8,
   "id": "0ae53781",
   "metadata": {},
   "outputs": [
    {
     "name": "stdout",
     "output_type": "stream",
     "text": [
      "Maximum subarray sum  7\n"
     ]
    }
   ],
   "source": [
    "import sys\n",
    "def max_subarray_sum(arr):\n",
    "    max_sum = -sys.maxsize-1\n",
    "    sum_ = 0\n",
    "    for i in arr:\n",
    "        sum_ +=i\n",
    "        if(sum_ > max_sum):\n",
    "            max_sum = sum_\n",
    "        if(sum_ < 0):\n",
    "            sum_ = 0\n",
    "    if(max_sum<0):\n",
    "        return 0\n",
    "    return max_sum\n",
    "\n",
    "arr = [-2,-3,4,-1,-2,1,5,-3]\n",
    "result = max_subarray_sum(arr)\n",
    "print(\"Maximum subarray sum \",result)"
   ]
  },
  {
   "cell_type": "markdown",
   "id": "1a49c3cb",
   "metadata": {},
   "source": [
    "#### 19. Write a program to remove all vowels from a given string.\n"
   ]
  },
  {
   "cell_type": "code",
   "execution_count": 27,
   "id": "df4f70f1",
   "metadata": {},
   "outputs": [
    {
     "name": "stdout",
     "output_type": "stream",
     "text": [
      "After removing all vowels :  pwr\n"
     ]
    }
   ],
   "source": [
    "def remove_all_vowels(str):\n",
    "    vowels = [\"a\",'e','i','o','u']\n",
    "    result = ''\n",
    "    for i in str:\n",
    "        if i not in vowels:\n",
    "            result +=i\n",
    "    return result\n",
    "\n",
    "str1 = \"power\"\n",
    "print(\"After removing all vowels : \",remove_all_vowels(str1))"
   ]
  },
  {
   "cell_type": "markdown",
   "id": "3c9a94ba",
   "metadata": {},
   "source": [
    "#### 20. Implement a function to reverse the order of words in a given sentence.\n"
   ]
  },
  {
   "cell_type": "code",
   "execution_count": 31,
   "id": "6bbb1a8b",
   "metadata": {},
   "outputs": [
    {
     "data": {
      "text/plain": [
       "'demo my is This'"
      ]
     },
     "execution_count": 31,
     "metadata": {},
     "output_type": "execute_result"
    }
   ],
   "source": [
    "def reverse_order_of_words(str):\n",
    "    temp = str.split(\" \")\n",
    "    \n",
    "    return \" \".join(temp[::-1])\n",
    "\n",
    "sentence = \"This is my demo\"\n",
    "reverse_order_of_words(sentence)"
   ]
  },
  {
   "cell_type": "markdown",
   "id": "4a4c0548",
   "metadata": {},
   "source": [
    "#### 21. Write a Python program to check if two strings are anagrams of each other.\n"
   ]
  },
  {
   "cell_type": "code",
   "execution_count": 4,
   "id": "c736fe1e",
   "metadata": {},
   "outputs": [
    {
     "name": "stdout",
     "output_type": "stream",
     "text": [
      "Both strings are anagrams\n"
     ]
    }
   ],
   "source": [
    "def anagrams(a,b):\n",
    "    if sorted(a) == sorted(b):\n",
    "        return True\n",
    "    return False\n",
    "\n",
    "if __name__ == \"__main__\":\n",
    "    a = \"gram\"\n",
    "    b = \"argm\"\n",
    "    \n",
    "    if(anagrams(a,b)):\n",
    "        print(\"Both strings are anagrams\")\n",
    "    else:\n",
    "        print(\"Both strings are not anagrams\")"
   ]
  },
  {
   "cell_type": "markdown",
   "id": "1c5e7888",
   "metadata": {},
   "source": [
    "#### 22. Implement a function to find the first non-repeating character in a string.\n"
   ]
  },
  {
   "cell_type": "code",
   "execution_count": 7,
   "id": "6c55f55c",
   "metadata": {},
   "outputs": [
    {
     "name": "stdout",
     "output_type": "stream",
     "text": [
      "r\n"
     ]
    }
   ],
   "source": [
    "def first_non_repeating(s:str):\n",
    "    if len(s) == 0:\n",
    "        return \"String is empty\"\n",
    "    for i in s:\n",
    "        if s.count(i) == 1:\n",
    "            return i\n",
    "    return \"All characters are repeated\"\n",
    "\n",
    "s = \"greaksg\"\n",
    "result = first_non_repeating(s)\n",
    "print(result)"
   ]
  },
  {
   "cell_type": "markdown",
   "id": "36d97bf6",
   "metadata": {},
   "source": [
    "#### 23. Write a program to find the prime factors of a given number.\n"
   ]
  },
  {
   "cell_type": "code",
   "execution_count": 9,
   "id": "fc1f62ae",
   "metadata": {},
   "outputs": [
    {
     "name": "stdout",
     "output_type": "stream",
     "text": [
      "3\n",
      "3\n",
      "5\n",
      "7\n"
     ]
    }
   ],
   "source": [
    "import math\n",
    " \n",
    "# A function to print all prime factors of\n",
    "# a given number n\n",
    "def primeFactors(n):\n",
    "     \n",
    "    # Print the number of two's that divide n\n",
    "    while n % 2 == 0:\n",
    "        print(2)\n",
    "        n = n // 2\n",
    "         \n",
    "    # n must be odd at this point\n",
    "    # so a skip of 2 ( i = i + 2) can be used\n",
    "    for i in range(3,int(math.sqrt(n))+1,2):\n",
    "         \n",
    "        # while i divides n , print i ad divide n\n",
    "        while n % i== 0:\n",
    "            print(i)\n",
    "            n = n // i\n",
    "             \n",
    "    # Condition if n is a prime\n",
    "    # number greater than 2\n",
    "    if n > 2:\n",
    "        print(n)\n",
    "         \n",
    "# Driver Program to test above function\n",
    " \n",
    "n = 315\n",
    "primeFactors(n)\n",
    " "
   ]
  },
  {
   "cell_type": "markdown",
   "id": "f588df0a",
   "metadata": {},
   "source": [
    "#### 24. Implement a function to check if a given number is a power of two.\n"
   ]
  },
  {
   "cell_type": "code",
   "execution_count": 9,
   "id": "e8bb04b9",
   "metadata": {},
   "outputs": [
    {
     "data": {
      "text/plain": [
       "True"
      ]
     },
     "execution_count": 9,
     "metadata": {},
     "output_type": "execute_result"
    }
   ],
   "source": [
    "class power:\n",
    "    def pow_of_two(self,num):\n",
    "        if(num <= 0):\n",
    "            return False\n",
    "        if(num == 1):\n",
    "            return True\n",
    "        if(num%2 != 0):\n",
    "            return False\n",
    "        return self.pow_of_two(num // 2)\n",
    "p = power()\n",
    "p.pow_of_two(4)"
   ]
  },
  {
   "cell_type": "markdown",
   "id": "21678fb5",
   "metadata": {},
   "source": [
    "#### 25. Write a Python program to merge two sorted lists into a single sorted list.\n"
   ]
  },
  {
   "cell_type": "code",
   "execution_count": 32,
   "id": "7e244edf",
   "metadata": {},
   "outputs": [
    {
     "name": "stdout",
     "output_type": "stream",
     "text": [
      "The merged list is : [10, 11, 12, 13, 14, 15, 16, 17]\n"
     ]
    }
   ],
   "source": [
    "def merge_two_sorted_lists(list1,list2):\n",
    "    i = 0\n",
    "    j = 0\n",
    "    k = 0\n",
    "    length = len(list1)+len(list2)\n",
    "    result = [0] * length\n",
    "    \n",
    "    while(i<len(list1) and j<len(list2)):\n",
    "        if list1[i] <= list2[j]:\n",
    "            result[k] = list1[i]\n",
    "            i +=1\n",
    "        else:\n",
    "            result[k] = list2[j]\n",
    "            j +=1\n",
    "        k +=1\n",
    "    while(i < len(list1)):\n",
    "        result[k] = list1[i]\n",
    "        i +=1\n",
    "        k +=1\n",
    "    while(j < len(list2)):\n",
    "        result[k] = list2[j]\n",
    "        j +=1\n",
    "        k +=1\n",
    "    return result\n",
    "\n",
    "list1 = [10,12,14,16]\n",
    "list2 = [11,13,15,17]\n",
    "\n",
    "result = merge_two_sorted_lists(list1,list2)\n",
    "print(\"The merged list is :\",result)"
   ]
  },
  {
   "cell_type": "markdown",
   "id": "f209ef09",
   "metadata": {},
   "source": [
    "#### 26. Implement a function to find the mode of a list of numbers.\n"
   ]
  },
  {
   "cell_type": "code",
   "execution_count": 38,
   "id": "da4d52a0",
   "metadata": {},
   "outputs": [
    {
     "name": "stdout",
     "output_type": "stream",
     "text": [
      "The mode of a list : [3]\n"
     ]
    }
   ],
   "source": [
    "def mode_of_a_list(lst):\n",
    "    dict = {}\n",
    "    for i in lst:\n",
    "        dict[i] = lst.count(i)\n",
    "    mx = max(list(dict.values()))\n",
    "    if mx == 1:\n",
    "        return \n",
    "    modes = []\n",
    "    for i in dict:\n",
    "        if dict[i] == mx:\n",
    "            modes.append(i)\n",
    "    return modes\n",
    "\n",
    "list1 = [1,1,2,2,3,3,3]\n",
    "result = mode_of_a_list(list1)\n",
    "\n",
    "if result:\n",
    "    print(f\"The mode of a list : {result}\")\n",
    "else:\n",
    "    print(f\"There is no mode \")"
   ]
  },
  {
   "cell_type": "markdown",
   "id": "6d922567",
   "metadata": {},
   "source": [
    "#### 27. Write a program to find the greatest common divisor (GCD) of two numbers.\n"
   ]
  },
  {
   "cell_type": "code",
   "execution_count": 12,
   "id": "e8c5bf46",
   "metadata": {},
   "outputs": [
    {
     "name": "stdout",
     "output_type": "stream",
     "text": [
      "10\n"
     ]
    }
   ],
   "source": [
    "def gcd(num1,num2):\n",
    "    global minNum\n",
    "    if num1<num2:\n",
    "        minNum = num1\n",
    "    else:\n",
    "        minNum = num2\n",
    "    while(minNum>0):\n",
    "        if(num1 % minNum == 0 and num2 % minNum == 0):\n",
    "            return minNum\n",
    "        minNum -=1\n",
    "result = gcd(10,50)\n",
    "print(result)"
   ]
  },
  {
   "cell_type": "markdown",
   "id": "23342f06",
   "metadata": {},
   "source": [
    "#### 28. Implement a function to calculate the square root of a given number.\n"
   ]
  },
  {
   "cell_type": "code",
   "execution_count": 42,
   "id": "75ca715c",
   "metadata": {},
   "outputs": [
    {
     "name": "stdout",
     "output_type": "stream",
     "text": [
      "The square root of 16 is : 4\n"
     ]
    }
   ],
   "source": [
    "def square_root(num):\n",
    "    for i in range(num):\n",
    "        if i*i == num:\n",
    "            return i\n",
    "        if i*i > num:\n",
    "            return i-1\n",
    "num = 16\n",
    "result = square_root(num)\n",
    "print(f\"The square root of {num} is : {result}\")"
   ]
  },
  {
   "cell_type": "markdown",
   "id": "30c6d5d9",
   "metadata": {},
   "source": [
    "#### 29. Write a Python program to check if a given string is a valid palindrome ignoring non-alphanumeric characters.\n"
   ]
  },
  {
   "cell_type": "code",
   "execution_count": 15,
   "id": "7e5607a2",
   "metadata": {},
   "outputs": [
    {
     "name": "stdout",
     "output_type": "stream",
     "text": [
      "No,string is not palindrome\n"
     ]
    }
   ],
   "source": [
    "def palindrome(str):\n",
    "    i = 0\n",
    "    j = len(str2)-1\n",
    "    while(i<j):\n",
    "        if str2[i] != str2[j]:\n",
    "            return False\n",
    "        i +=1\n",
    "        j -=1\n",
    "    return True\n",
    "\n",
    "str2 = \"madaM\"\n",
    "if palindrome(str2):\n",
    "    print(\"Yes,string is palindrome\")\n",
    "else:\n",
    "    print(\"No,string is not palindrome\")\n"
   ]
  },
  {
   "cell_type": "markdown",
   "id": "13ef27aa",
   "metadata": {},
   "source": [
    "#### 30. Implement a function to find the minimum element in a rotated sorted list.\n"
   ]
  },
  {
   "cell_type": "code",
   "execution_count": 25,
   "id": "ea835d8e",
   "metadata": {},
   "outputs": [
    {
     "name": "stdout",
     "output_type": "stream",
     "text": [
      "Minimum element is :  1\n"
     ]
    }
   ],
   "source": [
    "def minRotatedArray(arr,n):\n",
    "    l = 0\n",
    "    r = n-1\n",
    "    while (l<r):\n",
    "        if arr[l] < arr[r]:\n",
    "            return arr[l]\n",
    "        mid = l + (r-l)//2\n",
    "        if (arr[mid] > arr[r]):\n",
    "            l =mid + 1\n",
    "        else:\n",
    "            r = mid\n",
    "    return arr[l]\n",
    "\n",
    "arr = [5,6,7,1,2,3,4]\n",
    "n = len(arr)\n",
    "result = minRotatedArray(arr,n)\n",
    "print(\"Minimum element is : \",result)"
   ]
  },
  {
   "cell_type": "markdown",
   "id": "61619db5",
   "metadata": {},
   "source": [
    "#### 31. Write a program to find the sum of all even numbers in a list.\n"
   ]
  },
  {
   "cell_type": "code",
   "execution_count": 43,
   "id": "f57d1f00",
   "metadata": {},
   "outputs": [
    {
     "name": "stdout",
     "output_type": "stream",
     "text": [
      "The sum of all even numbers is :  6\n"
     ]
    }
   ],
   "source": [
    "def sum_of_all_even_numbers(lst):\n",
    "    sum = 0\n",
    "    for i in lst:\n",
    "        if i%2 == 0:\n",
    "            sum += i\n",
    "    return sum\n",
    "\n",
    "lst =[1,2,3,4]\n",
    "result = sum_of_all_even_numbers(lst)\n",
    "print(\"The sum of all even numbers is : \",result)"
   ]
  },
  {
   "cell_type": "markdown",
   "id": "d6c434e4",
   "metadata": {},
   "source": [
    "#### 32. Implement a function to calculate the power of a number using recursion.\n"
   ]
  },
  {
   "cell_type": "code",
   "execution_count": 44,
   "id": "50ec6130",
   "metadata": {},
   "outputs": [
    {
     "name": "stdout",
     "output_type": "stream",
     "text": [
      "The power of the given number : 8\n"
     ]
    }
   ],
   "source": [
    "def power_of_a_number(num,powr):\n",
    "    if powr == 1:\n",
    "        return num\n",
    "    return num * power_of_a_number(num,powr-1)\n",
    "\n",
    "num = 2\n",
    "powr = 3\n",
    "\n",
    "result = power_of_a_number(num,powr)\n",
    "print(f\"The power of the given number : {result}\")"
   ]
  },
  {
   "cell_type": "markdown",
   "id": "18a5b5be",
   "metadata": {},
   "source": [
    "#### 33. Write a Python program to remove duplicates from a list while preserving the order."
   ]
  },
  {
   "cell_type": "code",
   "execution_count": 21,
   "id": "c032585c",
   "metadata": {},
   "outputs": [
    {
     "name": "stdout",
     "output_type": "stream",
     "text": [
      "[0, 4, 1, 2, 3, 5]\n"
     ]
    }
   ],
   "source": [
    "a = [0, 1, 2, 3, 4, 1, 2, 3, 5]\n",
    " \n",
    "for i in a:\n",
    "    if a.count(i) > 1:\n",
    "        a.remove(i)\n",
    "\n",
    "print(a)"
   ]
  },
  {
   "cell_type": "markdown",
   "id": "430e76b4",
   "metadata": {},
   "source": [
    "#### 34. Implement a function to find the longest common prefix among a list of strings.\n"
   ]
  },
  {
   "cell_type": "code",
   "execution_count": 23,
   "id": "464f87ff",
   "metadata": {},
   "outputs": [
    {
     "name": "stdout",
     "output_type": "stream",
     "text": [
      "The longest Common Prefix is : ab\n"
     ]
    }
   ],
   "source": [
    "def longestCommonPrefix( a):\n",
    "     \n",
    "    size = len(a)\n",
    "     if (size == 0):\n",
    "        return \"\"\n",
    " \n",
    "    if (size == 1):\n",
    "        return a[0]\n",
    " \n",
    "    a.sort()\n",
    "     \n",
    "    end = min(len(a[0]), len(a[size - 1]))\n",
    " \n",
    "    i = 0\n",
    "    while (i < end and\n",
    "           a[0][i] == a[size - 1][i]):\n",
    "        i += 1\n",
    " \n",
    "    pre = a[0][0: i]\n",
    "    return pre\n",
    " \n",
    "# Driver Code\n",
    "if __name__ == \"__main__\":\n",
    " \n",
    "    input = [\"abc\", \"abcabcab\",\n",
    "                     \"abcdef\", \"abdekj\"]\n",
    "    print(\"The longest Common Prefix is :\" ,\n",
    "                 longestCommonPrefix(input))"
   ]
  },
  {
   "cell_type": "markdown",
   "id": "537f4547",
   "metadata": {},
   "source": [
    "#### 35. Write a program to check if a given number is a perfect square.\n"
   ]
  },
  {
   "cell_type": "code",
   "execution_count": 50,
   "id": "0dc27c5b",
   "metadata": {},
   "outputs": [
    {
     "name": "stdout",
     "output_type": "stream",
     "text": [
      "No,17 is not a perfect square\n"
     ]
    }
   ],
   "source": [
    "def perfect_square(num):\n",
    "    for i in range(num):\n",
    "        if i*i == num:\n",
    "            return True\n",
    "    return False\n",
    "num = 17\n",
    "result = perfect_square(num)\n",
    "if result:\n",
    "    print(f\"Yes,{num} is a perfect square\")\n",
    "else:\n",
    "    print(f\"No,{num} is not a perfect square\")"
   ]
  },
  {
   "cell_type": "markdown",
   "id": "d610a23f",
   "metadata": {},
   "source": [
    "#### 36. Implement a function to calculate the product of all elements in a list.\n"
   ]
  },
  {
   "cell_type": "code",
   "execution_count": 52,
   "id": "a957e374",
   "metadata": {},
   "outputs": [
    {
     "name": "stdout",
     "output_type": "stream",
     "text": [
      "The product of all the elements of the list :  6\n"
     ]
    }
   ],
   "source": [
    "def prod(lst):\n",
    "    product = 1\n",
    "    for i in lst:\n",
    "        product *=i\n",
    "    return product\n",
    "\n",
    "lst = [1,2,3]\n",
    "result = prod(lst)\n",
    "print(\"The product of all the elements of the list : \",result)"
   ]
  },
  {
   "cell_type": "markdown",
   "id": "95d2e8a3",
   "metadata": {},
   "source": [
    "#### 37. Write a Python program to reverse the order of words in a sentence while preserving the word order.\n"
   ]
  },
  {
   "cell_type": "code",
   "execution_count": 55,
   "id": "2a423b2e",
   "metadata": {},
   "outputs": [
    {
     "data": {
      "text/plain": [
       "'people closest with are battles Greatest'"
      ]
     },
     "execution_count": 55,
     "metadata": {},
     "output_type": "execute_result"
    }
   ],
   "source": [
    "def reverse_order_of_words(str):\n",
    "    temp = str.split(\" \")\n",
    "    \n",
    "    return \" \".join(temp[::-1])\n",
    "\n",
    "sentence = \"Greatest battles are with closest people\"\n",
    "reverse_order_of_words(sentence)"
   ]
  },
  {
   "cell_type": "markdown",
   "id": "4eb1d5da",
   "metadata": {},
   "source": [
    "#### 38. Implement a function to find the missing number in a given list of consecutive numbers.\n"
   ]
  },
  {
   "cell_type": "code",
   "execution_count": 21,
   "id": "a8437a32",
   "metadata": {},
   "outputs": [
    {
     "name": "stdout",
     "output_type": "stream",
     "text": [
      "The missing number is :  4\n"
     ]
    }
   ],
   "source": [
    "def consecutive_numbers(lst):\n",
    "    lst.sort()\n",
    "    for i in range(len(lst)-1):\n",
    "        dif = abs(lst[i+1] - lst[i])\n",
    "        if dif > 1:\n",
    "            return i+2\n",
    "    return False\n",
    "\n",
    "lst = [1,2,3,5]\n",
    "result = consecutive_numbers(lst)\n",
    "if result:\n",
    "    print(\"The missing number is : \",result)\n",
    "else:\n",
    "    print(\"There is no missing number \")\n"
   ]
  },
  {
   "cell_type": "markdown",
   "id": "55c41aeb",
   "metadata": {},
   "source": [
    "#### 39. Write a program to find the sum of digits of a given number.\n"
   ]
  },
  {
   "cell_type": "code",
   "execution_count": 23,
   "id": "96802aa9",
   "metadata": {},
   "outputs": [
    {
     "name": "stdout",
     "output_type": "stream",
     "text": [
      "Sum of digits of 123 is : 6\n"
     ]
    }
   ],
   "source": [
    "def sum_of_digits(num):\n",
    "    if num == 0:\n",
    "        return 0\n",
    "    else:\n",
    "        return (num%10) + sum_of_digits(num//10)\n",
    "\n",
    "num = 123\n",
    "result = sum_of_digits(num)\n",
    "print(f\"Sum of digits of {num} is : {result}\")"
   ]
  },
  {
   "cell_type": "markdown",
   "id": "2aa0beff",
   "metadata": {},
   "source": [
    "#### 40. Implement a function to check if a given string is a valid palindrome considering case sensitivity.\n"
   ]
  },
  {
   "cell_type": "code",
   "execution_count": 24,
   "id": "3bef001e",
   "metadata": {},
   "outputs": [
    {
     "name": "stdout",
     "output_type": "stream",
     "text": [
      "No,string is not palindrome\n"
     ]
    }
   ],
   "source": [
    "def palindrome(str):\n",
    "    i = 0\n",
    "    j = len(str2)-1\n",
    "    while(i<j):\n",
    "        if str2[i] != str2[j]:\n",
    "            return False\n",
    "        i +=1\n",
    "        j -=1\n",
    "    return True\n",
    "\n",
    "str2 = \"madaM\"\n",
    "if palindrome(str2):\n",
    "    print(\"Yes,string is palindrome\")\n",
    "else:\n",
    "    print(\"No,string is not palindrome\")\n"
   ]
  },
  {
   "cell_type": "markdown",
   "id": "7972376d",
   "metadata": {},
   "source": [
    "#### 41. Write a Python program to find the smallest missing positive integer in a list.\n"
   ]
  },
  {
   "cell_type": "code",
   "execution_count": 43,
   "id": "66f4e9a2",
   "metadata": {},
   "outputs": [
    {
     "name": "stdout",
     "output_type": "stream",
     "text": [
      "4\n",
      "3\n"
     ]
    }
   ],
   "source": [
    "def first_missing_number(nums):\n",
    "    if len(nums) == 0:\n",
    "        return 1\n",
    "        \n",
    "    nums.sort()\n",
    "    smallest_int_num = 0\n",
    "    \n",
    "    for i in range(len(nums) - 1):\n",
    "\n",
    "        if nums[i] <= 0 or nums[i] == nums[i + 1]:\n",
    "            continue\n",
    "        else:\n",
    "            if nums[i + 1] - nums[i] != 1:\n",
    "                smallest_int_num = nums[i] + 1\n",
    "                return smallest_int_num    \n",
    "    if smallest_int_num == 0:\n",
    "        smallest_int_num = nums[-1] + 1\n",
    "    return smallest_int_num\n",
    "\n",
    "print(first_missing_number([2, 3, 7, 6, 8, -1, -10, 15, 16])) \n",
    "print(first_missing_number([1, 2, 4, -7, 6, 8, 1, -10, 15]))"
   ]
  },
  {
   "cell_type": "markdown",
   "id": "0f81a698",
   "metadata": {},
   "source": [
    "#### 42. Implement a function to find the longest palindrome substring in a given string.\n"
   ]
  },
  {
   "cell_type": "code",
   "execution_count": 27,
   "id": "ff547112",
   "metadata": {},
   "outputs": [
    {
     "name": "stdout",
     "output_type": "stream",
     "text": [
      "edrarde\n"
     ]
    }
   ],
   "source": [
    "def longestPalindrome(s: str) -> str:\n",
    "    length = len(s)\n",
    "    index = -1\n",
    "    maxlength = 0\n",
    "    for i in range(length):\n",
    "        for j in range(i, length):\n",
    "            ispalindrome = 1\n",
    "            for k in range(0, ((j - i) // 2) + 1):\n",
    "                if s[i + k] != s[j - k]:\n",
    "                    ispalindrome = 0\n",
    "            if ispalindrome != 0 and j - i + 1 > maxlength:\n",
    "                index = i\n",
    "                maxlength = j - i + 1\n",
    "    return s[index:index + maxlength]\n",
    "\n",
    "if __name__ == \"__main__\":\n",
    "    word = \"abcbedrardea\"\n",
    "    print(longestPalindrome(word))\n"
   ]
  },
  {
   "cell_type": "markdown",
   "id": "1afb491d",
   "metadata": {},
   "source": [
    "#### 43. Write a program to find the number of occurrences of a given element in a list.\n"
   ]
  },
  {
   "cell_type": "code",
   "execution_count": 25,
   "id": "3dc760cb",
   "metadata": {},
   "outputs": [
    {
     "name": "stdout",
     "output_type": "stream",
     "text": [
      "{1: 1, 2: 4, 3: 3}\n"
     ]
    }
   ],
   "source": [
    "def occurences(lst):\n",
    "    result = {}\n",
    "    for i in lst:\n",
    "        cnt = lst.count(i)\n",
    "        result[i] = cnt\n",
    "    return result\n",
    "\n",
    "lst = [1,2,2,2,2,3,3,3]\n",
    "\n",
    "print(occurences(lst))"
   ]
  },
  {
   "cell_type": "markdown",
   "id": "0ee37eaf",
   "metadata": {},
   "source": [
    "#### 44. Implement a function to check if a given number is a perfect number.\n"
   ]
  },
  {
   "cell_type": "code",
   "execution_count": 29,
   "id": "1bc1dd03",
   "metadata": {},
   "outputs": [
    {
     "name": "stdout",
     "output_type": "stream",
     "text": [
      "6 is a Perfect number\n"
     ]
    }
   ],
   "source": [
    "def perfect_number(num):\n",
    "    sum = 0\n",
    "    for i in range(1,num):\n",
    "        if (num%i == 0):\n",
    "            sum +=i\n",
    "    if sum == num:\n",
    "        print(f\"{num} is a Perfect number\")\n",
    "    else:\n",
    "        print(f\"{num} is Not a Perfect number\")\n",
    "        \n",
    "perfect_number(6)"
   ]
  },
  {
   "cell_type": "markdown",
   "id": "1d0e83a8",
   "metadata": {},
   "source": [
    "#### 45. Write a Python program to remove all duplicates from a string.\n"
   ]
  },
  {
   "cell_type": "code",
   "execution_count": 39,
   "id": "22f758bb",
   "metadata": {},
   "outputs": [
    {
     "name": "stdout",
     "output_type": "stream",
     "text": [
      "After removing duplicates :  Helo\n"
     ]
    }
   ],
   "source": [
    "def remove_all_duplicates(str1):\n",
    "    result = \"\"\n",
    "    for i in str1:\n",
    "        if i not in result:\n",
    "            result +=i\n",
    "    return result\n",
    "\n",
    "str1 = \"Hello\"\n",
    "result = remove_all_duplicates(str1)\n",
    "print(\"After removing duplicates : \",result)"
   ]
  },
  {
   "cell_type": "markdown",
   "id": "873c15bc",
   "metadata": {},
   "source": [
    "#### 46. Implement a function to find the first missing positive\n"
   ]
  },
  {
   "cell_type": "code",
   "execution_count": 42,
   "id": "6275ebac",
   "metadata": {},
   "outputs": [
    {
     "name": "stdout",
     "output_type": "stream",
     "text": [
      "4\n",
      "3\n"
     ]
    }
   ],
   "source": [
    "def first_missing_number(nums):\n",
    "    if len(nums) == 0:\n",
    "        return 1\n",
    "        \n",
    "    nums.sort()\n",
    "    smallest_int_num = 0\n",
    "    \n",
    "    for i in range(len(nums) - 1):\n",
    "\n",
    "        if nums[i] <= 0 or nums[i] == nums[i + 1]:\n",
    "            continue\n",
    "        else:\n",
    "            if nums[i + 1] - nums[i] != 1:\n",
    "                smallest_int_num = nums[i] + 1\n",
    "                return smallest_int_num    \n",
    "    if smallest_int_num == 0:\n",
    "        smallest_int_num = nums[-1] + 1\n",
    "    return smallest_int_num\n",
    "\n",
    "print(first_missing_number([2, 3, 7, 6, 8, -1, -10, 15, 16])) \n",
    "print(first_missing_number([1, 2, 4, -7, 6, 8, 1, -10, 15]))"
   ]
  }
 ],
 "metadata": {
  "kernelspec": {
   "display_name": "Python 3 (ipykernel)",
   "language": "python",
   "name": "python3"
  },
  "language_info": {
   "codemirror_mode": {
    "name": "ipython",
    "version": 3
   },
   "file_extension": ".py",
   "mimetype": "text/x-python",
   "name": "python",
   "nbconvert_exporter": "python",
   "pygments_lexer": "ipython3",
   "version": "3.10.9"
  }
 },
 "nbformat": 4,
 "nbformat_minor": 5
}
