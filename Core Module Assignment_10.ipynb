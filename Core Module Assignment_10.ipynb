{
 "cells": [
  {
   "cell_type": "markdown",
   "id": "3b717fc8",
   "metadata": {},
   "source": [
    "### 1. Can you explain the concept of feature extraction in convolutional neural networks (CNNs)?\n",
    "- The neural network for feature extraction includes convolution layer piles and sets of pooling layers. As its name implies, the convolution layer transforms the image using the process of the convolution. It can be described as a series of digital filters.\n"
   ]
  },
  {
   "cell_type": "markdown",
   "id": "b5d20af3",
   "metadata": {},
   "source": [
    "### 2. How does backpropagation work in the context of computer vision tasks?\n",
    "\n",
    "- Backpropagation is the essence of neural net training. It is the practice of fine-tuning the weights of a neural net based on the error rate (i.e. loss) obtained in the previous epoch (i.e. iteration.) Proper tuning of the weights ensures lower error rates, making the model reliable by increasing its generalization.\n"
   ]
  },
  {
   "cell_type": "markdown",
   "id": "aa324334",
   "metadata": {},
   "source": [
    "### 3. What are the benefits of using transfer learning in CNNs, and how does it work?\n",
    "- It saves time and resources.\n",
    "- Most machine learning problems involve training a large amount of data. This type of labeled training data takes more time. However, in transfer learning most models are pre-trained, which reduces the size of training data.\n"
   ]
  },
  {
   "cell_type": "markdown",
   "id": "802e3cfd",
   "metadata": {},
   "source": [
    "### 4. Describe different techniques for data augmentation in CNNs and their impact on model performance.\n",
    "- Data augmentation is the addition of new data artificially derived from existing training data. Techniques include \n",
    "- resizing\n",
    "- flipping\n",
    "- rotating\n",
    "- cropping\n",
    "- padding, etc. \n",
    "- It helps to address issues like overfitting and data scarcity, and it makes the model robust with better performance.\n"
   ]
  },
  {
   "cell_type": "markdown",
   "id": "f0ca1ed9",
   "metadata": {},
   "source": [
    "### 5. How do CNNs approach the task of object detection, and what are some popular architectures used for this task?\n",
    "- In Fast RCNN, we feed the input image to the CNN, which in turn generates the convolutional feature maps. Using these maps, the regions of proposals are extracted. We then use a RoI pooling layer to reshape all the proposed regions into a fixed size, so that it can be fed into a fully connected network.\n"
   ]
  },
  {
   "cell_type": "markdown",
   "id": "13f5e6ca",
   "metadata": {},
   "source": [
    "### 6. Can you explain the concept of object tracking in computer vision and how it is implemented in CNNs?\n",
    "- Object tracking is a computer vision application where a program detects objects and then tracks their movements in space or across different camera angles. Object tracking can identify and follow multiple objects in an image. For example, a football recording studio could follow where a ball is in a photo.\n"
   ]
  },
  {
   "cell_type": "markdown",
   "id": "22d27be0",
   "metadata": {},
   "source": [
    "### 7. What is the purpose of object segmentation in computer vision, and how do CNNs accomplish it?\n",
    "- Image segmentation is a crucial task in computer vision, where the goal is to divide an image into different meaningful and distinguishable regions or objects. It is a fundamental task in various applications such as object recognition, tracking, and detection, medical imaging, and robotics.\n"
   ]
  },
  {
   "cell_type": "markdown",
   "id": "5cbc684d",
   "metadata": {},
   "source": [
    "### 8. How are CNNs applied to optical character recognition (OCR) tasks, and what challenges are involved?\n",
    "- Convolutional Neural Networks (CNNs) are a type of deep learning model that is highly effective in image recognition tasks. OCR solutions that leverage CNNs can learn and generalize features from input images, making them capable of handling a wide range of text recognition scenarios.\n"
   ]
  },
  {
   "cell_type": "markdown",
   "id": "2d22aa09",
   "metadata": {},
   "source": [
    "### 9. Describe the concept of image embedding and its applications in computer vision tasks.\n",
    "- Image embedding is a vector representation of an image in which images with similar motives have similar vector profiles. Embedder transforms each image into one vector of numbers.\n",
    "- Image processing is a subset of computer vision. A computer vision system uses the image processing algorithms to try and perform emulation of vision at human scale. For example, if the goal is to enhance the image for later use, then this may be called image processing.\n"
   ]
  },
  {
   "cell_type": "markdown",
   "id": "c11c0706",
   "metadata": {},
   "source": [
    "### 10. What is model distillation in CNNs, and how does it improve model performance and efficiency?\n",
    "- In machine learning, knowledge distillation is the process of transferring knowledge from a large model to a smaller one. While large models (such as very deep neural networks or ensembles of many models) have higher knowledge capacity than small models, this capacity might not be fully utilized.\n",
    "- Knowledge Distillation is a process of condensing knowledge from a complex model into a simpler one. It originates from Machine Learning, where the goal is to create models that can learn from data and make predictions.\n"
   ]
  },
  {
   "cell_type": "markdown",
   "id": "4604408d",
   "metadata": {},
   "source": [
    "### 11. Explain the concept of model quantization and its benefits in reducing the memory footprint of CNN models.\n",
    "\n",
    "- A quantized model executes some or all of the operations on tensors with reduced precision rather than full precision (floating point) values. This allows for a more compact model representation and the use of high performance vectorized operations on many hardware platforms.\n",
    "- Quantization is an optimization technique that reduces the precision of the models parameters from 32-bit floating point values to 8-bit (int8) values without compromising the accuracy, resulting in a reduced model size, improved portability, and faster computation.\n"
   ]
  },
  {
   "cell_type": "markdown",
   "id": "30c70100",
   "metadata": {},
   "source": [
    "### 12. How does distributed training work in CNNs, and what are the advantages of this approach?\n",
    "- In distributed training the workload to train a model is split up and shared among multiple mini processors, called worker nodes. These worker nodes work in parallel to speed up model training.\n",
    "- Distributed learning offers several significant benefits and advantages over traditional machine learning approaches. Some of the key benefits include: Reduced training time: By distributing the workload across multiple machines, distributed learning significantly reduces the overall training time.\n"
   ]
  },
  {
   "cell_type": "markdown",
   "id": "032c322d",
   "metadata": {},
   "source": [
    "### 13. Compare and contrast the PyTorch and TensorFlow frameworks for CNN development.\n",
    "- TensorFlow offers better visualization, which allows developers to debug better and track the training process. \n",
    "- PyTorch, however, provides only limited visualization. TensorFlow also beats PyTorch in deploying trained models to production, thanks to the TensorFlow Serving framework.\n"
   ]
  },
  {
   "cell_type": "markdown",
   "id": "5c4907d8",
   "metadata": {},
   "source": [
    "### 14. What are the advantages of using GPUs for accelerating CNN training and inference?\n",
    "- GPUs can perform multiple, simultaneous computations. This enables the distribution of training processes and can significantly speed machine learning operations. With GPUs, you can accumulate many cores that use fewer resources without sacrificing efficiency or power.\n"
   ]
  },
  {
   "cell_type": "markdown",
   "id": "ee92ac47",
   "metadata": {},
   "source": [
    "### 15. How do occlusion and illumination changes affect CNN performance, and what strategies can be used to address these challenges?\n",
    "- To tackle occlusions, image segmentation techniques can be implemented. Object detection and image segmentation are two important computer vision tasks. The main goal of object detection is to localize and recognize the object with a bounding box around it which provides a coarse representation of detected objects.\n"
   ]
  },
  {
   "cell_type": "markdown",
   "id": "6b3b88a8",
   "metadata": {},
   "source": [
    "### 16. Can you explain the concept of spatial pooling in CNNs and its role in feature extraction?\n",
    "- Spatial Pyramid Pooling (SPP) is a pooling layer that removes the fixed-size constraint of the network, i.e. a CNN does not require a fixed-size input image. Specifically, we add an SPP layer on top of the last convolutional layer.\n"
   ]
  },
  {
   "cell_type": "markdown",
   "id": "48e69fb0",
   "metadata": {},
   "source": [
    "### 17. What are the different techniques used for handling class imbalance in CNNs?\n",
    "##### The experiment involves these five methods which cover most of the commonly used approaches in the context of deep learning.\n",
    "- Random minority oversampling.\n",
    "- Random majority undersampling.\n",
    "- Thresholding with prior class probabilities.\n",
    "- Oversampling with thresholding.\n",
    "- Undersampling with thresholding."
   ]
  },
  {
   "cell_type": "markdown",
   "id": "7a291740",
   "metadata": {},
   "source": [
    "### 18. Describe the concept of transfer learning and its applications in CNN model development.\n",
    "- Transfer learning in a CNN refers to using a pre-trained model on a similar task as a starting point for training a new model on a different task.\n",
    "#### Applications :- \n",
    "- Transfer learning is mostly used in computer vision and natural language processing tasks like sentiment analysis due to the huge amount of computational power required. \n",
    "- Transfer learning isn't really a machine learning technique, but can be seen as a “design methodology” within the field, for example, active learning.\n"
   ]
  },
  {
   "cell_type": "markdown",
   "id": "5ae817c3",
   "metadata": {},
   "source": [
    "### 19. What is the impact of occlusion on CNN object detection performance, and how can it be mitigated?\n",
    "\n",
    "- Occlusion relationships are defined and handled using the relative motion of the articulated object parts. Simple occlusion relationships between two objects A and B are defined using visibility order: A occludes B, B occludes A, A and B are not occluded."
   ]
  },
  {
   "cell_type": "markdown",
   "id": "f2f5e9e4",
   "metadata": {},
   "source": [
    "### 20. Explain the concept of image segmentation and its applications in computer vision tasks.\n",
    "- Image segmentation aims to simplify and/or change the representation of an image into something more meaningful and easier to analyze. Here, each pixel is labeled. All the pixels belonging to the same category have a common label assigned to them.\n",
    "#### Applications :- \n",
    "- medical image analysis\n",
    "- computer vision for autonomous vehicles\n",
    "- face recognition and detection- video surveillance \n",
    "- satellite image analysis."
   ]
  },
  {
   "cell_type": "markdown",
   "id": "181b4be5",
   "metadata": {},
   "source": [
    "### 21. How are CNNs used for instance segmentation, and what are some popular architectures for this task?\n",
    "- CNN architectures have two primary types: segmentations CNNs that identify regions in an image from one or more classes of semantically interpretable objects, and classification CNNs that classify each pixel into one or more classes given a set of real-world object categories.\n",
    "#### CNN Architectures :- \n",
    "- LeNet\n",
    "- AlexNet\n",
    "- VGG\n",
    "- GoogLeNet\n",
    "- ResNet"
   ]
  },
  {
   "cell_type": "markdown",
   "id": "9f6b4559",
   "metadata": {},
   "source": [
    "### 22. Describe the concept of object tracking in computer vision and its challenges.\n",
    "- Object tracking is a computer vision application where a program detects objects and then tracks their movements in space or across different camera angles. Object tracking can identify and follow multiple objects in an image.\n"
   ]
  },
  {
   "cell_type": "markdown",
   "id": "8f415fd3",
   "metadata": {},
   "source": [
    "### 23. What is the role of anchor boxes in object detection models like SSD and Faster R-CNN?\n",
    "- An object detector that uses anchor boxes can process an entire image at once, making real-time object detection systems possible. Because a convolutional neural network (CNN) can process an input image in a convolutional manner, a spatial location in the input can be related to a spatial location in the output.\n"
   ]
  },
  {
   "cell_type": "markdown",
   "id": "438378c8",
   "metadata": {},
   "source": [
    "### 24. Can you explain the architecture and working principles of the Mask R-CNN model?\n",
    "- Mask R-CNN uses anchor boxes to detect multiple objects, objects of different scales, and overlapping objects in an image. This improves the speed and efficiency for object detection. Anchor boxes are a set of predefined bounding boxes of a certain height and width.\n"
   ]
  },
  {
   "cell_type": "markdown",
   "id": "d6f14989",
   "metadata": {},
   "source": [
    "### 25. How are CNNs used for optical character recognition (OCR), and what challenges are involved in this task?\n",
    "- Convolutional Neural Networks (CNNs) are a type of deep learning model that is highly effective in image recognition tasks. OCR solutions that leverage CNNs can learn and generalize features from input images, making them capable of handling a wide range of text recognition scenarios.\n"
   ]
  },
  {
   "cell_type": "markdown",
   "id": "f46c757c",
   "metadata": {},
   "source": [
    "### 26. Describe the concept of image embedding and its applications in similarity-based image retrieval.\n",
    "- Image embedding is a vector representation of an image in which images with similar motives have similar vector profiles. Embedder transforms each image into one vector of numbers.\n",
    "- The main applications of the image similarity technique include image retrieval, object recognition, and face recognition. Image similarity, for example, is used in image retrieval to find images similar to a query image. \n",
    "- Image similarity can be used in object recognition to match a given object with a known database.\n"
   ]
  },
  {
   "cell_type": "markdown",
   "id": "815b12d3",
   "metadata": {},
   "source": [
    "### 27. What are the benefits of model distillation in CNNs, and how is it implemented?\n",
    "- With model distillation, a separate inference-optimized model is trained using the training-optimized model, in a process known as distillation, where knowledge transfer happens. If done correctly, model distillation allows the inference-optimized model to keep almost all the quality of the training-optimized model."
   ]
  },
  {
   "cell_type": "markdown",
   "id": "29a055da",
   "metadata": {},
   "source": [
    "### 28. Explain the concept of model quantization and its impact on CNN model efficiency.\n",
    "- A quantized model executes some or all of the operations on tensors with reduced precision rather than full precision (floating point) values. This allows for a more compact model representation and the use of high performance vectorized operations on many hardware platforms.\n",
    "- Quantization is an optimization technique that reduces the precision of the models parameters from 32-bit floating point values to 8-bit (int8) values without compromising the accuracy, resulting in a reduced model size, improved portability, and faster computation.\n"
   ]
  },
  {
   "cell_type": "markdown",
   "id": "971e9be3",
   "metadata": {},
   "source": [
    "### 29. How does distributed training of CNN models across multiple machines or GPUs improve performance?\n",
    "- Once multiple GPUs are added to your systems, you need to build parallelism into your deep learning processes. There are two main methods to add parallelism—models and data. Model parallelism is a method you can use when your parameters are too large for your memory constraints.\n"
   ]
  },
  {
   "cell_type": "markdown",
   "id": "91b392b3",
   "metadata": {},
   "source": [
    "### 30. Compare and contrast the features and capabilities of PyTorch and TensorFlow frameworks for CNN development.\n",
    "\n",
    "- TensorFlow offers better visualization, which allows developers to debug better and track the training process. PyTorch, however, provides only limited visualization. TensorFlow also beats PyTorch in deploying trained models to production, thanks to the TensorFlow Serving framework.\n"
   ]
  },
  {
   "cell_type": "markdown",
   "id": "7ea8041f",
   "metadata": {},
   "source": [
    "### 31. How do GPUs accelerate CNN training and inference, and what are their limitations?\n",
    "- Deep learning requires a great deal of speed and high performance and models learn more quickly when all operations are processed at once. Because they have thousands of cores, GPUs are optimized for training deep learning models and can process multiple parallel tasks up to three times faster than a CPU.\n",
    "#### limitations :- \n",
    "- The problem is that running ML tasks on GPUs has limitations.\n",
    "- GPUs simply can't scale indefinitely and thus can't perform as robustly as FPGAs developed specifically to deal with ML workloads.\n"
   ]
  },
  {
   "cell_type": "markdown",
   "id": "f5ead0cd",
   "metadata": {},
   "source": [
    "### 32. Discuss the challenges and techniques for handling occlusion in object detection and tracking tasks.\n",
    "\n",
    "- Typically, tracking methods handle occlusion by modelling the object motion using linear and non-linear dynamic models. The derived models will be used to continuously predicting the object location when a tracked object is occluded until the object reappears.\n",
    "#### Four challenges encountered in object tracking\n",
    "- including heavy occlusions\n",
    "- large variation of pose\n",
    "- illumination\n",
    "- background clutter.\n"
   ]
  },
  {
   "cell_type": "markdown",
   "id": "1400adb0",
   "metadata": {},
   "source": [
    "### 33. Explain the impact of illumination changes on CNN performance and techniques for robustness.\n",
    "- Convolutional Neural Network has achieved significant results in pattern recognition, image analysis, and text classification. This study investigates the application of the CNN model on text classification problems by experimentation and analysis.\n"
   ]
  },
  {
   "cell_type": "markdown",
   "id": "dda4f960",
   "metadata": {},
   "source": [
    "### 34. What are some data augmentation techniques used in CNNs, and how do they address the limitations of limited training data?\n",
    "- Data augmentation is the addition of new data artificially derived from existing training data. Techniques include resizing, flipping, rotating, cropping, padding, etc. It helps to address issues like overfitting and data scarcity, and it makes the model robust with better performance.\n"
   ]
  },
  {
   "cell_type": "markdown",
   "id": "fd14ec38",
   "metadata": {},
   "source": [
    "### 35. Describe the concept of class imbalance in CNN classification tasks and techniques for handling it.\n",
    "\n",
    "- Convolutional neural networks (CNNs) are powerful tools for image recognition, but they can also face challenges such as class imbalance and noisy labels. Class imbalance occurs when some classes are overrepresented or underrepresented in the training data, leading to biased predictions.\n",
    "- In machine learning, “imbalanced classes” is a familiar problem particularly occurring in classification when we have datasets with an unequal ratio of data points in each class. Training of model becomes much trickier as typical accuracy is no longer a reliable metric for measuring the performance of the model.\n"
   ]
  },
  {
   "cell_type": "markdown",
   "id": "39609aa4",
   "metadata": {},
   "source": [
    "### 36. How can self-supervised learning be applied in CNNs for unsupervised feature learning?\n",
    "- Self-supervised learning is a machine learning process where the model trains itself to learn one part of the input from another part of the input. It is also known as predictive or pretext learning. In this process, the unsupervised problem is transformed into a supervised problem by auto-generating the labels.\n"
   ]
  },
  {
   "cell_type": "markdown",
   "id": "21eeaed7",
   "metadata": {},
   "source": [
    "### 37. What are some popular CNN architectures specifically designed for medical image analysis tasks?\n",
    "- Especially, One of the CNN architecture which is developed for estimating the tumours in medical images is the U-Net. It was developed for the segmentation process in the biomedical images along with computer vision techniques.\n"
   ]
  },
  {
   "cell_type": "markdown",
   "id": "d9349ff3",
   "metadata": {},
   "source": [
    "### 38. Explain the architecture and principles of the U-Net model for medical image segmentation.\n",
    "- U-Net was introduced in the paper, U-Net: Convolutional Networks for Biomedical Image Segmentation. The model architecture is fairly simple: an encoder (for downsampling) and a decoder (for upsampling) with skip connections. As Figure 1 shows, it shapes like the letter U hence the name U-Net.\n"
   ]
  },
  {
   "cell_type": "markdown",
   "id": "59e81591",
   "metadata": {},
   "source": [
    "### 39. How do CNN models handle noise and outliers in image classification and regression tasks?\n",
    "\n",
    "- All the layers of a CNN have multiple convolutional filters working and scanning the complete feature matrix and carry out the dimensionality reduction. This enables CNN to be a very apt and fit network for image classifications and processing.\n"
   ]
  },
  {
   "cell_type": "markdown",
   "id": "c70aea6c",
   "metadata": {},
   "source": [
    "### 40. Discuss the concept of ensemble learning in CNNs and its benefits in improving model performance.\n",
    "- Ensemble learning combines the predictions from multiple neural network models to reduce the variance of predictions and reduce generalization error. Techniques for ensemble learning can be grouped by the element that is varied, such as training data, the model, and how predictions are combined.\n"
   ]
  },
  {
   "cell_type": "markdown",
   "id": "f5c073bb",
   "metadata": {},
   "source": [
    "### 41. Can you explain the role of attention mechanisms in CNN models and how they improve performance?\n",
    "- Self-attention mechanism in CNN\n",
    "- In order to implement global reference for each pixel-level prediction, Wang et al. proposed self-attention mechanism in CNN Their approach is based on covariance between the predicted pixel and every other pixel, in which each pixel is considered as a random variable.\n"
   ]
  },
  {
   "cell_type": "markdown",
   "id": "59c38c91",
   "metadata": {},
   "source": [
    "### 42. What are adversarial attacks on CNN models, and what techniques can be used for adversarial defense?\n",
    "\n",
    "- The existence of adversarial attacks on convolutional neural networks (CNN) questions the fitness of such models for serious applications. The attacks manipulate an input image such that misclassification is evoked while still looking normal to a human observer -- they are thus not easily detectable.\n"
   ]
  },
  {
   "cell_type": "markdown",
   "id": "69aa6aa1",
   "metadata": {},
   "source": [
    "### 43. How can CNN models be applied to natural language processing (NLP) tasks, such as text classification or sentiment analysis?\n",
    "- CNNs can be used for different classification tasks in NLP. A convolution is a window that slides over a larger input data with an emphasis on a subset of the input matrix. Getting your data in the right dimensions is extremely important for any learning algorithm.\n"
   ]
  },
  {
   "cell_type": "markdown",
   "id": "aacd22e8",
   "metadata": {},
   "source": [
    "### 44. Discuss the concept of multi-modal CNNs and their applications in fusing information from different modalities.\n",
    "- A Multimodal Convolutional Neural Network architecture with X-ray and CT images \n",
    "- In the first model architecture, CNN consists of an input layer, convolutional layers, pooling layers, dropout layers and a classification layer.\n"
   ]
  },
  {
   "cell_type": "markdown",
   "id": "f7823a72",
   "metadata": {},
   "source": [
    "### 45. Explain the concept of model interpretability in CNNs and techniques for visualizing learned features.\n",
    "- Interpretability is about the extent to which a cause and effect can be observed within a system. Or to put it another way, it is the extent to which you are able to predict what is going to happen, given a change in input or algorithmic parameters.\n"
   ]
  },
  {
   "cell_type": "markdown",
   "id": "d64c6ed6",
   "metadata": {},
   "source": [
    "### 46. What are some considerations and challenges in deploying CNN models in production environments?\n",
    "- CNNs represent many challenges such as overfitting, exploding gradients, class imbalance and the need of large datasets. They require high computational power and long time to train which introduce lots of research limitations.\n"
   ]
  },
  {
   "cell_type": "markdown",
   "id": "2fff3307",
   "metadata": {},
   "source": [
    "### 47. Discuss the impact of imbalanced datasets on CNN training and techniques for addressing this issue.\n",
    "\n",
    "- Convolutional neural networks (CNNs) are powerful tools for image recognition, but they can also face challenges such as class imbalance and noisy labels. Class imbalance occurs when some classes are overrepresented or underrepresented in the training data, leading to biased predictions.\n",
    "- In machine learning, “imbalanced classes” is a familiar problem particularly occurring in classification when we have datasets with an unequal ratio of data points in each class. Training of model becomes much trickier as typical accuracy is no longer a reliable metric for measuring the performance of the model."
   ]
  },
  {
   "cell_type": "markdown",
   "id": "e1f4caee",
   "metadata": {},
   "source": [
    "### 48. Explain the concept of transfer learning and its benefits in CNN model development.\n",
    "- Transfer learning in a CNN refers to using a pre-trained model on a similar task as a starting point for training a new model on a different task.\n",
    "- As demonstrated, transfer learning is a very effective technique when working on image classification problems. Now that you've learned it using CNN, you can experiment with different models and perform hyperparameter tuning using Keras tuner.\n"
   ]
  },
  {
   "cell_type": "markdown",
   "id": "97f9b92c",
   "metadata": {},
   "source": [
    "### 49. How do CNN models handle data with missing or incomplete information?\n",
    "- Typical CNNs can only process complete images, in which values of all pixels are known. For incomplete images, the convolutional operation is not defined and there appears a question of how to harness the power of CNNs in this case.\n"
   ]
  },
  {
   "cell_type": "markdown",
   "id": "103ce09b",
   "metadata": {},
   "source": [
    "### 50. Describe the concept of multi-label classification in CNNs and techniques for solving this task.\n",
    "- Multi-label classification involves predicting zero or more class labels. Unlike normal classification tasks where class labels are mutually exclusive, multi-label classification requires specialized machine learning algorithms that support predicting multiple mutually non-exclusive classes or “labels.”\n"
   ]
  }
 ],
 "metadata": {
  "kernelspec": {
   "display_name": "Python 3 (ipykernel)",
   "language": "python",
   "name": "python3"
  },
  "language_info": {
   "codemirror_mode": {
    "name": "ipython",
    "version": 3
   },
   "file_extension": ".py",
   "mimetype": "text/x-python",
   "name": "python",
   "nbconvert_exporter": "python",
   "pygments_lexer": "ipython3",
   "version": "3.10.9"
  }
 },
 "nbformat": 4,
 "nbformat_minor": 5
}
