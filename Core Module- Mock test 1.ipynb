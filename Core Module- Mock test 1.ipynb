{
 "cells": [
  {
   "cell_type": "markdown",
   "id": "10b7cb38",
   "metadata": {},
   "source": [
    "### 17. Write a function that takes a list of numbers as input and returns a new list containing only the even numbers from the input list. Use list comprehension to solve this problem."
   ]
  },
  {
   "cell_type": "code",
   "execution_count": 5,
   "id": "318a783c",
   "metadata": {},
   "outputs": [
    {
     "name": "stdout",
     "output_type": "stream",
     "text": [
      "Even numbers are :  [2, 4, 6, 8, 10]\n"
     ]
    }
   ],
   "source": [
    "def even_numbers(lst):\n",
    "    return [i for i in lst if i%2 == 0]\n",
    "\n",
    "lst = [1,2,3,4,5,6,7,8,9,10]\n",
    "print(\"Even numbers are : \",even_numbers(lst))"
   ]
  },
  {
   "cell_type": "markdown",
   "id": "addbf8ea",
   "metadata": {},
   "source": [
    "### 18. Implement a decorator function called ‘timer’ that measures the execution time of a function. The ‘timer’ decorator should print the time taken by the decorated function to execute. Use the ‘time’ module in Python to calculate the execution time."
   ]
  },
  {
   "cell_type": "code",
   "execution_count": 6,
   "id": "659d59ab",
   "metadata": {},
   "outputs": [
    {
     "name": "stdout",
     "output_type": "stream",
     "text": [
      "Function 'long_time' executed in 0.0590s\n"
     ]
    }
   ],
   "source": [
    "from time import time\n",
    "  \n",
    "\n",
    "def timer_func(func):\n",
    "    # This function shows the execution time of \n",
    "    # the function object passed\n",
    "    def wrap_func(*args, **kwargs):\n",
    "        t1 = time()\n",
    "        result = func(*args, **kwargs)\n",
    "        t2 = time()\n",
    "        print(f'Function {func.__name__!r} executed in {(t2-t1):.4f}s')\n",
    "        return result\n",
    "    return wrap_func\n",
    "  \n",
    "  \n",
    "@timer_func\n",
    "def long_time(n):\n",
    "    for i in range(n):\n",
    "        for j in range(100000):\n",
    "            i*j\n",
    "  \n",
    "  \n",
    "long_time(5)"
   ]
  },
  {
   "cell_type": "markdown",
   "id": "314b4b3b",
   "metadata": {},
   "source": [
    "### 19. Write a function called ‘calculate_mean’ that takes a list of numbers as input and returns the mean (average) of the numbers. The function should calculate the mean using the sum of the numbers divided by the total count."
   ]
  },
  {
   "cell_type": "code",
   "execution_count": 8,
   "id": "386685ed",
   "metadata": {},
   "outputs": [
    {
     "name": "stdout",
     "output_type": "stream",
     "text": [
      "Mean :  20.0\n"
     ]
    }
   ],
   "source": [
    "def calculate_mean(lst):\n",
    "    sum = 0\n",
    "    for i in lst:\n",
    "        sum +=i\n",
    "    return sum/len(lst)\n",
    "\n",
    "lst =  [10, 15, 20, 25, 30]\n",
    "result = calculate_mean(lst)\n",
    "print(\"Mean : \",result)"
   ]
  },
  {
   "cell_type": "markdown",
   "id": "14a48334",
   "metadata": {},
   "source": [
    "### 20. Write a function called ‘perform_hypothesis_test’ that takes two lists of numbers as input, representing two samples. The function should perform a two-sample t-test and return the p-value. Use the ‘scipy.stats’ module in Python to calculate the t-test and p-value."
   ]
  },
  {
   "cell_type": "code",
   "execution_count": 10,
   "id": "25b1d841",
   "metadata": {},
   "outputs": [
    {
     "name": "stdout",
     "output_type": "stream",
     "text": [
      "P-value: 0.44652136774155204\n"
     ]
    }
   ],
   "source": [
    "from scipy import stats\n",
    "\n",
    "def perform_hypothesis_test(sample1, sample2):\n",
    "    t_statistic, p_value = stats.ttest_ind(sample1, sample2)\n",
    "    return p_value\n",
    "\n",
    "sample1 = [12,54,34,87,23]\n",
    "sample2 = [10, 20, 30, 40, 50]\n",
    "p_value = perform_hypothesis_test(sample1, sample2)\n",
    "\n",
    "print(\"P-value:\", p_value)\n"
   ]
  },
  {
   "cell_type": "code",
   "execution_count": null,
   "id": "a1453179",
   "metadata": {},
   "outputs": [],
   "source": []
  }
 ],
 "metadata": {
  "kernelspec": {
   "display_name": "Python 3 (ipykernel)",
   "language": "python",
   "name": "python3"
  },
  "language_info": {
   "codemirror_mode": {
    "name": "ipython",
    "version": 3
   },
   "file_extension": ".py",
   "mimetype": "text/x-python",
   "name": "python",
   "nbconvert_exporter": "python",
   "pygments_lexer": "ipython3",
   "version": "3.10.9"
  }
 },
 "nbformat": 4,
 "nbformat_minor": 5
}
