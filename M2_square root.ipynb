{
 "cells": [
  {
   "cell_type": "markdown",
   "id": "1dab026a",
   "metadata": {},
   "source": [
    "### Square root of a number"
   ]
  },
  {
   "cell_type": "code",
   "execution_count": 1,
   "id": "32846206",
   "metadata": {},
   "outputs": [
    {
     "data": {
      "text/plain": [
       "2"
      ]
     },
     "execution_count": 1,
     "metadata": {},
     "output_type": "execute_result"
    }
   ],
   "source": [
    "def square_root(num):\n",
    "    for i in range(num):\n",
    "        if i*i == num:\n",
    "            return i\n",
    "        if i*i > num:\n",
    "            return i-1\n",
    "square_root(8)"
   ]
  }
 ],
 "metadata": {
  "kernelspec": {
   "display_name": "Python 3 (ipykernel)",
   "language": "python",
   "name": "python3"
  },
  "language_info": {
   "codemirror_mode": {
    "name": "ipython",
    "version": 3
   },
   "file_extension": ".py",
   "mimetype": "text/x-python",
   "name": "python",
   "nbconvert_exporter": "python",
   "pygments_lexer": "ipython3",
   "version": "3.10.9"
  }
 },
 "nbformat": 4,
 "nbformat_minor": 5
}
