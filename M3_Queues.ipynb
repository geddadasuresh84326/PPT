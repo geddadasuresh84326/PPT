{
 "cells": [
  {
   "cell_type": "code",
   "execution_count": 14,
   "id": "3aa311aa",
   "metadata": {},
   "outputs": [],
   "source": [
    "## implementing Queue using list\n",
    "class Queue:\n",
    "    ## defining constructor\n",
    "    def __init__(self):\n",
    "        self.queue = []\n",
    "    ## creating a function to insert elements into queue\n",
    "    def enqueue(self,data):\n",
    "        self.queue.append(data)\n",
    "    ## deleting an element of queue\n",
    "    def dequeue(self):\n",
    "        return self.queue.pop(0)\n",
    "    def printing_of_queue(self):\n",
    "        print(self.queue)\n",
    "    def isEmpty(self):\n",
    "        return len(self.queue) == 0"
   ]
  },
  {
   "cell_type": "code",
   "execution_count": 15,
   "id": "411ed240",
   "metadata": {},
   "outputs": [],
   "source": [
    "q = Queue()\n",
    "\n",
    "## inserting elements into queue\n",
    "q.enqueue(10)\n",
    "q.enqueue(20)\n",
    "q.enqueue(30)\n",
    "q.enqueue(40)\n",
    "q.enqueue(50)"
   ]
  },
  {
   "cell_type": "code",
   "execution_count": 16,
   "id": "f2598de4",
   "metadata": {},
   "outputs": [
    {
     "name": "stdout",
     "output_type": "stream",
     "text": [
      "[10, 20, 30, 40, 50]\n"
     ]
    }
   ],
   "source": [
    "## printing queue elements\n",
    "q.printing_of_queue()"
   ]
  },
  {
   "cell_type": "code",
   "execution_count": 17,
   "id": "3944bf41",
   "metadata": {},
   "outputs": [
    {
     "data": {
      "text/plain": [
       "10"
      ]
     },
     "execution_count": 17,
     "metadata": {},
     "output_type": "execute_result"
    }
   ],
   "source": [
    "## deleting element from queue\n",
    "q.dequeue()"
   ]
  },
  {
   "cell_type": "code",
   "execution_count": 18,
   "id": "a8e43f43",
   "metadata": {},
   "outputs": [
    {
     "name": "stdout",
     "output_type": "stream",
     "text": [
      "[20, 30, 40, 50]\n"
     ]
    }
   ],
   "source": [
    "## printing queue elements\n",
    "q.printing_of_queue()"
   ]
  },
  {
   "cell_type": "code",
   "execution_count": 19,
   "id": "f06a2924",
   "metadata": {},
   "outputs": [
    {
     "data": {
      "text/plain": [
       "False"
      ]
     },
     "execution_count": 19,
     "metadata": {},
     "output_type": "execute_result"
    }
   ],
   "source": [
    "## checking if the queue is empty or not\n",
    "q.isEmpty()"
   ]
  },
  {
   "cell_type": "code",
   "execution_count": 23,
   "id": "1612c584",
   "metadata": {},
   "outputs": [
    {
     "data": {
      "text/plain": [
       "50"
      ]
     },
     "execution_count": 23,
     "metadata": {},
     "output_type": "execute_result"
    }
   ],
   "source": [
    "q.dequeue()\n",
    "q.dequeue()\n",
    "q.dequeue()"
   ]
  },
  {
   "cell_type": "code",
   "execution_count": 24,
   "id": "02fd198c",
   "metadata": {},
   "outputs": [
    {
     "data": {
      "text/plain": [
       "True"
      ]
     },
     "execution_count": 24,
     "metadata": {},
     "output_type": "execute_result"
    }
   ],
   "source": [
    "q.isEmpty()"
   ]
  }
 ],
 "metadata": {
  "kernelspec": {
   "display_name": "Python 3 (ipykernel)",
   "language": "python",
   "name": "python3"
  },
  "language_info": {
   "codemirror_mode": {
    "name": "ipython",
    "version": 3
   },
   "file_extension": ".py",
   "mimetype": "text/x-python",
   "name": "python",
   "nbconvert_exporter": "python",
   "pygments_lexer": "ipython3",
   "version": "3.10.9"
  }
 },
 "nbformat": 4,
 "nbformat_minor": 5
}
