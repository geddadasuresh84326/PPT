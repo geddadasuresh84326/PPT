{
 "cells": [
  {
   "cell_type": "code",
   "execution_count": 13,
   "id": "123b4b1d",
   "metadata": {},
   "outputs": [],
   "source": [
    "## Creation of stack using list\n",
    "class Stack:\n",
    "    ## constructor\n",
    "    def __init__(self):\n",
    "        self.stack = []\n",
    "    ## inserting element in stack\n",
    "    def push(self,data):\n",
    "        self.stack.append(data)\n",
    "    ## deleting element in stack\n",
    "    def pop(self):\n",
    "        return self.stack.pop()\n",
    "    ## to check the stack is empty or not\n",
    "    def isEmpty(self):\n",
    "        return len(self.stack) == 0\n",
    "    def printing_of_stack(self):\n",
    "        print(self.stack)"
   ]
  },
  {
   "cell_type": "code",
   "execution_count": 14,
   "id": "6f84ff37",
   "metadata": {},
   "outputs": [],
   "source": [
    "## creating a stack\n",
    "s = Stack()\n",
    "\n",
    "## pushing elements into stack\n",
    "s.push(10)\n",
    "s.push(20)\n",
    "s.push(30)\n",
    "s.push(40)"
   ]
  },
  {
   "cell_type": "code",
   "execution_count": 15,
   "id": "56f5d39a",
   "metadata": {},
   "outputs": [
    {
     "name": "stdout",
     "output_type": "stream",
     "text": [
      "[10, 20, 30, 40]\n"
     ]
    }
   ],
   "source": [
    "## printing values of a stack\n",
    "s.printing_of_stack()"
   ]
  },
  {
   "cell_type": "code",
   "execution_count": 16,
   "id": "a2bde6a0",
   "metadata": {},
   "outputs": [
    {
     "data": {
      "text/plain": [
       "40"
      ]
     },
     "execution_count": 16,
     "metadata": {},
     "output_type": "execute_result"
    }
   ],
   "source": [
    "## deleting element from stack\n",
    "s.pop()"
   ]
  },
  {
   "cell_type": "code",
   "execution_count": 17,
   "id": "10baa6a8",
   "metadata": {},
   "outputs": [
    {
     "name": "stdout",
     "output_type": "stream",
     "text": [
      "[10, 20, 30]\n"
     ]
    }
   ],
   "source": [
    "## printing values of a stack\n",
    "s.printing_of_stack()"
   ]
  },
  {
   "cell_type": "code",
   "execution_count": 18,
   "id": "13c4bfe3",
   "metadata": {},
   "outputs": [
    {
     "data": {
      "text/plain": [
       "False"
      ]
     },
     "execution_count": 18,
     "metadata": {},
     "output_type": "execute_result"
    }
   ],
   "source": [
    "## checking if the stack is empty or not\n",
    "s.isEmpty()"
   ]
  },
  {
   "cell_type": "code",
   "execution_count": null,
   "id": "ef209e91",
   "metadata": {},
   "outputs": [],
   "source": []
  }
 ],
 "metadata": {
  "kernelspec": {
   "display_name": "Python 3 (ipykernel)",
   "language": "python",
   "name": "python3"
  },
  "language_info": {
   "codemirror_mode": {
    "name": "ipython",
    "version": 3
   },
   "file_extension": ".py",
   "mimetype": "text/x-python",
   "name": "python",
   "nbconvert_exporter": "python",
   "pygments_lexer": "ipython3",
   "version": "3.10.9"
  }
 },
 "nbformat": 4,
 "nbformat_minor": 5
}
