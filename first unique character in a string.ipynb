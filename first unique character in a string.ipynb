{
 "cells": [
  {
   "cell_type": "code",
   "execution_count": 26,
   "id": "1be3d351",
   "metadata": {},
   "outputs": [
    {
     "data": {
      "text/plain": [
       "0"
      ]
     },
     "execution_count": 26,
     "metadata": {},
     "output_type": "execute_result"
    }
   ],
   "source": [
    "## function to find unique character in a string\n",
    "def first_unique_character(str):\n",
    "    \n",
    "    # taking a dictionary to store frequency of the characters\n",
    "    dict = {}\n",
    "    \n",
    "    # iterating over the string\n",
    "    for i in str:\n",
    "        \n",
    "        # if the character not in dictionary it will store \n",
    "        if i not in dict:\n",
    "            dict[i] = 1\n",
    "        else:\n",
    "        # if the character is already there it's count increased by 1\n",
    "            dict[i] = dict[i]+1\n",
    "            \n",
    "    for key in dict.keys():\n",
    "        \n",
    "        # condition to check character with frequency 1\n",
    "        if dict[key] == 1:\n",
    "            return str.index(key)\n",
    "    # if no character with frequency 1 is found it returns -1\n",
    "    return -1\n",
    "\n",
    "first_unique_character(\"leetcode\")"
   ]
  },
  {
   "cell_type": "code",
   "execution_count": 27,
   "id": "5f9ac1c1",
   "metadata": {},
   "outputs": [
    {
     "data": {
      "text/plain": [
       "2"
      ]
     },
     "execution_count": 27,
     "metadata": {},
     "output_type": "execute_result"
    }
   ],
   "source": [
    "first_unique_character(\"loveleetcode\")  "
   ]
  },
  {
   "cell_type": "code",
   "execution_count": 28,
   "id": "1d30888a",
   "metadata": {},
   "outputs": [
    {
     "data": {
      "text/plain": [
       "-1"
      ]
     },
     "execution_count": 28,
     "metadata": {},
     "output_type": "execute_result"
    }
   ],
   "source": [
    "first_unique_character(\"aabb\")  "
   ]
  },
  {
   "cell_type": "code",
   "execution_count": null,
   "id": "b246a971",
   "metadata": {},
   "outputs": [],
   "source": []
  }
 ],
 "metadata": {
  "kernelspec": {
   "display_name": "Python 3 (ipykernel)",
   "language": "python",
   "name": "python3"
  },
  "language_info": {
   "codemirror_mode": {
    "name": "ipython",
    "version": 3
   },
   "file_extension": ".py",
   "mimetype": "text/x-python",
   "name": "python",
   "nbconvert_exporter": "python",
   "pygments_lexer": "ipython3",
   "version": "3.10.9"
  }
 },
 "nbformat": 4,
 "nbformat_minor": 5
}
