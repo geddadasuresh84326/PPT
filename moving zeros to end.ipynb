{
 "cells": [
  {
   "cell_type": "code",
   "execution_count": 3,
   "id": "a4793c9b",
   "metadata": {},
   "outputs": [
    {
     "data": {
      "text/plain": [
       "[1, 4, 2, 6, 4, 0, 0, 0]"
      ]
     },
     "execution_count": 3,
     "metadata": {},
     "output_type": "execute_result"
    }
   ],
   "source": [
    "# defining function to move zeros to the end\n",
    "def moving_zeros_to_end(arr):\n",
    "    \n",
    "    # initializing j with 0\n",
    "    j = 0\n",
    "    \n",
    "    # iterating over the array\n",
    "    for i in range(len(arr)):\n",
    "        \n",
    "        # condtion to check value at ith index should not be 0 and value at jth index should be 0\n",
    "        if(arr[i] !=0 and arr[j] == 0):\n",
    "            \n",
    "            # if condition true,perform swap operation\n",
    "            temp = arr[i]\n",
    "            arr[i] = arr[j]\n",
    "            arr[j] = temp\n",
    "            \n",
    "        # condtion to check value at value at jth index should not be 0\n",
    "        if(arr[j] != 0):\n",
    "            \n",
    "            # incrementing j value\n",
    "            j +=1\n",
    "    # returning the resulting array\n",
    "    return arr\n",
    "moving_zeros_to_end([1,0,4,0,2,6,4,0])"
   ]
  },
  {
   "cell_type": "code",
   "execution_count": 4,
   "id": "91a63680",
   "metadata": {},
   "outputs": [
    {
     "data": {
      "text/plain": [
       "[1, 3, 12, 0, 0]"
      ]
     },
     "execution_count": 4,
     "metadata": {},
     "output_type": "execute_result"
    }
   ],
   "source": [
    "moving_zeros_to_end( [0,1,0,3,12])\n"
   ]
  },
  {
   "cell_type": "code",
   "execution_count": null,
   "id": "3ad59a80",
   "metadata": {},
   "outputs": [],
   "source": []
  }
 ],
 "metadata": {
  "kernelspec": {
   "display_name": "Python 3 (ipykernel)",
   "language": "python",
   "name": "python3"
  },
  "language_info": {
   "codemirror_mode": {
    "name": "ipython",
    "version": 3
   },
   "file_extension": ".py",
   "mimetype": "text/x-python",
   "name": "python",
   "nbconvert_exporter": "python",
   "pygments_lexer": "ipython3",
   "version": "3.10.9"
  }
 },
 "nbformat": 4,
 "nbformat_minor": 5
}
